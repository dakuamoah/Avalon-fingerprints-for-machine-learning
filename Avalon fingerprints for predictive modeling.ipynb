{
 "cells": [
  {
   "cell_type": "markdown",
   "metadata": {},
   "source": [
    "<div style=\"background-color:lightgreen; border-style: dotted;border-color: yellow;text-align:center;color:blue;font-size:20px;border-radius: 50px;padding: 20px 20px;\"><strong> Gashaw M. Goshu, Ph.D. in Chemistry</strong></div>"
   ]
  },
  {
   "cell_type": "markdown",
   "metadata": {},
   "source": [
    "#### In the previous [molecular fingerprints video](https://www.youtube.com/watch?v=-oHqQBUyrQ0), we saw how to generate molecular fingerprints and use them for structure search."
   ]
  },
  {
   "cell_type": "markdown",
   "metadata": {},
   "source": [
    "#### In this notebook, I will use Avalon fingerprints to develop predictive models for molecular property (energy gap) and reactions outcome (yield and enantioselectivity).\n",
    "* HOMO-LUMO energy gap of organic compouds\n",
    "* Yield Prediction of C–N cross coupling reactions\n",
    "* Catalytic enantioselectivity of thiol-imine reactions"
   ]
  },
  {
   "cell_type": "markdown",
   "metadata": {},
   "source": [
    "<div>\n",
    "    <img src = \"Fingerprints_predictive.JPG\", width=\"600\">\n",
    "</div>"
   ]
  },
  {
   "cell_type": "code",
   "execution_count": 1,
   "metadata": {},
   "outputs": [],
   "source": [
    "import pandas as pd\n",
    "import numpy as np\n",
    "import seaborn as sns\n",
    "import matplotlib.pyplot as plt\n",
    "import matplotlib.patches as mpatches\n",
    "#-------------------------------------------------------\n",
    "from rdkit.Chem import AllChem\n",
    "from rdkit import Chem\n",
    "from rdkit.DataStructs.cDataStructs import ExplicitBitVect\n",
    "from rdkit.Avalon import pyAvalonTools\n",
    "from rdkit.Chem import PandasTools\n",
    "from rdkit.Chem import rdMolDescriptors\n",
    "from tqdm import tqdm\n",
    "#--------------------------------------------------------\n",
    "from sklearn.metrics import r2_score, mean_absolute_error, mean_squared_error\n",
    "from sklearn.ensemble import RandomForestRegressor\n",
    "import time\n",
    "from sklearn.model_selection import ShuffleSplit, cross_validate,train_test_split\n",
    "#--------------------------------------------------------\n",
    "from lightgbm import LGBMRegressor"
   ]
  },
  {
   "cell_type": "markdown",
   "metadata": {},
   "source": [
    "### Dataset obtained [Sandfort et al.](https://zivgitlab.uni-muenster.de/m_kueh11/fp-dm-tool)."
   ]
  },
  {
   "cell_type": "markdown",
   "metadata": {},
   "source": [
    "\n",
    "<div style= \" border-style:dotted;text-align:left;color:blue;font-size:25px;border-radius: 10px;padding: 20px 20px;\">\n",
    "1. HOMO-LUMO energy gap of molecules. \n",
    "\n",
    "</div>\n"
   ]
  },
  {
   "cell_type": "code",
   "execution_count": 2,
   "metadata": {},
   "outputs": [
    {
     "data": {
      "text/html": [
       "<div>\n",
       "<style scoped>\n",
       "    .dataframe tbody tr th:only-of-type {\n",
       "        vertical-align: middle;\n",
       "    }\n",
       "\n",
       "    .dataframe tbody tr th {\n",
       "        vertical-align: top;\n",
       "    }\n",
       "\n",
       "    .dataframe thead th {\n",
       "        text-align: right;\n",
       "    }\n",
       "</style>\n",
       "<table border=\"1\" class=\"dataframe\">\n",
       "  <thead>\n",
       "    <tr style=\"text-align: right;\">\n",
       "      <th></th>\n",
       "      <th>SMILES</th>\n",
       "      <th>Energygap</th>\n",
       "    </tr>\n",
       "  </thead>\n",
       "  <tbody>\n",
       "    <tr>\n",
       "      <th>0</th>\n",
       "      <td>Cc1ccc(cc1)C(F)(F)F</td>\n",
       "      <td>197.749421</td>\n",
       "    </tr>\n",
       "    <tr>\n",
       "      <th>1</th>\n",
       "      <td>OC(=O)CCCCl</td>\n",
       "      <td>247.493942</td>\n",
       "    </tr>\n",
       "    <tr>\n",
       "      <th>2</th>\n",
       "      <td>CC(C)(Oc1ccc(CCNC(=O)c2ccc(Cl)cc2)cc1)C(=O)O</td>\n",
       "      <td>164.712327</td>\n",
       "    </tr>\n",
       "    <tr>\n",
       "      <th>3</th>\n",
       "      <td>Nc1ccc(Cl)c(Cl)c1</td>\n",
       "      <td>169.027707</td>\n",
       "    </tr>\n",
       "    <tr>\n",
       "      <th>4</th>\n",
       "      <td>C[C@@H](CCO)CCC=C(C)C</td>\n",
       "      <td>209.569808</td>\n",
       "    </tr>\n",
       "  </tbody>\n",
       "</table>\n",
       "</div>"
      ],
      "text/plain": [
       "                                         SMILES   Energygap\n",
       "0                           Cc1ccc(cc1)C(F)(F)F  197.749421\n",
       "1                                   OC(=O)CCCCl  247.493942\n",
       "2  CC(C)(Oc1ccc(CCNC(=O)c2ccc(Cl)cc2)cc1)C(=O)O  164.712327\n",
       "3                             Nc1ccc(Cl)c(Cl)c1  169.027707\n",
       "4                         C[C@@H](CCO)CCC=C(C)C  209.569808"
      ]
     },
     "execution_count": 2,
     "metadata": {},
     "output_type": "execute_result"
    }
   ],
   "source": [
    "# Reference for the datasets: https://zivgitlab.uni-muenster.de/m_kueh11/fp-dm-tool\n",
    "# but, I converted excel files to csv files \n",
    "\n",
    "dataset = pd.read_csv(\"Orbital_Energies_input_data.csv\")\n",
    "dataset.head()"
   ]
  },
  {
   "cell_type": "code",
   "execution_count": 3,
   "metadata": {},
   "outputs": [
    {
     "data": {
      "text/plain": [
       "(2904, 2)"
      ]
     },
     "execution_count": 3,
     "metadata": {},
     "output_type": "execute_result"
    }
   ],
   "source": [
    "dataset.shape"
   ]
  },
  {
   "cell_type": "code",
   "execution_count": 4,
   "metadata": {},
   "outputs": [],
   "source": [
    "# Include 2D structure of molecules\n",
    "PandasTools.AddMoleculeColumnToFrame(dataset,'SMILES','Stucture',includeFingerprints=True)"
   ]
  },
  {
   "cell_type": "code",
   "execution_count": 5,
   "metadata": {},
   "outputs": [
    {
     "data": {
      "text/html": [
       "<div>\n",
       "<style scoped>\n",
       "    .dataframe tbody tr th:only-of-type {\n",
       "        vertical-align: middle;\n",
       "    }\n",
       "\n",
       "    .dataframe tbody tr th {\n",
       "        vertical-align: top;\n",
       "    }\n",
       "\n",
       "    .dataframe thead th {\n",
       "        text-align: right;\n",
       "    }\n",
       "</style>\n",
       "<table border=\"1\" class=\"dataframe\">\n",
       "  <thead>\n",
       "    <tr style=\"text-align: right;\">\n",
       "      <th></th>\n",
       "      <th>SMILES</th>\n",
       "      <th>Energygap</th>\n",
       "      <th>Stucture</th>\n",
       "    </tr>\n",
       "  </thead>\n",
       "  <tbody>\n",
       "    <tr>\n",
       "      <th>0</th>\n",
       "      <td>Cc1ccc(cc1)C(F)(F)F</td>\n",
       "      <td>197.749421</td>\n",
       "      <td><img data-content=\"rdkit/molecule\" src=\"data:image/png;base64,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\" alt=\"Mol\"/></td>\n",
       "    </tr>\n",
       "    <tr>\n",
       "      <th>1</th>\n",
       "      <td>OC(=O)CCCCl</td>\n",
       "      <td>247.493942</td>\n",
       "      <td><img data-content=\"rdkit/molecule\" src=\"data:image/png;base64,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\" alt=\"Mol\"/></td>\n",
       "    </tr>\n",
       "    <tr>\n",
       "      <th>2</th>\n",
       "      <td>CC(C)(Oc1ccc(CCNC(=O)c2ccc(Cl)cc2)cc1)C(=O)O</td>\n",
       "      <td>164.712327</td>\n",
       "      <td><img data-content=\"rdkit/molecule\" src=\"data:image/png;base64,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\" alt=\"Mol\"/></td>\n",
       "    </tr>\n",
       "    <tr>\n",
       "      <th>3</th>\n",
       "      <td>Nc1ccc(Cl)c(Cl)c1</td>\n",
       "      <td>169.027707</td>\n",
       "      <td><img data-content=\"rdkit/molecule\" src=\"data:image/png;base64,iVBORw0KGgoAAAANSUhEUgAAAMgAAADICAIAAAAiOjnJAAAABmJLR0QA/wD/AP+gvaeTAAAT/klEQVR4nO2de1RU1RrAvxlAHEBUEBHfIqQiiqag8hAkQChTK6mk0FYlrnzd1eNqrUzysVpqr7mW3Uu1Sqp1LcqVYgIKGTCACoiAiOSMSogj8pJBBmcYZs79Y3vHaWZAXvucOcP3W/yhZ+8551N+s/c++3xnbwHDMIAgA42Q6wAQ6wTFQqiAYiFUQLEQKqBYCBVQLIQKKBZCBRQLoQKKhVABxUKogGIhVECxECqgWAgVUCyECigWQgUUC6ECioVQAcVCqIBiIVRAsRAqoFgIFVAshAooFkIFFAuhAoqFUAHFQqiAYiFUQLEQKqBYCBVQLIQKKBZCBRQLoQKKhVABxUKogGIhVECxECqgWAgVUCyECigWQgUUC6ECioVQAcVCqIBiIVRAsRAqoFgIFVAsWty5c+fy5ctcR8EZtlwHYFXI5fL8/Py8vLz8/PwLFy74+vo6Ojp+880306dP5zo0thHgfoX9QavVVlRUSCQS4lNtba2+aOjQoSNGjKirq5s0aZJEIpkwYQKHcbIPitVr2tvbS0pKiEkFBQXNzc36Imdn54CAgKCgoODg4ODgYJ1OFx0dLZFIvL29JRKJu7s7h2GzDIrVI1pbWwsLC7OysvLy8oqLi9Vqtb7Iw8MjODiYyDR37lyh8G/DVoVCER4eXlJSMnv27Ozs7JEjR7IeOzegWF1iOGAqKSnR/0fZ2NhMmzaNyBQaGjpp0qTuz9PQ0LB48eKqqqpFixadOnXKycmJfuzcg2I9QKvVVlVVEZlycnJqamr0RY6OjnPmzCEyhYSEjBgxoldnrq2tDQkJqa6ujoiI+O233+zt7Qc6dotjsIvV1tZWWlpKZJJIJAqFQl/k7u7u7+9PZAoICBgyZEh/LiSTyUJCQurq6lauXPnzzz/b2lr5/fhgFKuurq6oqIjIVFhYqNFo9EWenp5ktBQUFOTj4yMQCAbwuuXl5UuWLGlubl6zZs2hQ4cG9uSWxmAR69q1a2S0lJeXV1lZqT9ua2vr5+dHZAoLC3Nzc6MaxtmzZyMjI9va2jZv3nzgwAGq1+IYZhCQm5treLPm5OQUERGRmJiYmZnZ3t7OcjBZWVlkjLVz506WL80m1i8Wea4ybNiwuLi4gwcPlpeXa7Va2hdVq9VxcXEZGRlmS3/99Vcyxvroo49oR8IV1i/Wvn37AOCll15i86IHDx4kTeOZM2fMVvjuu++EQqFAIPj666/ZDIw1rF+s4OBgADhy5AibF9XpdK+88goADB8+nMyBmfLZZ58BgI2NTUpKCpuxsYOVi9XY2GhjY2Nvb9/a2srypTs7O2NjYwFg9OjRVVVVZuskJiYCwJAhQ9LS0lgOjzZWLtahQ4cAIDo6mpOrq9Xq6OhoAJgwYUJ1dbXZOm+99RYAODg45ObmshweVaxcrGeeeQYADh48yFUASqWS9MXe3t51dXWmFXQ63auvvko6zfPnz7MfISWsWSyVSjVs2DAAuH79OodhtLS0zJ07FwD8/Pyam5tNK3R2dj777LMA4ObmdvnyZfYjpIE1i5WRkQEAc+bMMS3SaDRsRlJfX09y/RYtWtTW1mZaQa1Wx8TEAMD48eO5/RoYAedB/yO+LTY8LlVJu/sg/dg4Y+PGjQCwY8cOo+MtLS0jRoxYtWqVTqdjLZiamhqSBxEZGalSqUwrKJXKxYsXA4CXl9etW7dYC6wrpCopnIc0xYO7CjgPCX8l6P88eMWaPHkyABQVFRkdP3z4MACEh4ezHM+VK1fGjBkDAE899ZTZJlOhUMybNw8AZs+ebbbTZJPAqkDDJophmDRFmt6nwStWaWkpAHh4eJg2S3FxcQDw6aefsh9VWVkZyfVbu3at2fayvr5+xowZALBw4cK7d++yHyGBNFfdqDN4xdq1axcAJCQkGB3XaDTkV3vlyhVOAjtz5gzJ9duyZYvZCjdu3CBtbUREhNlOkyoqnaqsvYw0Tt1UG7xi+fv7A8Dx48eNjp8+fRoAfHx8OImKkJmZSZ5D796922wFqVRKOs2VK1eycJ/R2tma2ZqZKE+MuBIhuiCyK7H7teVXFMsMcrlcIBCIRCKlUmlU9PrrrwPA22+/zUlgevTPoT/++GOzFcrLy11cXABgzZo1NJ6aV6urf2j64bWa13wrfYXnhfpbP+F54azKWVmtWWbV0R8ZpGJ9+eWXALB8+XLTIm9vbwDIz89nPyojkpOTBQJBN8+hz549SzrNTZs29f9ynbrOinsVSQ1J8dfjp1ycYjiPYFdiN+/yvC03tqQ0pzRqGkl908G74X3iIBXrySefBICvvvrK6DhJ8XNzc+vs7OQkMCNIrl83z6GzsrKGDh0KAO+//34fzq9UKrOzsz+SfRQtjXYudTaUybXMdbls+f66/flt+Wqd2vSzRCOjuatBPd3Q3t7u4OAgFApNZ4P27t3LfgpN9+zYsYM8h05PTzdb4ejRo6TT/PDDD3tyQoVCkZmZmZiYGBERQUZyISdDiEwe5R6x12LFt8XFymIt06PuFSdIH5CamgoACxYsMC0KCgpiP4Xmobz55pvkObREIjFbQZ+8ZdoGE/78889vv/325ZdfNnqX39bWdt68ebuO7EppTpF3yGn+I4yxQrHWrVsHAHv27DE6zmEKTff0JHnr888/J53mTz/9xDBMZ2dnRUVFUlJSfHz8xIkTDWVydHQMCgratm1bamoqh7Os1iaWTqcbN24cAJSVlRkVcZtC0z365K1unkPv3LkTAOzs7B599FFHR0dDmcaMGbNq1SqxWFxUVMTyY9CusDaxzp07BwATJ040LeI8haZ7VCpVZGQkAEyaNEkuN99tPffcc6NHjyYyeXp6xsfHJyUlVVRUsPnQs4dY22uTx48fB4Dly5cbHVer1adOnQKAJ554goOweoC9vf3Ro0ejo6NdXFy6WuJh5MiR9fX1q1evPnDgwKhRo1iOsHdwbfYA4+fnBwAnT540Ok5SaObOnctJVD2ntbW1q6kQnU43fvx4AOBFPqBVtVg1NTXl5eVOTk6hoaFGRaQlI/NblgzJTDTLhQsXamtrx44dS9IGLRyrWioyNTWVYZiYmBjTVTdOnDgBfBCrG8g0yooVK3jxbr5VidVVs1RaWlpdXe3h4UGynXgKXxpdgvWI1dbWlpOTY2NjQ3J8DdH/SnjxXTeLXC6/cOGCo6PjkiVLuI6lR1iPWBkZGWq1OjAw0PR2iV/fdbOQXj4qKoo8OrR8rEesruy5detWcXGxSCQKDw/nIq6BgXffDSsRS6vVpqWlgbkZLJLrFxUV5eDgwEVoA4BSqTx9+rRQKHz88ce5jqWnWIlYZ86caWxsnDp16rRp04yKePddNyUzM1OlUi1cuJBH6y5biVjEnpUrVxodv3fvHvmuW+yEe0/g43fDSsQiczym//VkaTV/f3+SQs5HdDod6eVRLLa5evVqVVWVi4sLSbcyhI/fdSPOnTtXV1fn6ek5c+ZMrmPpBdYg1rFjxwAgJibGaClihmHS09PB3IieR3T1WN3CsYZnhV01S2q1evPmzYWFhbNmzeIiroGBp40u71dNbmlpISlK9fX1vV3X3/L566+/Jk+ePHz48Pr6+n4uNM8yvO8K09LSNBpNaGio9VkFAEePHgWAmJgYflkF/O0Kb926RRZt//HHHwEgICCA64iowNN+EPjVFRpuAkASw8nxIUOGuLm55efnP3S/JH6hUChGjx6t1Wpv377t6urKdTi9w6JbrM7OzrKyMiJTdnZ2Q0ODvsjJycnPzy84ONjf3/+TTz4pKCiIiIjIzc318PDgMOCBJSMjo6OjIywsjHdWgQWK1dKiKSjIJM1SUVHRvXv39EXjxo0LCQkh25PMmjXLxsaGHI+MjHzssceKi4uXLl2anZ1NljywAvjbD4KFdIVyOeTnQ14e5OdDZaWaYUaoVCpSZLhrUjczhI2NjaGhoZWVlQsWLMjKyrKCPQG1Wq27u3tTU9OVK1fIehP8ghuxdDqoqACJBAoKQCKBGzceFA0dCitWbJoyZVhQUFBQUFDPtyS9efNmSEjI9evXw8PDT5w4wZe8pa7Izs5esmTJjBkzDLeU4hNmX7EAYKQGL+ZLpYzZigCMWPzwaoSODqa4mBGLmdhYxsWFAXjwM2wYExHBJCYymZnMvXu9exvEEJlMRsZYK1assJD3NvvMG2+8AQBbt27lOpA+0l+xDGuarXbrFvPmm8yiRYyd3d9k8vRk4uOZpCSmooIZwNctL168SMZYL774IgubMdHjkUceAYCuVnOwfAagxdKvxmi2WkMDIxAwAIyNDePjwyQkMMnJDNUFp8+dO0deotq4cSPFy9CE7Fjm6upqIcst9YH+iiWVMoGB9yt3Ve2TT5hTpxg2V+L4/fffyRjLdC1uXkB2LFu7di3XgfSdLsUy/TFbTSplpNL7jVb3YyyWOXbsGEl22L9/P9ex9BqyS8ovv/zCdSB9ZwBaLIZhEhKYtDTLEothmO+//54sK5WUlMR1LL2gqanJ1tbWApdb6hUDI5a+Q7QosZj/b0gpFAoPHz7MdSw9JTk5GQCWLl3KdSD9YmCyG7y8wNcXTpwYkJMNJBs2bNizZ49Op1uzZs0JC4zPHLyecH+AWd1622Lp/2ppLRZh69atACASiXJycriKwXANvunTp9/rYr5OrVY7OzsD1zuW9Z9eixUYeF8g8gfDamKxhYql0+nWr18PAM7OzsXFxaxdV6lU/vHHH7t27YqOjia66MnLyzP7kZMnT0IXO5bxi96JkJb2YNaKDNj5glarff755wFg1KhRly5doneh27dvp6ambtu2LSgoyGjRGw8Pj9jYWLFYXFxc3NXk7aZNmwDgvffeoxchO/S9hRGL+SQWwzAdHR3k7cJx48Zdu3ZtAM988+bNlJSULVu2zJs3z3DdERsbGx8fn4SEhOTk5K627jWC7KJTWFg4gOFxQh/FMmy6eER7eztZk23q1KldrfPZEwwHTBMmTDBslgwXLb5z506vTtvNjmW8oy/5WOvXAwAkJfXhoxwjEolSU1P7lrzV1tZWWlpKEsUkEolCodAXubu7+/v7k9yegICAPuenk/vBZcuW8Xe5pQf01sTAQJ71gKY0NDT4+PgAwIIFC3qyJ+A777wzZ84cfV4hAAgEghkzZqxbty45OVkmkw1IVDKZjCz/T1Ys4ju9Eysh4W8PecTih3/EMqmtrZ0yZQoAhIeHd3XnrycqKgr+v8vDli1bUlJS6uvr+x+DYX9KsvVFIpGTk5OlbZzRNyxyeoAV9Mlby5cv7z55SyKR5Obmtre39/+id+/e1W90Y5Tm6u7uTtpRBweH3Nzc/l+LWwavWAzDXLx4kbynQDV5q66uTj8BYTT8MtoEwHC+zXQra34xqMViDJK3NmzYMICnvXr1anJyckJCgo+Pj+FI3NbWVj8BUVNTY/pBrVa7evVqoD/fRpvBLhbDMKdPnybJW9u3b+/zSTQaTXFxsVgsjo2NdXNzM2yWnJyc9BMQLS0tDz1VR0fHsmXLgMJ8G5ugWAzDMKmpqXZ2dgCwb9++nn+qtbVVP2ASiUSGMnl4eCxbtmzv3r0SiaSjo6O38bS3t4eFhUG/59s4BMW6zw8//NCT5C3DSXah8G+5IYYDpv7Ho1Ao5s+fDwC+vr5NTU39PyHLoFgP+OKLL8Bc8tbVq1fJpICnp6ehSYYTEI2NjQMej36+LSAggHdJfxbxwqrl8MEHH7z77rt2dna7d+/u7OzMz88vKCgwnGR3dXUNDAwkk+zz58833VtlYJHL5cHBwbx8WZJrsy0OkrxlOMnUk6wEeshksrFjx0IP5tssCmyxjGEYJj09PScnR6VSkbf7ye+VQyoqKsLCwpqaml544QWyPzS38fQEFIsfFBYWRkRE3L17943tb3y8+2Ouw3k4PHAfAYCAgIBjx45NfHRi6tOp2+XbuQ7n4WCLxSeONx9/5q9nNIxm/7j9/3T/J9fhdAeKxTP+2/zf+Op4Bph/T/z3+lHruQ6nS7Ar5BlxLnGfT/icAWZDzYYf7/zIdThdgmLxj9fcXvtg7Ac60K2pXnNCYaEvS2JXyFfevvn2vtv7REJRuld6qJPx5uqcg2LxFdIb/qfxP842zr97/z7fYT7XEf0NFIvH6ED34vUXD985PMp2VM4jOT5DfbiO6AEoFr/RMJqnrz39m+K3sXZj86blTRkyheuI7oODd35jJ7A74nkkyjlKrpFHSiPlGjnXEd0HWyxrQKlTRkmjCpQFviLfbO9sV1vuNxzAFssacBQ6pk5NnTl0ZsW9irjqOK7DAcAWy5qQa+Srrq36YuIXc0RzuI4FxULogF2hdSIoEeh//lX/L8PjMrWMhQAsbpMmpJ/I1DLvS95pXmkxzjHkiKBEUKmqTJrI6iou2GJZG2ur14rHi/VWAUCaV9qXjV+y01DpwRbLqpCpZQXKguTJyYYHY5xjmEfZHklji2VVSNVSAPCy9+I6EBQLoQOKZVV423sDgOlwiuUBFqBYVoaXvVegY6BR9h+5T0xvTWczEhy8WxvJk5O9L3kDwD9G/4Mc8b7knTAqwfA+kQVw5t06EZQ8WJRLPF6sl0xQIpDOlLIwukexECrgGAuhAoqFUAHFQqiAYiFUQLEQKqBYCBVQLIQKKBZCBRQLoQKKhVABxUKogGIhVECxECqgWAgVUCyECigWQgUUC6ECioVQAcVCqIBiIVRAsRAqoFgIFVAshAooFkIFFAuhAoqFUAHFQqiAYiFUQLEQKqBYCBVQLIQKKBZCBRQLoQKKhVABxUKogGIhVECxECqgWAgVUCyECigWQgUUC6ECioVQAcVCqIBiIVRAsRAqoFgIFVAshAr/A4RIKQ6CH1B4AAAAAElFTkSuQmCC\" alt=\"Mol\"/></td>\n",
       "    </tr>\n",
       "    <tr>\n",
       "      <th>4</th>\n",
       "      <td>C[C@@H](CCO)CCC=C(C)C</td>\n",
       "      <td>209.569808</td>\n",
       "      <td><img data-content=\"rdkit/molecule\" src=\"data:image/png;base64,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\" alt=\"Mol\"/></td>\n",
       "    </tr>\n",
       "  </tbody>\n",
       "</table>\n",
       "</div>"
      ],
      "text/plain": [
       "                                         SMILES   Energygap  \\\n",
       "0                           Cc1ccc(cc1)C(F)(F)F  197.749421   \n",
       "1                                   OC(=O)CCCCl  247.493942   \n",
       "2  CC(C)(Oc1ccc(CCNC(=O)c2ccc(Cl)cc2)cc1)C(=O)O  164.712327   \n",
       "3                             Nc1ccc(Cl)c(Cl)c1  169.027707   \n",
       "4                         C[C@@H](CCO)CCC=C(C)C  209.569808   \n",
       "\n",
       "                                            Stucture  \n",
       "0  <img data-content=\"rdkit/molecule\" src=\"data:i...  \n",
       "1  <img data-content=\"rdkit/molecule\" src=\"data:i...  \n",
       "2  <img data-content=\"rdkit/molecule\" src=\"data:i...  \n",
       "3  <img data-content=\"rdkit/molecule\" src=\"data:i...  \n",
       "4  <img data-content=\"rdkit/molecule\" src=\"data:i...  "
      ]
     },
     "execution_count": 5,
     "metadata": {},
     "output_type": "execute_result"
    }
   ],
   "source": [
    "dataset.head()"
   ]
  },
  {
   "cell_type": "markdown",
   "metadata": {},
   "source": [
    "<div style= \" border-style:dotted;text-align:left;color:purple;font-size:20px;border-radius: 10px;padding: 20px 20px;\"> \n",
    "    \n",
    "* Function defination for generating Avalon molecular fingerprints using RDKit\n",
    "</div>"
   ]
  },
  {
   "cell_type": "code",
   "execution_count": 6,
   "metadata": {},
   "outputs": [],
   "source": [
    "def generate_AVfpts(data):\n",
    "    \n",
    "    # Store fingerprints using empty lists\n",
    "    \n",
    "    Avalon_fpts = []\n",
    "    \n",
    "    # Here no need to generate mol files\n",
    "    # We can directly use the structure column of the data frame\n",
    "    # mols = [Chem.MolFromSmiles(x) for x in data if x is not None]\n",
    "    for mol in tqdm(data):\n",
    "      \n",
    "               \n",
    "        #=============================\n",
    "        # calculate Avalon fingerprints\n",
    "        #=============================\n",
    "        avfpts = pyAvalonTools.GetAvalonFP(mol, nBits=4096)\n",
    "        Avalon_fpts.append(avfpts)\n",
    "        \n",
    "        \n",
    "    #=====append=========================\n",
    "    # return the lists as numpy array \n",
    "    #====================================\n",
    "    return np.array(Avalon_fpts)"
   ]
  },
  {
   "cell_type": "markdown",
   "metadata": {},
   "source": [
    "<div style= \"border-style:dotted;text-align:left;color:darkblue;font-size:20px;border-radius: 10px;padding: 20px 20px;\"> \n",
    "    \n",
    "* Function call to generate Avalon molecular fingerprints of compounds that have HOMO-LUMO energy gap.\n",
    "</div>"
   ]
  },
  {
   "cell_type": "code",
   "execution_count": 7,
   "metadata": {},
   "outputs": [
    {
     "name": "stderr",
     "output_type": "stream",
     "text": [
      "100%|████████████████████████████████████████████████████████████████████████████| 2904/2904 [00:01<00:00, 2644.60it/s]\n"
     ]
    }
   ],
   "source": [
    "# Function call\n",
    "Avalon_fpts = generate_AVfpts(dataset['Stucture'])"
   ]
  },
  {
   "cell_type": "markdown",
   "metadata": {},
   "source": [
    "### Put the fingerprints in dataframe"
   ]
  },
  {
   "cell_type": "code",
   "execution_count": 8,
   "metadata": {},
   "outputs": [],
   "source": [
    "# Put Avalon fingerprints into Dataframe\n",
    "Avalon_fingerprints = pd.DataFrame(Avalon_fpts, columns=['Col_A_{}'.format(i + 1) \n",
    "                                                        for i in range(Avalon_fpts.shape[1])])"
   ]
  },
  {
   "cell_type": "code",
   "execution_count": 9,
   "metadata": {},
   "outputs": [
    {
     "data": {
      "text/html": [
       "<div>\n",
       "<style scoped>\n",
       "    .dataframe tbody tr th:only-of-type {\n",
       "        vertical-align: middle;\n",
       "    }\n",
       "\n",
       "    .dataframe tbody tr th {\n",
       "        vertical-align: top;\n",
       "    }\n",
       "\n",
       "    .dataframe thead th {\n",
       "        text-align: right;\n",
       "    }\n",
       "</style>\n",
       "<table border=\"1\" class=\"dataframe\">\n",
       "  <thead>\n",
       "    <tr style=\"text-align: right;\">\n",
       "      <th></th>\n",
       "      <th>Col_A_1</th>\n",
       "      <th>Col_A_2</th>\n",
       "      <th>Col_A_3</th>\n",
       "      <th>Col_A_4</th>\n",
       "      <th>Col_A_5</th>\n",
       "      <th>Col_A_6</th>\n",
       "      <th>Col_A_7</th>\n",
       "      <th>Col_A_8</th>\n",
       "      <th>Col_A_9</th>\n",
       "      <th>Col_A_10</th>\n",
       "      <th>...</th>\n",
       "      <th>Col_A_4087</th>\n",
       "      <th>Col_A_4088</th>\n",
       "      <th>Col_A_4089</th>\n",
       "      <th>Col_A_4090</th>\n",
       "      <th>Col_A_4091</th>\n",
       "      <th>Col_A_4092</th>\n",
       "      <th>Col_A_4093</th>\n",
       "      <th>Col_A_4094</th>\n",
       "      <th>Col_A_4095</th>\n",
       "      <th>Col_A_4096</th>\n",
       "    </tr>\n",
       "  </thead>\n",
       "  <tbody>\n",
       "    <tr>\n",
       "      <th>0</th>\n",
       "      <td>0</td>\n",
       "      <td>0</td>\n",
       "      <td>0</td>\n",
       "      <td>0</td>\n",
       "      <td>0</td>\n",
       "      <td>0</td>\n",
       "      <td>0</td>\n",
       "      <td>0</td>\n",
       "      <td>0</td>\n",
       "      <td>0</td>\n",
       "      <td>...</td>\n",
       "      <td>0</td>\n",
       "      <td>0</td>\n",
       "      <td>0</td>\n",
       "      <td>0</td>\n",
       "      <td>0</td>\n",
       "      <td>0</td>\n",
       "      <td>0</td>\n",
       "      <td>0</td>\n",
       "      <td>0</td>\n",
       "      <td>0</td>\n",
       "    </tr>\n",
       "    <tr>\n",
       "      <th>1</th>\n",
       "      <td>0</td>\n",
       "      <td>0</td>\n",
       "      <td>0</td>\n",
       "      <td>0</td>\n",
       "      <td>0</td>\n",
       "      <td>0</td>\n",
       "      <td>0</td>\n",
       "      <td>0</td>\n",
       "      <td>0</td>\n",
       "      <td>0</td>\n",
       "      <td>...</td>\n",
       "      <td>0</td>\n",
       "      <td>0</td>\n",
       "      <td>0</td>\n",
       "      <td>0</td>\n",
       "      <td>0</td>\n",
       "      <td>0</td>\n",
       "      <td>0</td>\n",
       "      <td>0</td>\n",
       "      <td>0</td>\n",
       "      <td>0</td>\n",
       "    </tr>\n",
       "    <tr>\n",
       "      <th>2</th>\n",
       "      <td>0</td>\n",
       "      <td>0</td>\n",
       "      <td>0</td>\n",
       "      <td>0</td>\n",
       "      <td>0</td>\n",
       "      <td>0</td>\n",
       "      <td>0</td>\n",
       "      <td>0</td>\n",
       "      <td>0</td>\n",
       "      <td>0</td>\n",
       "      <td>...</td>\n",
       "      <td>0</td>\n",
       "      <td>0</td>\n",
       "      <td>0</td>\n",
       "      <td>0</td>\n",
       "      <td>0</td>\n",
       "      <td>0</td>\n",
       "      <td>0</td>\n",
       "      <td>0</td>\n",
       "      <td>0</td>\n",
       "      <td>0</td>\n",
       "    </tr>\n",
       "    <tr>\n",
       "      <th>3</th>\n",
       "      <td>0</td>\n",
       "      <td>0</td>\n",
       "      <td>0</td>\n",
       "      <td>0</td>\n",
       "      <td>0</td>\n",
       "      <td>0</td>\n",
       "      <td>0</td>\n",
       "      <td>0</td>\n",
       "      <td>0</td>\n",
       "      <td>0</td>\n",
       "      <td>...</td>\n",
       "      <td>0</td>\n",
       "      <td>0</td>\n",
       "      <td>0</td>\n",
       "      <td>0</td>\n",
       "      <td>0</td>\n",
       "      <td>0</td>\n",
       "      <td>0</td>\n",
       "      <td>0</td>\n",
       "      <td>0</td>\n",
       "      <td>0</td>\n",
       "    </tr>\n",
       "    <tr>\n",
       "      <th>4</th>\n",
       "      <td>0</td>\n",
       "      <td>0</td>\n",
       "      <td>0</td>\n",
       "      <td>0</td>\n",
       "      <td>0</td>\n",
       "      <td>0</td>\n",
       "      <td>0</td>\n",
       "      <td>0</td>\n",
       "      <td>0</td>\n",
       "      <td>0</td>\n",
       "      <td>...</td>\n",
       "      <td>0</td>\n",
       "      <td>0</td>\n",
       "      <td>0</td>\n",
       "      <td>0</td>\n",
       "      <td>0</td>\n",
       "      <td>0</td>\n",
       "      <td>0</td>\n",
       "      <td>0</td>\n",
       "      <td>0</td>\n",
       "      <td>0</td>\n",
       "    </tr>\n",
       "  </tbody>\n",
       "</table>\n",
       "<p>5 rows × 4096 columns</p>\n",
       "</div>"
      ],
      "text/plain": [
       "   Col_A_1  Col_A_2  Col_A_3  Col_A_4  Col_A_5  Col_A_6  Col_A_7  Col_A_8  \\\n",
       "0        0        0        0        0        0        0        0        0   \n",
       "1        0        0        0        0        0        0        0        0   \n",
       "2        0        0        0        0        0        0        0        0   \n",
       "3        0        0        0        0        0        0        0        0   \n",
       "4        0        0        0        0        0        0        0        0   \n",
       "\n",
       "   Col_A_9  Col_A_10  ...  Col_A_4087  Col_A_4088  Col_A_4089  Col_A_4090  \\\n",
       "0        0         0  ...           0           0           0           0   \n",
       "1        0         0  ...           0           0           0           0   \n",
       "2        0         0  ...           0           0           0           0   \n",
       "3        0         0  ...           0           0           0           0   \n",
       "4        0         0  ...           0           0           0           0   \n",
       "\n",
       "   Col_A_4091  Col_A_4092  Col_A_4093  Col_A_4094  Col_A_4095  Col_A_4096  \n",
       "0           0           0           0           0           0           0  \n",
       "1           0           0           0           0           0           0  \n",
       "2           0           0           0           0           0           0  \n",
       "3           0           0           0           0           0           0  \n",
       "4           0           0           0           0           0           0  \n",
       "\n",
       "[5 rows x 4096 columns]"
      ]
     },
     "execution_count": 9,
     "metadata": {},
     "output_type": "execute_result"
    }
   ],
   "source": [
    "Avalon_fingerprints.head()"
   ]
  },
  {
   "cell_type": "code",
   "execution_count": 10,
   "metadata": {},
   "outputs": [],
   "source": [
    "# Instantiate the models\n",
    "lgbm_av = LGBMRegressor(n_estimators=800, random_state=42)\n",
    "model_rf = RandomForestRegressor(random_state=42)"
   ]
  },
  {
   "cell_type": "markdown",
   "metadata": {},
   "source": [
    "<div style= \"border-style:dotted;text-align:left;color:darkblue;font-size:20px;border-radius: 10px;padding: 20px 20px;\"> \n",
    "10 fold cross-validation using 4,096 bits of Avalon fingerprints\n",
    "</div>"
   ]
  },
  {
   "cell_type": "code",
   "execution_count": 11,
   "metadata": {},
   "outputs": [
    {
     "name": "stdout",
     "output_type": "stream",
     "text": [
      "{'fit_time': array([0.95599723, 0.92199898, 0.94899893, 0.95499897, 1.0079987 ,\n",
      "       0.94699883, 1.0159986 , 0.98799896, 0.98199892, 1.03099871]), 'score_time': array([0.07200003, 0.07199979, 0.06899977, 0.07099962, 0.07199955,\n",
      "       0.07099986, 0.06999993, 0.07499981, 0.07399964, 0.07800007]), 'test_r2': array([0.91044654, 0.90800796, 0.91153183, 0.92018218, 0.9045963 ,\n",
      "       0.89865031, 0.90671041, 0.90788038, 0.89827042, 0.91485459]), 'test_neg_mean_absolute_error': array([-5.79133628, -5.82072238, -5.86919926, -5.52286442, -6.21463951,\n",
      "       -6.16613145, -5.97132058, -6.12992087, -5.94971449, -5.76417806])}\n",
      "Total time required: 0.23 min\n"
     ]
    }
   ],
   "source": [
    "# start time\n",
    "start = time.time()\n",
    "\n",
    "# tenfold cross-validation\n",
    "cv = ShuffleSplit(n_splits=10, test_size=0.3, random_state=42)\n",
    "scoring = ['r2','neg_mean_absolute_error']\n",
    "\n",
    "scores_val = cross_validate(lgbm_av, Avalon_fingerprints,  dataset.Energygap, scoring=scoring, cv=cv)\n",
    "\n",
    "print(scores_val)\n",
    "\n",
    "time.sleep(3)\n",
    "# get the end time\n",
    "end = time.time()\n",
    "\n",
    "# get the execution time\n",
    "total_time = end - start\n",
    "print('Total time required:', round(total_time/60, 2), 'min')"
   ]
  },
  {
   "cell_type": "code",
   "execution_count": 12,
   "metadata": {},
   "outputs": [
    {
     "data": {
      "text/plain": [
       "array([0.91044654, 0.90800796, 0.91153183, 0.92018218, 0.9045963 ,\n",
       "       0.89865031, 0.90671041, 0.90788038, 0.89827042, 0.91485459])"
      ]
     },
     "execution_count": 12,
     "metadata": {},
     "output_type": "execute_result"
    }
   ],
   "source": [
    "# R^2 of coefficient of determination of tenfold cross validation\n",
    "scores_val['test_r2']"
   ]
  },
  {
   "cell_type": "code",
   "execution_count": 13,
   "metadata": {},
   "outputs": [
    {
     "data": {
      "text/plain": [
       "array([5.79133628, 5.82072238, 5.86919926, 5.52286442, 6.21463951,\n",
       "       6.16613145, 5.97132058, 6.12992087, 5.94971449, 5.76417806])"
      ]
     },
     "execution_count": 13,
     "metadata": {},
     "output_type": "execute_result"
    }
   ],
   "source": [
    "# Mean absolute error (MAE) of the tenfold cross validation values\n",
    "-scores_val['test_neg_mean_absolute_error']"
   ]
  },
  {
   "cell_type": "code",
   "execution_count": 14,
   "metadata": {},
   "outputs": [
    {
     "name": "stdout",
     "output_type": "stream",
     "text": [
      "R^2 : 0.91\n",
      "MAE : 5.92\n"
     ]
    }
   ],
   "source": [
    "# Mean values of tenfold cross-validation values of R^2 and MAE \n",
    "# Using lightGBM\n",
    "\n",
    "print(\"R^2 :\", round(np.mean(scores_val['test_r2']), 2))\n",
    "print(\"MAE :\", round(np.mean(-scores_val['test_neg_mean_absolute_error']), 2))"
   ]
  },
  {
   "cell_type": "markdown",
   "metadata": {},
   "source": [
    "Compared with published result: [Sandfort et al's](https://www.sciencedirect.com/science/article/pii/S2451929420300851) work.\n",
    "<div>\n",
    "    <img src=\"HUMO_LUMO.JPG\", align = \"left\", width = \"500\">\n",
    "    </div"
   ]
  },
  {
   "cell_type": "markdown",
   "metadata": {},
   "source": [
    "[ See supporting information of the paper ](https://zivgitlab.uni-muenster.de/m_kueh11/fp-dm-tool)\n",
    ".Note this information is found on page 5 in the supporting information \n",
    "\n",
    "<div>\n",
    "<img src= \"Feature Preprocessing.JPG\",align = \"left\", width = \"600\" />\n",
    " </div>"
   ]
  },
  {
   "cell_type": "markdown",
   "metadata": {},
   "source": [
    "## 1.  Train-test data split  for Avalon fingerprints"
   ]
  },
  {
   "cell_type": "code",
   "execution_count": 15,
   "metadata": {},
   "outputs": [],
   "source": [
    "X_train_av, X_test_av, y_train_av, y_test_av = train_test_split(Avalon_fingerprints,\n",
    "                                                    dataset.Energygap,test_size=0.3,random_state=42)"
   ]
  },
  {
   "cell_type": "code",
   "execution_count": 16,
   "metadata": {},
   "outputs": [],
   "source": [
    "# Model training and test\n",
    "model_av = lgbm_av.fit(X_train_av,y_train_av)\n",
    "predict_av = model_av.predict(X_test_av)"
   ]
  },
  {
   "cell_type": "code",
   "execution_count": 17,
   "metadata": {},
   "outputs": [
    {
     "name": "stdout",
     "output_type": "stream",
     "text": [
      "MAE: 5.79\n"
     ]
    }
   ],
   "source": [
    "# Model performance using MAE\n",
    "MAE_av = mean_absolute_error(y_test_av, predict_av)\n",
    "print('MAE:', round(MAE_av,2))"
   ]
  },
  {
   "cell_type": "code",
   "execution_count": 18,
   "metadata": {},
   "outputs": [
    {
     "name": "stdout",
     "output_type": "stream",
     "text": [
      "R^2: 0.91\n"
     ]
    }
   ],
   "source": [
    "# R^2 (coefficient of determination) regression score function: \n",
    "R2_av =r2_score(y_test_av, predict_av)\n",
    "print('R^2:', round(R2_av,2))"
   ]
  },
  {
   "cell_type": "code",
   "execution_count": 19,
   "metadata": {},
   "outputs": [
    {
     "data": {
      "text/plain": [
       "<matplotlib.legend.Legend at 0x19421116220>"
      ]
     },
     "execution_count": 19,
     "metadata": {},
     "output_type": "execute_result"
    },
    {
     "data": {
      "image/png": "[encoded data removed]",
      "text/plain": [
       "<Figure size 432x288 with 1 Axes>"
      ]
     },
     "metadata": {
      "needs_background": "light"
     },
     "output_type": "display_data"
    }
   ],
   "source": [
    "sns.regplot(x=predict_av, y=y_test_av,line_kws={\"lw\":2,'ls':'--','color':'black',\"alpha\":0.7})\n",
    "plt.xlabel('Predicted Energy gap', color='blue')\n",
    "plt.ylabel('Observed Energy gap', color ='blue')\n",
    "plt.title(\"Avalon fpts HOMO-LUMO Energy Gap Prediction\", color='red')\n",
    "plt.grid(alpha=0.2)\n",
    "R2_av = mpatches.Patch(label=\"R2={:04.2f}\".format(R2_av))\n",
    "MAE_av = mpatches.Patch(label=\"MAE={:04.2f}\".format(MAE_av))\n",
    "plt.legend(handles=[R2_av, MAE_av])"
   ]
  },
  {
   "cell_type": "markdown",
   "metadata": {},
   "source": [
    "<div style= \" border-style:dotted;text-align:left;color:blue;font-size:25px;border-radius: 10px;padding: 20px 20px;\">\n",
    "2. Yield Prediction:\n",
    "C–N cross coupling reactions\n",
    "</div>"
   ]
  },
  {
   "cell_type": "markdown",
   "metadata": {},
   "source": [
    "Reference:[Ahneman et al](https://scholar.google.com/scholar?hl=en&as_sdt=0%2C14&q=Predicting+reaction+performance+in+C%E2%80%93N+cross-coupling+using+machine+learning&btnG=).\n",
    "and [for supplemental information](https://www.science.org/doi/abs/10.1126/science.aar5169)\n",
    "\n",
    "<div>\n",
    "    <img src=\"buchwald.JPG\" width=\"700\",align =\"left\"/>\n",
    "</div>"
   ]
  },
  {
   "cell_type": "markdown",
   "metadata": {},
   "source": [
    "* Used 1536 plate (3 plates => 3 x 1536 (32 x 48)  = 4608)\n",
    "* Removed control reactions and additive 7 \n",
    "* 3,960 reactions were used for machine learning.\n",
    "* Determined yield UPLC, di-tert-butylbiphenyl as internal standard (probably using response factor)\n",
    "### Computed Descriptors (120)\n",
    "* B3LYP/6-31G*\n",
    "### Calculated various descriptors: \n",
    "* electrostatic charge and NMR shift.\n",
    "* molecular volume, \n",
    "* surface area, ovality, molecular weight, HOMO,  \n",
    "* LUMO, electronegativity, hardness, dipole moment,\n",
    "* frequency and intensity."
   ]
  },
  {
   "cell_type": "markdown",
   "metadata": {},
   "source": [
    "### Generated 120 computed descriptors\n",
    "* Additive Descriptors (19)\n",
    "* Aryl Halide Descriptors ( 27)\n",
    "* Base Descriptors (10)\n",
    "* Ligand Descriptors (64)"
   ]
  },
  {
   "cell_type": "markdown",
   "metadata": {},
   "source": [
    "<div>\n",
    "    <img src=\"Buchwald_RF.JPG\" width=\"600\",align =\"left\"/>\n",
    "</div>\n"
   ]
  },
  {
   "cell_type": "markdown",
   "metadata": {},
   "source": [
    "There was an excel file that I downloaded converted it to csv file from this reference. [Sandfort et al](https://zivgitlab.uni-muenster.de/m_kueh11/fp-dm-tool). "
   ]
  },
  {
   "cell_type": "code",
   "execution_count": 20,
   "metadata": {},
   "outputs": [
    {
     "data": {
      "text/html": [
       "<div>\n",
       "<style scoped>\n",
       "    .dataframe tbody tr th:only-of-type {\n",
       "        vertical-align: middle;\n",
       "    }\n",
       "\n",
       "    .dataframe tbody tr th {\n",
       "        vertical-align: top;\n",
       "    }\n",
       "\n",
       "    .dataframe thead th {\n",
       "        text-align: right;\n",
       "    }\n",
       "</style>\n",
       "<table border=\"1\" class=\"dataframe\">\n",
       "  <thead>\n",
       "    <tr style=\"text-align: right;\">\n",
       "      <th></th>\n",
       "      <th>Ligand</th>\n",
       "      <th>Additive</th>\n",
       "      <th>Base</th>\n",
       "      <th>Aryl halide</th>\n",
       "      <th>Output</th>\n",
       "    </tr>\n",
       "  </thead>\n",
       "  <tbody>\n",
       "    <tr>\n",
       "      <th>0</th>\n",
       "      <td>CC(C)C(C=C(C(C)C)C=C1C(C)C)=C1C2=C(P([C@@]3(C[...</td>\n",
       "      <td>CC1=CC(C)=NO1</td>\n",
       "      <td>CN(C)P(N(C)C)(N(C)C)=NP(N(C)C)(N(C)C)=NCC</td>\n",
       "      <td>ClC1=NC=CC=C1</td>\n",
       "      <td>70.410458</td>\n",
       "    </tr>\n",
       "    <tr>\n",
       "      <th>1</th>\n",
       "      <td>CC(C)C(C=C(C(C)C)C=C1C(C)C)=C1C2=C(P([C@@]3(C[...</td>\n",
       "      <td>O=C(OC)C1=CC=NO1</td>\n",
       "      <td>CN(C)P(N(C)C)(N(C)C)=NP(N(C)C)(N(C)C)=NCC</td>\n",
       "      <td>BrC1=NC=CC=C1</td>\n",
       "      <td>11.064457</td>\n",
       "    </tr>\n",
       "    <tr>\n",
       "      <th>2</th>\n",
       "      <td>CC(C)C(C=C(C(C)C)C=C1C(C)C)=C1C2=C(P(C3CCCCC3)...</td>\n",
       "      <td>O=C(OC)C1=CC=NO1</td>\n",
       "      <td>CN(C)P(N(C)C)(N(C)C)=NP(N(C)C)(N(C)C)=NCC</td>\n",
       "      <td>IC1=CC=C(CC)C=C1</td>\n",
       "      <td>10.223550</td>\n",
       "    </tr>\n",
       "    <tr>\n",
       "      <th>3</th>\n",
       "      <td>CC(C)C(C=C(C(C)C)C=C1C(C)C)=C1C2=C(P(C(C)(C)C)...</td>\n",
       "      <td>CCOC(C1=CON=C1)=O</td>\n",
       "      <td>CN1CCCN2C1=NCCC2</td>\n",
       "      <td>ClC1=CC=C(C(F)(F)F)C=C1</td>\n",
       "      <td>20.083383</td>\n",
       "    </tr>\n",
       "    <tr>\n",
       "      <th>4</th>\n",
       "      <td>CC(C)C(C=C(C(C)C)C=C1C(C)C)=C1C2=C(P([C@@]3(C[...</td>\n",
       "      <td>CC1=CC(C)=NO1</td>\n",
       "      <td>CN1CCCN2C1=NCCC2</td>\n",
       "      <td>ClC1=CC=C(OC)C=C1</td>\n",
       "      <td>0.492663</td>\n",
       "    </tr>\n",
       "    <tr>\n",
       "      <th>...</th>\n",
       "      <td>...</td>\n",
       "      <td>...</td>\n",
       "      <td>...</td>\n",
       "      <td>...</td>\n",
       "      <td>...</td>\n",
       "    </tr>\n",
       "    <tr>\n",
       "      <th>3950</th>\n",
       "      <td>CC(C)C(C=C(C(C)C)C=C1C(C)C)=C1C2=C(P(C3CCCCC3)...</td>\n",
       "      <td>C1(C2=CC=CC=C2)=CON=C1</td>\n",
       "      <td>CN(C)P(N(C)C)(N(C)C)=NP(N(C)C)(N(C)C)=NCC</td>\n",
       "      <td>BrC1=CC=C(OC)C=C1</td>\n",
       "      <td>4.344677</td>\n",
       "    </tr>\n",
       "    <tr>\n",
       "      <th>3951</th>\n",
       "      <td>CC(C)C(C=C(C(C)C)C=C1C(C)C)=C1C2=C(P(C(C)(C)C)...</td>\n",
       "      <td>CC1=CC(N2C=CC=C2)=NO1</td>\n",
       "      <td>CN1CCCN2C1=NCCC2</td>\n",
       "      <td>BrC1=CC=C(OC)C=C1</td>\n",
       "      <td>47.156275</td>\n",
       "    </tr>\n",
       "    <tr>\n",
       "      <th>3952</th>\n",
       "      <td>CC(C)C(C=C(C(C)C)C=C1C(C)C)=C1C2=C(P(C(C)(C)C)...</td>\n",
       "      <td>CCOC(C1=CON=C1)=O</td>\n",
       "      <td>CC(C)(C)/N=C(N(C)C)/N(C)C</td>\n",
       "      <td>ClC1=CC=C(C(F)(F)F)C=C1</td>\n",
       "      <td>0.701552</td>\n",
       "    </tr>\n",
       "    <tr>\n",
       "      <th>3953</th>\n",
       "      <td>CC(C)C(C=C(C(C)C)C=C1C(C)C)=C1C2=C(P([C@@]3(C[...</td>\n",
       "      <td>C1(N(CC2=CC=CC=C2)CC3=CC=CC=C3)=CC=NO1</td>\n",
       "      <td>CN(C)P(N(C)C)(N(C)C)=NP(N(C)C)(N(C)C)=NCC</td>\n",
       "      <td>ClC1=CC=C(C(F)(F)F)C=C1</td>\n",
       "      <td>15.561565</td>\n",
       "    </tr>\n",
       "    <tr>\n",
       "      <th>3954</th>\n",
       "      <td>CC(C)C(C=C(C(C)C)C=C1C(C)C)=C1C2=C(P([C@@]3(C[...</td>\n",
       "      <td>C1(C2=CC=CC=C2)=CC=NO1</td>\n",
       "      <td>CC(C)(C)/N=C(N(C)C)/N(C)C</td>\n",
       "      <td>IC1=CC=C(CC)C=C1</td>\n",
       "      <td>73.739939</td>\n",
       "    </tr>\n",
       "  </tbody>\n",
       "</table>\n",
       "<p>3955 rows × 5 columns</p>\n",
       "</div>"
      ],
      "text/plain": [
       "                                                 Ligand  \\\n",
       "0     CC(C)C(C=C(C(C)C)C=C1C(C)C)=C1C2=C(P([C@@]3(C[...   \n",
       "1     CC(C)C(C=C(C(C)C)C=C1C(C)C)=C1C2=C(P([C@@]3(C[...   \n",
       "2     CC(C)C(C=C(C(C)C)C=C1C(C)C)=C1C2=C(P(C3CCCCC3)...   \n",
       "3     CC(C)C(C=C(C(C)C)C=C1C(C)C)=C1C2=C(P(C(C)(C)C)...   \n",
       "4     CC(C)C(C=C(C(C)C)C=C1C(C)C)=C1C2=C(P([C@@]3(C[...   \n",
       "...                                                 ...   \n",
       "3950  CC(C)C(C=C(C(C)C)C=C1C(C)C)=C1C2=C(P(C3CCCCC3)...   \n",
       "3951  CC(C)C(C=C(C(C)C)C=C1C(C)C)=C1C2=C(P(C(C)(C)C)...   \n",
       "3952  CC(C)C(C=C(C(C)C)C=C1C(C)C)=C1C2=C(P(C(C)(C)C)...   \n",
       "3953  CC(C)C(C=C(C(C)C)C=C1C(C)C)=C1C2=C(P([C@@]3(C[...   \n",
       "3954  CC(C)C(C=C(C(C)C)C=C1C(C)C)=C1C2=C(P([C@@]3(C[...   \n",
       "\n",
       "                                    Additive  \\\n",
       "0                              CC1=CC(C)=NO1   \n",
       "1                           O=C(OC)C1=CC=NO1   \n",
       "2                           O=C(OC)C1=CC=NO1   \n",
       "3                          CCOC(C1=CON=C1)=O   \n",
       "4                              CC1=CC(C)=NO1   \n",
       "...                                      ...   \n",
       "3950                  C1(C2=CC=CC=C2)=CON=C1   \n",
       "3951                   CC1=CC(N2C=CC=C2)=NO1   \n",
       "3952                       CCOC(C1=CON=C1)=O   \n",
       "3953  C1(N(CC2=CC=CC=C2)CC3=CC=CC=C3)=CC=NO1   \n",
       "3954                  C1(C2=CC=CC=C2)=CC=NO1   \n",
       "\n",
       "                                           Base              Aryl halide  \\\n",
       "0     CN(C)P(N(C)C)(N(C)C)=NP(N(C)C)(N(C)C)=NCC            ClC1=NC=CC=C1   \n",
       "1     CN(C)P(N(C)C)(N(C)C)=NP(N(C)C)(N(C)C)=NCC            BrC1=NC=CC=C1   \n",
       "2     CN(C)P(N(C)C)(N(C)C)=NP(N(C)C)(N(C)C)=NCC         IC1=CC=C(CC)C=C1   \n",
       "3                              CN1CCCN2C1=NCCC2  ClC1=CC=C(C(F)(F)F)C=C1   \n",
       "4                              CN1CCCN2C1=NCCC2        ClC1=CC=C(OC)C=C1   \n",
       "...                                         ...                      ...   \n",
       "3950  CN(C)P(N(C)C)(N(C)C)=NP(N(C)C)(N(C)C)=NCC        BrC1=CC=C(OC)C=C1   \n",
       "3951                           CN1CCCN2C1=NCCC2        BrC1=CC=C(OC)C=C1   \n",
       "3952                  CC(C)(C)/N=C(N(C)C)/N(C)C  ClC1=CC=C(C(F)(F)F)C=C1   \n",
       "3953  CN(C)P(N(C)C)(N(C)C)=NP(N(C)C)(N(C)C)=NCC  ClC1=CC=C(C(F)(F)F)C=C1   \n",
       "3954                  CC(C)(C)/N=C(N(C)C)/N(C)C         IC1=CC=C(CC)C=C1   \n",
       "\n",
       "         Output  \n",
       "0     70.410458  \n",
       "1     11.064457  \n",
       "2     10.223550  \n",
       "3     20.083383  \n",
       "4      0.492663  \n",
       "...         ...  \n",
       "3950   4.344677  \n",
       "3951  47.156275  \n",
       "3952   0.701552  \n",
       "3953  15.561565  \n",
       "3954  73.739939  \n",
       "\n",
       "[3955 rows x 5 columns]"
      ]
     },
     "execution_count": 20,
     "metadata": {},
     "output_type": "execute_result"
    }
   ],
   "source": [
    "# Read data frame\n",
    "data = pd.read_csv('Buchwald_yield_data.csv')\n",
    "data"
   ]
  },
  {
   "cell_type": "code",
   "execution_count": 21,
   "metadata": {},
   "outputs": [],
   "source": [
    "def Calculate_Avfps(data,nBits):\n",
    "    \n",
    "    # Store fingerprints using empty lists\n",
    "    Avalon_fpts = []\n",
    "           \n",
    "    mols = [Chem.MolFromSmiles(x) for x in data if x is not None]\n",
    "    for mol in tqdm(mols):\n",
    "        \n",
    "               \n",
    "        #=============================\n",
    "        # calculate Avalon fingerprints\n",
    "        #=============================\n",
    "        avfpts = pyAvalonTools.GetAvalonFP(mol, nBits=nBits)\n",
    "        Avalon_fpts.append(avfpts)\n",
    "        \n",
    "       \n",
    "    #=================================\n",
    "    # return the lists as numpy array \n",
    "    #=================================\n",
    "    return np.array(Avalon_fpts)"
   ]
  },
  {
   "cell_type": "markdown",
   "metadata": {},
   "source": [
    "## Calculate fingerprints for reactants"
   ]
  },
  {
   "cell_type": "code",
   "execution_count": 22,
   "metadata": {},
   "outputs": [
    {
     "name": "stderr",
     "output_type": "stream",
     "text": [
      "100%|█████████████████████████████████████████████████████████████████████████████| 3955/3955 [00:07<00:00, 525.89it/s]\n",
      "100%|████████████████████████████████████████████████████████████████████████████| 3955/3955 [00:01<00:00, 3652.98it/s]\n",
      "100%|████████████████████████████████████████████████████████████████████████████| 3955/3955 [00:01<00:00, 2493.69it/s]\n",
      "100%|████████████████████████████████████████████████████████████████████████████| 3955/3955 [00:00<00:00, 5006.31it/s]\n"
     ]
    }
   ],
   "source": [
    "ligand_fpts =  Calculate_Avfps(data['Ligand'], 2048) # ligands are relatively bigger than the other reagents\n",
    "additive_fpts =  Calculate_Avfps(data['Additive'], 1024)\n",
    "base_fpts =  Calculate_Avfps(data['Base'], 1024)\n",
    "Aryl_fpts =  Calculate_Avfps(data['Aryl halide'], 1024)"
   ]
  },
  {
   "cell_type": "markdown",
   "metadata": {},
   "source": [
    "## Concatenate fingerprints of starting materials\n",
    "Similar to [Sandfort et al's](https://www.sciencedirect.com/science/article/pii/S2451929420300851) work."
   ]
  },
  {
   "cell_type": "code",
   "execution_count": 23,
   "metadata": {},
   "outputs": [
    {
     "data": {
      "text/plain": [
       "(3955, 5120)"
      ]
     },
     "execution_count": 23,
     "metadata": {},
     "output_type": "execute_result"
    }
   ],
   "source": [
    "# concatenate the fingerprints of the four variables \n",
    "# note that the order of concatenation should not matter\n",
    "\n",
    "concatenated = np.concatenate([ligand_fpts, additive_fpts, base_fpts, Aryl_fpts], axis=1)\n",
    "concatenated.shape"
   ]
  },
  {
   "cell_type": "code",
   "execution_count": 24,
   "metadata": {},
   "outputs": [
    {
     "data": {
      "text/html": [
       "<div>\n",
       "<style scoped>\n",
       "    .dataframe tbody tr th:only-of-type {\n",
       "        vertical-align: middle;\n",
       "    }\n",
       "\n",
       "    .dataframe tbody tr th {\n",
       "        vertical-align: top;\n",
       "    }\n",
       "\n",
       "    .dataframe thead th {\n",
       "        text-align: right;\n",
       "    }\n",
       "</style>\n",
       "<table border=\"1\" class=\"dataframe\">\n",
       "  <thead>\n",
       "    <tr style=\"text-align: right;\">\n",
       "      <th></th>\n",
       "      <th>Col_A_1</th>\n",
       "      <th>Col_A_2</th>\n",
       "      <th>Col_A_3</th>\n",
       "      <th>Col_A_4</th>\n",
       "      <th>Col_A_5</th>\n",
       "      <th>Col_A_6</th>\n",
       "      <th>Col_A_7</th>\n",
       "      <th>Col_A_8</th>\n",
       "      <th>Col_A_9</th>\n",
       "      <th>Col_A_10</th>\n",
       "      <th>...</th>\n",
       "      <th>Col_A_5111</th>\n",
       "      <th>Col_A_5112</th>\n",
       "      <th>Col_A_5113</th>\n",
       "      <th>Col_A_5114</th>\n",
       "      <th>Col_A_5115</th>\n",
       "      <th>Col_A_5116</th>\n",
       "      <th>Col_A_5117</th>\n",
       "      <th>Col_A_5118</th>\n",
       "      <th>Col_A_5119</th>\n",
       "      <th>Col_A_5120</th>\n",
       "    </tr>\n",
       "  </thead>\n",
       "  <tbody>\n",
       "    <tr>\n",
       "      <th>0</th>\n",
       "      <td>0</td>\n",
       "      <td>0</td>\n",
       "      <td>0</td>\n",
       "      <td>0</td>\n",
       "      <td>0</td>\n",
       "      <td>0</td>\n",
       "      <td>0</td>\n",
       "      <td>0</td>\n",
       "      <td>0</td>\n",
       "      <td>0</td>\n",
       "      <td>...</td>\n",
       "      <td>0</td>\n",
       "      <td>0</td>\n",
       "      <td>0</td>\n",
       "      <td>0</td>\n",
       "      <td>0</td>\n",
       "      <td>0</td>\n",
       "      <td>0</td>\n",
       "      <td>0</td>\n",
       "      <td>0</td>\n",
       "      <td>0</td>\n",
       "    </tr>\n",
       "    <tr>\n",
       "      <th>1</th>\n",
       "      <td>0</td>\n",
       "      <td>0</td>\n",
       "      <td>0</td>\n",
       "      <td>0</td>\n",
       "      <td>0</td>\n",
       "      <td>0</td>\n",
       "      <td>0</td>\n",
       "      <td>0</td>\n",
       "      <td>0</td>\n",
       "      <td>0</td>\n",
       "      <td>...</td>\n",
       "      <td>0</td>\n",
       "      <td>0</td>\n",
       "      <td>0</td>\n",
       "      <td>1</td>\n",
       "      <td>0</td>\n",
       "      <td>0</td>\n",
       "      <td>0</td>\n",
       "      <td>0</td>\n",
       "      <td>0</td>\n",
       "      <td>0</td>\n",
       "    </tr>\n",
       "    <tr>\n",
       "      <th>2</th>\n",
       "      <td>0</td>\n",
       "      <td>0</td>\n",
       "      <td>0</td>\n",
       "      <td>0</td>\n",
       "      <td>0</td>\n",
       "      <td>0</td>\n",
       "      <td>0</td>\n",
       "      <td>0</td>\n",
       "      <td>0</td>\n",
       "      <td>0</td>\n",
       "      <td>...</td>\n",
       "      <td>0</td>\n",
       "      <td>0</td>\n",
       "      <td>0</td>\n",
       "      <td>0</td>\n",
       "      <td>0</td>\n",
       "      <td>0</td>\n",
       "      <td>1</td>\n",
       "      <td>0</td>\n",
       "      <td>0</td>\n",
       "      <td>0</td>\n",
       "    </tr>\n",
       "    <tr>\n",
       "      <th>3</th>\n",
       "      <td>0</td>\n",
       "      <td>0</td>\n",
       "      <td>0</td>\n",
       "      <td>0</td>\n",
       "      <td>0</td>\n",
       "      <td>0</td>\n",
       "      <td>0</td>\n",
       "      <td>0</td>\n",
       "      <td>0</td>\n",
       "      <td>0</td>\n",
       "      <td>...</td>\n",
       "      <td>0</td>\n",
       "      <td>0</td>\n",
       "      <td>0</td>\n",
       "      <td>0</td>\n",
       "      <td>0</td>\n",
       "      <td>0</td>\n",
       "      <td>1</td>\n",
       "      <td>0</td>\n",
       "      <td>0</td>\n",
       "      <td>0</td>\n",
       "    </tr>\n",
       "    <tr>\n",
       "      <th>4</th>\n",
       "      <td>0</td>\n",
       "      <td>0</td>\n",
       "      <td>0</td>\n",
       "      <td>0</td>\n",
       "      <td>0</td>\n",
       "      <td>0</td>\n",
       "      <td>0</td>\n",
       "      <td>0</td>\n",
       "      <td>0</td>\n",
       "      <td>0</td>\n",
       "      <td>...</td>\n",
       "      <td>0</td>\n",
       "      <td>0</td>\n",
       "      <td>0</td>\n",
       "      <td>0</td>\n",
       "      <td>0</td>\n",
       "      <td>0</td>\n",
       "      <td>0</td>\n",
       "      <td>0</td>\n",
       "      <td>0</td>\n",
       "      <td>0</td>\n",
       "    </tr>\n",
       "  </tbody>\n",
       "</table>\n",
       "<p>5 rows × 5120 columns</p>\n",
       "</div>"
      ],
      "text/plain": [
       "   Col_A_1  Col_A_2  Col_A_3  Col_A_4  Col_A_5  Col_A_6  Col_A_7  Col_A_8  \\\n",
       "0        0        0        0        0        0        0        0        0   \n",
       "1        0        0        0        0        0        0        0        0   \n",
       "2        0        0        0        0        0        0        0        0   \n",
       "3        0        0        0        0        0        0        0        0   \n",
       "4        0        0        0        0        0        0        0        0   \n",
       "\n",
       "   Col_A_9  Col_A_10  ...  Col_A_5111  Col_A_5112  Col_A_5113  Col_A_5114  \\\n",
       "0        0         0  ...           0           0           0           0   \n",
       "1        0         0  ...           0           0           0           1   \n",
       "2        0         0  ...           0           0           0           0   \n",
       "3        0         0  ...           0           0           0           0   \n",
       "4        0         0  ...           0           0           0           0   \n",
       "\n",
       "   Col_A_5115  Col_A_5116  Col_A_5117  Col_A_5118  Col_A_5119  Col_A_5120  \n",
       "0           0           0           0           0           0           0  \n",
       "1           0           0           0           0           0           0  \n",
       "2           0           0           1           0           0           0  \n",
       "3           0           0           1           0           0           0  \n",
       "4           0           0           0           0           0           0  \n",
       "\n",
       "[5 rows x 5120 columns]"
      ]
     },
     "execution_count": 24,
     "metadata": {},
     "output_type": "execute_result"
    }
   ],
   "source": [
    "# Put them in a data frame\n",
    "concatenated_df = pd.DataFrame(concatenated,columns=['Col_A_{}'.format(i + 1) for i in range(concatenated.shape[1])])\n",
    "concatenated_df.head()"
   ]
  },
  {
   "cell_type": "code",
   "execution_count": 25,
   "metadata": {},
   "outputs": [
    {
     "name": "stdout",
     "output_type": "stream",
     "text": [
      "{'fit_time': array([1.23699784, 1.24199843, 1.17899799, 1.3899982 , 1.24799848,\n",
      "       1.34599805, 1.21599817, 1.29299808, 1.27199745, 1.22099853]), 'score_time': array([0.12499976, 0.11699963, 0.12199974, 0.11599946, 0.11899972,\n",
      "       0.11900043, 0.11399984, 0.11900043, 0.1190002 , 0.11699963]), 'test_r2': array([0.9539233 , 0.94593933, 0.94569323, 0.95567864, 0.9544228 ,\n",
      "       0.95253277, 0.94532573, 0.95206717, 0.94722408, 0.94938093]), 'test_neg_root_mean_squared_error': array([-5.9129151 , -6.33379851, -6.39298916, -5.82638655, -5.79140752,\n",
      "       -5.83864496, -6.17738341, -5.9729341 , -6.19285072, -6.13078845])}\n",
      "Total time required: 0.28 min\n"
     ]
    }
   ],
   "source": [
    "# start time\n",
    "start = time.time()\n",
    "\n",
    "# from Sklearn -shuffle and split data \n",
    "cv = ShuffleSplit(n_splits=10, test_size=0.3, random_state=42)\n",
    "\n",
    "scoring = ['r2','neg_root_mean_squared_error'] \n",
    "\n",
    "scores_CN = cross_validate(lgbm_av, concatenated_df,  data.Output, scoring=scoring, cv=cv)\n",
    "\n",
    "\n",
    "print(scores_CN)\n",
    "# wait for 3 seconds\n",
    "\n",
    "time.sleep(3)\n",
    "# get the end time\n",
    "end = time.time()\n",
    "\n",
    "# get the execution time\n",
    "total_time = end - start\n",
    "print('Total time required:', round(total_time/60, 2), 'min') # takes about 0.27 min"
   ]
  },
  {
   "cell_type": "markdown",
   "metadata": {},
   "source": [
    "### Notes: Avalon fingerprints used,  for each reagent 1024 bits used except the ligands. The ligands are relatively bigger, and 2048 bits were used."
   ]
  },
  {
   "cell_type": "code",
   "execution_count": 26,
   "metadata": {},
   "outputs": [
    {
     "data": {
      "text/plain": [
       "array([0.9539233 , 0.94593933, 0.94569323, 0.95567864, 0.9544228 ,\n",
       "       0.95253277, 0.94532573, 0.95206717, 0.94722408, 0.94938093])"
      ]
     },
     "execution_count": 26,
     "metadata": {},
     "output_type": "execute_result"
    }
   ],
   "source": [
    "scores_CN['test_r2']"
   ]
  },
  {
   "cell_type": "code",
   "execution_count": 27,
   "metadata": {},
   "outputs": [
    {
     "name": "stdout",
     "output_type": "stream",
     "text": [
      "R^2 : 0.95\n",
      "RMSE : 6.06\n"
     ]
    }
   ],
   "source": [
    "# Mean values of tenfold cross-validation values of R^2 and RMSE\n",
    "\n",
    "print(\"R^2 :\", round(np.mean(scores_CN['test_r2']), 2))\n",
    "print(\"RMSE :\", round(np.mean(-scores_CN['test_neg_root_mean_squared_error']), 2))"
   ]
  },
  {
   "cell_type": "markdown",
   "metadata": {},
   "source": [
    "[ Ahneman et al.](https://doylecpanel.cpaneldev.princeton.edu/wp-content/uploads/2020/07/43-Predicting-Reaction-Performance-in-C-N-Cross-Coupling-Using-Machine-Learning.pdf) <br>\n",
    "[Sandfort et al.](https://www.sciencedirect.com/science/article/pii/S2451929420300851)\n",
    "\n",
    "<table>  \n",
    "    <tr>\n",
    "     <td><img src = \"Buchwald_performance.JPG\", align = \"left\", width = \"400\"/></td>\n",
    "     <td><img src=\"Buchwald_RF.JPG\" width=\"600\",align =\"left\"/>\n",
    "     </td>\n",
    "    </tr>\n",
    "</table>\n"
   ]
  },
  {
   "cell_type": "markdown",
   "metadata": {},
   "source": [
    "[ See supporting information of the paper](https://zivgitlab.uni-muenster.de/m_kueh11/fp-dm-tool)\n",
    "\n",
    "\n",
    "<div>\n",
    "<img src= \"Feature Preprocessing.JPG\",align = \"left\", width = \"600\" />\n",
    " </div>"
   ]
  },
  {
   "cell_type": "code",
   "execution_count": 28,
   "metadata": {},
   "outputs": [],
   "source": [
    "# Train-test split\n",
    "X_train, X_test, y_train, y_test = train_test_split(concatenated_df, data.Output, \n",
    "                                                test_size = 0.3, shuffle=True,random_state=42)"
   ]
  },
  {
   "cell_type": "code",
   "execution_count": 29,
   "metadata": {},
   "outputs": [],
   "source": [
    "# Model training and prediction\n",
    "# All the features are used\n",
    "model_all_feature = LGBMRegressor(n_estimators=800,random_state=42)\n",
    "model_all_feature.fit(X_train,y_train)\n",
    "predicted_yield_all_feature = model_all_feature.predict(X_test)"
   ]
  },
  {
   "cell_type": "code",
   "execution_count": 30,
   "metadata": {},
   "outputs": [
    {
     "name": "stdout",
     "output_type": "stream",
     "text": [
      "RMSE:  5.91\n",
      "R2:  0.95\n"
     ]
    }
   ],
   "source": [
    "# Calculate root-mean-squared error (RMSE) & coefficient of determination\n",
    "RMSE_all =np.sqrt(mean_squared_error(y_test, predicted_yield_all_feature))\n",
    "R2_all = r2_score(y_test, predicted_yield_all_feature)\n",
    "print('RMSE: ',round(RMSE_all,2))\n",
    "print('R2: ', round(R2_all,2))"
   ]
  },
  {
   "cell_type": "code",
   "execution_count": 31,
   "metadata": {},
   "outputs": [
    {
     "data": {
      "text/plain": [
       "<matplotlib.legend.Legend at 0x1941b5ec550>"
      ]
     },
     "execution_count": 31,
     "metadata": {},
     "output_type": "execute_result"
    },
    {
     "data": {
      "image/png": "[encoded data removed]",
      "text/plain": [
       "<Figure size 360x360 with 1 Axes>"
      ]
     },
     "metadata": {
      "needs_background": "light"
     },
     "output_type": "display_data"
    }
   ],
   "source": [
    "# Plot predicted and observed yields\n",
    "plt.figure(figsize=(5,5))\n",
    "sns.regplot(x=predicted_yield_all_feature, y=y_test,line_kws={\"lw\":2,'ls':'--','color':'black',\"alpha\":0.7})\n",
    "plt.xlabel('Predicted Yield', color='blue')\n",
    "plt.ylabel('Observed Yield', color ='blue')\n",
    "plt.xlim(0,100)\n",
    "plt.ylim(0,100)\n",
    "plt.title(\"Yield prediction for C-N cross-coupling\", color='red')\n",
    "plt.grid(alpha=0.2)\n",
    "R2_all = mpatches.Patch(label=\"R2={:04.2f}\".format(R2_all))\n",
    "RMSE_all = mpatches.Patch(label=\"RMSE={:4.2f}\".format(RMSE_all))\n",
    "plt.legend(handles=[R2_all, RMSE_all])"
   ]
  },
  {
   "cell_type": "markdown",
   "metadata": {},
   "source": [
    "<div style= \" border-style:dotted;text-align:left;color:blue;font-size:25px;border-radius: 10px;padding: 20px 20px;\">\n",
    "3. Prediction of Enantioselectivity\n",
    "</div>"
   ]
  },
  {
   "cell_type": "markdown",
   "metadata": {},
   "source": [
    "\n",
    "<div>\n",
    "    <img src = \"Enantioselective.JPG\", width = \"500\">\n",
    "  </div>\n",
    "    \n",
    "  Reference 1: [Zahrt et al ](https://www.ncbi.nlm.nih.gov/pmc/articles/PMC6417887/)  \n",
    "  Reference 2: [Sandfort et al ](https://www.sciencedirect.com/science/article/pii/S2451929420300851) "
   ]
  },
  {
   "cell_type": "code",
   "execution_count": 32,
   "metadata": {},
   "outputs": [
    {
     "data": {
      "text/html": [
       "<div>\n",
       "<style scoped>\n",
       "    .dataframe tbody tr th:only-of-type {\n",
       "        vertical-align: middle;\n",
       "    }\n",
       "\n",
       "    .dataframe tbody tr th {\n",
       "        vertical-align: top;\n",
       "    }\n",
       "\n",
       "    .dataframe thead th {\n",
       "        text-align: right;\n",
       "    }\n",
       "</style>\n",
       "<table border=\"1\" class=\"dataframe\">\n",
       "  <thead>\n",
       "    <tr style=\"text-align: right;\">\n",
       "      <th></th>\n",
       "      <th>Catalyst</th>\n",
       "      <th>Imine</th>\n",
       "      <th>Thiol</th>\n",
       "      <th>Output</th>\n",
       "    </tr>\n",
       "  </thead>\n",
       "  <tbody>\n",
       "    <tr>\n",
       "      <th>0</th>\n",
       "      <td>O=P1(O)OC2=C(C3=CC=CC=C3)C=C4C(C=CC=C4)=C2C5=C...</td>\n",
       "      <td>O=C(C1=CC=CC=C1)/N=C/C2=CC=CC=C2</td>\n",
       "      <td>SC1=CC=CC=C1</td>\n",
       "      <td>1.179891</td>\n",
       "    </tr>\n",
       "    <tr>\n",
       "      <th>1</th>\n",
       "      <td>O=P1(O)OC2=C(C3=CC=CC=C3)C=C4C(C=CC=C4)=C2C5=C...</td>\n",
       "      <td>O=C(C1=CC=CC=C1)/N=C/C2=CC=CC=C2</td>\n",
       "      <td>CCS</td>\n",
       "      <td>0.501759</td>\n",
       "    </tr>\n",
       "    <tr>\n",
       "      <th>2</th>\n",
       "      <td>O=P1(O)OC2=C(C3=CC=CC=C3)C=C4C(C=CC=C4)=C2C5=C...</td>\n",
       "      <td>O=C(C1=CC=CC=C1)/N=C/C2=CC=CC=C2</td>\n",
       "      <td>SC1CCCCC1</td>\n",
       "      <td>0.650584</td>\n",
       "    </tr>\n",
       "    <tr>\n",
       "      <th>3</th>\n",
       "      <td>O=P1(O)OC2=C(C3=CC=CC=C3)C=C4C(C=CC=C4)=C2C5=C...</td>\n",
       "      <td>O=C(C1=CC=CC=C1)/N=C/C2=CC=CC=C2</td>\n",
       "      <td>SC1=CC=C(OC)C=C1</td>\n",
       "      <td>1.238109</td>\n",
       "    </tr>\n",
       "    <tr>\n",
       "      <th>4</th>\n",
       "      <td>O=P1(O)OC2=C(C3=CC=CC=C3)C=C4C(C=CC=C4)=C2C5=C...</td>\n",
       "      <td>O=C(C1=CC=CC=C1)/N=C/C2=CC=C(C(F)(F)F)C=C2</td>\n",
       "      <td>SC1=CC=CC=C1</td>\n",
       "      <td>1.179891</td>\n",
       "    </tr>\n",
       "  </tbody>\n",
       "</table>\n",
       "</div>"
      ],
      "text/plain": [
       "                                            Catalyst  \\\n",
       "0  O=P1(O)OC2=C(C3=CC=CC=C3)C=C4C(C=CC=C4)=C2C5=C...   \n",
       "1  O=P1(O)OC2=C(C3=CC=CC=C3)C=C4C(C=CC=C4)=C2C5=C...   \n",
       "2  O=P1(O)OC2=C(C3=CC=CC=C3)C=C4C(C=CC=C4)=C2C5=C...   \n",
       "3  O=P1(O)OC2=C(C3=CC=CC=C3)C=C4C(C=CC=C4)=C2C5=C...   \n",
       "4  O=P1(O)OC2=C(C3=CC=CC=C3)C=C4C(C=CC=C4)=C2C5=C...   \n",
       "\n",
       "                                        Imine             Thiol    Output  \n",
       "0            O=C(C1=CC=CC=C1)/N=C/C2=CC=CC=C2      SC1=CC=CC=C1  1.179891  \n",
       "1            O=C(C1=CC=CC=C1)/N=C/C2=CC=CC=C2               CCS  0.501759  \n",
       "2            O=C(C1=CC=CC=C1)/N=C/C2=CC=CC=C2         SC1CCCCC1  0.650584  \n",
       "3            O=C(C1=CC=CC=C1)/N=C/C2=CC=CC=C2  SC1=CC=C(OC)C=C1  1.238109  \n",
       "4  O=C(C1=CC=CC=C1)/N=C/C2=CC=C(C(F)(F)F)C=C2      SC1=CC=CC=C1  1.179891  "
      ]
     },
     "execution_count": 32,
     "metadata": {},
     "output_type": "execute_result"
    }
   ],
   "source": [
    "Enantioselective = pd.read_csv('Denmark_input_data.csv')\n",
    "Enantioselective.head()"
   ]
  },
  {
   "cell_type": "code",
   "execution_count": 33,
   "metadata": {},
   "outputs": [
    {
     "name": "stderr",
     "output_type": "stream",
     "text": [
      "100%|█████████████████████████████████████████████████████████████████████████████| 1075/1075 [00:02<00:00, 405.97it/s]\n",
      "100%|████████████████████████████████████████████████████████████████████████████| 1075/1075 [00:00<00:00, 2687.52it/s]\n",
      "100%|████████████████████████████████████████████████████████████████████████████| 1075/1075 [00:00<00:00, 6142.69it/s]\n"
     ]
    }
   ],
   "source": [
    "# Calculate fingerprints for reactants\n",
    "catalyst_fpts =  Calculate_Avfps(Enantioselective['Catalyst'], 2048)\n",
    "imine_fpts =  Calculate_Avfps(Enantioselective['Imine'], 1024)\n",
    "thiol_fpts =  Calculate_Avfps(Enantioselective['Thiol'], 1024)"
   ]
  },
  {
   "cell_type": "code",
   "execution_count": 34,
   "metadata": {},
   "outputs": [
    {
     "data": {
      "text/plain": [
       "(1075, 4096)"
      ]
     },
     "execution_count": 34,
     "metadata": {},
     "output_type": "execute_result"
    }
   ],
   "source": [
    "# Concatenate fingerprints of starting materials\n",
    "concatenated_fpts = np.concatenate([catalyst_fpts,imine_fpts,thiol_fpts],axis=1)\n",
    "concatenated_fpts.shape"
   ]
  },
  {
   "cell_type": "code",
   "execution_count": 35,
   "metadata": {},
   "outputs": [
    {
     "data": {
      "text/html": [
       "<div>\n",
       "<style scoped>\n",
       "    .dataframe tbody tr th:only-of-type {\n",
       "        vertical-align: middle;\n",
       "    }\n",
       "\n",
       "    .dataframe tbody tr th {\n",
       "        vertical-align: top;\n",
       "    }\n",
       "\n",
       "    .dataframe thead th {\n",
       "        text-align: right;\n",
       "    }\n",
       "</style>\n",
       "<table border=\"1\" class=\"dataframe\">\n",
       "  <thead>\n",
       "    <tr style=\"text-align: right;\">\n",
       "      <th></th>\n",
       "      <th>Col_A_1</th>\n",
       "      <th>Col_A_2</th>\n",
       "      <th>Col_A_3</th>\n",
       "      <th>Col_A_4</th>\n",
       "      <th>Col_A_5</th>\n",
       "      <th>Col_A_6</th>\n",
       "      <th>Col_A_7</th>\n",
       "      <th>Col_A_8</th>\n",
       "      <th>Col_A_9</th>\n",
       "      <th>Col_A_10</th>\n",
       "      <th>...</th>\n",
       "      <th>Col_A_4087</th>\n",
       "      <th>Col_A_4088</th>\n",
       "      <th>Col_A_4089</th>\n",
       "      <th>Col_A_4090</th>\n",
       "      <th>Col_A_4091</th>\n",
       "      <th>Col_A_4092</th>\n",
       "      <th>Col_A_4093</th>\n",
       "      <th>Col_A_4094</th>\n",
       "      <th>Col_A_4095</th>\n",
       "      <th>Col_A_4096</th>\n",
       "    </tr>\n",
       "  </thead>\n",
       "  <tbody>\n",
       "    <tr>\n",
       "      <th>0</th>\n",
       "      <td>0</td>\n",
       "      <td>0</td>\n",
       "      <td>0</td>\n",
       "      <td>0</td>\n",
       "      <td>0</td>\n",
       "      <td>0</td>\n",
       "      <td>0</td>\n",
       "      <td>0</td>\n",
       "      <td>0</td>\n",
       "      <td>0</td>\n",
       "      <td>...</td>\n",
       "      <td>0</td>\n",
       "      <td>0</td>\n",
       "      <td>0</td>\n",
       "      <td>0</td>\n",
       "      <td>0</td>\n",
       "      <td>0</td>\n",
       "      <td>0</td>\n",
       "      <td>0</td>\n",
       "      <td>0</td>\n",
       "      <td>0</td>\n",
       "    </tr>\n",
       "    <tr>\n",
       "      <th>1</th>\n",
       "      <td>0</td>\n",
       "      <td>0</td>\n",
       "      <td>0</td>\n",
       "      <td>0</td>\n",
       "      <td>0</td>\n",
       "      <td>0</td>\n",
       "      <td>0</td>\n",
       "      <td>0</td>\n",
       "      <td>0</td>\n",
       "      <td>0</td>\n",
       "      <td>...</td>\n",
       "      <td>0</td>\n",
       "      <td>0</td>\n",
       "      <td>0</td>\n",
       "      <td>0</td>\n",
       "      <td>0</td>\n",
       "      <td>0</td>\n",
       "      <td>0</td>\n",
       "      <td>0</td>\n",
       "      <td>0</td>\n",
       "      <td>0</td>\n",
       "    </tr>\n",
       "    <tr>\n",
       "      <th>2</th>\n",
       "      <td>0</td>\n",
       "      <td>0</td>\n",
       "      <td>0</td>\n",
       "      <td>0</td>\n",
       "      <td>0</td>\n",
       "      <td>0</td>\n",
       "      <td>0</td>\n",
       "      <td>0</td>\n",
       "      <td>0</td>\n",
       "      <td>0</td>\n",
       "      <td>...</td>\n",
       "      <td>0</td>\n",
       "      <td>0</td>\n",
       "      <td>0</td>\n",
       "      <td>0</td>\n",
       "      <td>0</td>\n",
       "      <td>0</td>\n",
       "      <td>0</td>\n",
       "      <td>0</td>\n",
       "      <td>0</td>\n",
       "      <td>0</td>\n",
       "    </tr>\n",
       "    <tr>\n",
       "      <th>3</th>\n",
       "      <td>0</td>\n",
       "      <td>0</td>\n",
       "      <td>0</td>\n",
       "      <td>0</td>\n",
       "      <td>0</td>\n",
       "      <td>0</td>\n",
       "      <td>0</td>\n",
       "      <td>0</td>\n",
       "      <td>0</td>\n",
       "      <td>0</td>\n",
       "      <td>...</td>\n",
       "      <td>0</td>\n",
       "      <td>0</td>\n",
       "      <td>0</td>\n",
       "      <td>0</td>\n",
       "      <td>0</td>\n",
       "      <td>0</td>\n",
       "      <td>0</td>\n",
       "      <td>0</td>\n",
       "      <td>0</td>\n",
       "      <td>0</td>\n",
       "    </tr>\n",
       "    <tr>\n",
       "      <th>4</th>\n",
       "      <td>0</td>\n",
       "      <td>0</td>\n",
       "      <td>0</td>\n",
       "      <td>0</td>\n",
       "      <td>0</td>\n",
       "      <td>0</td>\n",
       "      <td>0</td>\n",
       "      <td>0</td>\n",
       "      <td>0</td>\n",
       "      <td>0</td>\n",
       "      <td>...</td>\n",
       "      <td>0</td>\n",
       "      <td>0</td>\n",
       "      <td>0</td>\n",
       "      <td>0</td>\n",
       "      <td>0</td>\n",
       "      <td>0</td>\n",
       "      <td>0</td>\n",
       "      <td>0</td>\n",
       "      <td>0</td>\n",
       "      <td>0</td>\n",
       "    </tr>\n",
       "    <tr>\n",
       "      <th>...</th>\n",
       "      <td>...</td>\n",
       "      <td>...</td>\n",
       "      <td>...</td>\n",
       "      <td>...</td>\n",
       "      <td>...</td>\n",
       "      <td>...</td>\n",
       "      <td>...</td>\n",
       "      <td>...</td>\n",
       "      <td>...</td>\n",
       "      <td>...</td>\n",
       "      <td>...</td>\n",
       "      <td>...</td>\n",
       "      <td>...</td>\n",
       "      <td>...</td>\n",
       "      <td>...</td>\n",
       "      <td>...</td>\n",
       "      <td>...</td>\n",
       "      <td>...</td>\n",
       "      <td>...</td>\n",
       "      <td>...</td>\n",
       "      <td>...</td>\n",
       "    </tr>\n",
       "    <tr>\n",
       "      <th>1070</th>\n",
       "      <td>0</td>\n",
       "      <td>0</td>\n",
       "      <td>0</td>\n",
       "      <td>0</td>\n",
       "      <td>0</td>\n",
       "      <td>0</td>\n",
       "      <td>0</td>\n",
       "      <td>0</td>\n",
       "      <td>0</td>\n",
       "      <td>0</td>\n",
       "      <td>...</td>\n",
       "      <td>0</td>\n",
       "      <td>0</td>\n",
       "      <td>0</td>\n",
       "      <td>0</td>\n",
       "      <td>0</td>\n",
       "      <td>0</td>\n",
       "      <td>0</td>\n",
       "      <td>0</td>\n",
       "      <td>0</td>\n",
       "      <td>0</td>\n",
       "    </tr>\n",
       "    <tr>\n",
       "      <th>1071</th>\n",
       "      <td>0</td>\n",
       "      <td>0</td>\n",
       "      <td>0</td>\n",
       "      <td>0</td>\n",
       "      <td>0</td>\n",
       "      <td>0</td>\n",
       "      <td>0</td>\n",
       "      <td>0</td>\n",
       "      <td>0</td>\n",
       "      <td>0</td>\n",
       "      <td>...</td>\n",
       "      <td>0</td>\n",
       "      <td>0</td>\n",
       "      <td>0</td>\n",
       "      <td>0</td>\n",
       "      <td>0</td>\n",
       "      <td>0</td>\n",
       "      <td>0</td>\n",
       "      <td>0</td>\n",
       "      <td>0</td>\n",
       "      <td>0</td>\n",
       "    </tr>\n",
       "    <tr>\n",
       "      <th>1072</th>\n",
       "      <td>0</td>\n",
       "      <td>0</td>\n",
       "      <td>0</td>\n",
       "      <td>0</td>\n",
       "      <td>0</td>\n",
       "      <td>0</td>\n",
       "      <td>0</td>\n",
       "      <td>0</td>\n",
       "      <td>0</td>\n",
       "      <td>0</td>\n",
       "      <td>...</td>\n",
       "      <td>0</td>\n",
       "      <td>0</td>\n",
       "      <td>0</td>\n",
       "      <td>0</td>\n",
       "      <td>0</td>\n",
       "      <td>0</td>\n",
       "      <td>0</td>\n",
       "      <td>0</td>\n",
       "      <td>0</td>\n",
       "      <td>0</td>\n",
       "    </tr>\n",
       "    <tr>\n",
       "      <th>1073</th>\n",
       "      <td>0</td>\n",
       "      <td>0</td>\n",
       "      <td>0</td>\n",
       "      <td>0</td>\n",
       "      <td>0</td>\n",
       "      <td>0</td>\n",
       "      <td>0</td>\n",
       "      <td>0</td>\n",
       "      <td>0</td>\n",
       "      <td>0</td>\n",
       "      <td>...</td>\n",
       "      <td>0</td>\n",
       "      <td>0</td>\n",
       "      <td>0</td>\n",
       "      <td>0</td>\n",
       "      <td>0</td>\n",
       "      <td>0</td>\n",
       "      <td>0</td>\n",
       "      <td>0</td>\n",
       "      <td>0</td>\n",
       "      <td>0</td>\n",
       "    </tr>\n",
       "    <tr>\n",
       "      <th>1074</th>\n",
       "      <td>0</td>\n",
       "      <td>0</td>\n",
       "      <td>0</td>\n",
       "      <td>0</td>\n",
       "      <td>0</td>\n",
       "      <td>0</td>\n",
       "      <td>0</td>\n",
       "      <td>0</td>\n",
       "      <td>0</td>\n",
       "      <td>0</td>\n",
       "      <td>...</td>\n",
       "      <td>0</td>\n",
       "      <td>0</td>\n",
       "      <td>0</td>\n",
       "      <td>0</td>\n",
       "      <td>0</td>\n",
       "      <td>0</td>\n",
       "      <td>0</td>\n",
       "      <td>0</td>\n",
       "      <td>0</td>\n",
       "      <td>0</td>\n",
       "    </tr>\n",
       "  </tbody>\n",
       "</table>\n",
       "<p>1075 rows × 4096 columns</p>\n",
       "</div>"
      ],
      "text/plain": [
       "      Col_A_1  Col_A_2  Col_A_3  Col_A_4  Col_A_5  Col_A_6  Col_A_7  Col_A_8  \\\n",
       "0           0        0        0        0        0        0        0        0   \n",
       "1           0        0        0        0        0        0        0        0   \n",
       "2           0        0        0        0        0        0        0        0   \n",
       "3           0        0        0        0        0        0        0        0   \n",
       "4           0        0        0        0        0        0        0        0   \n",
       "...       ...      ...      ...      ...      ...      ...      ...      ...   \n",
       "1070        0        0        0        0        0        0        0        0   \n",
       "1071        0        0        0        0        0        0        0        0   \n",
       "1072        0        0        0        0        0        0        0        0   \n",
       "1073        0        0        0        0        0        0        0        0   \n",
       "1074        0        0        0        0        0        0        0        0   \n",
       "\n",
       "      Col_A_9  Col_A_10  ...  Col_A_4087  Col_A_4088  Col_A_4089  Col_A_4090  \\\n",
       "0           0         0  ...           0           0           0           0   \n",
       "1           0         0  ...           0           0           0           0   \n",
       "2           0         0  ...           0           0           0           0   \n",
       "3           0         0  ...           0           0           0           0   \n",
       "4           0         0  ...           0           0           0           0   \n",
       "...       ...       ...  ...         ...         ...         ...         ...   \n",
       "1070        0         0  ...           0           0           0           0   \n",
       "1071        0         0  ...           0           0           0           0   \n",
       "1072        0         0  ...           0           0           0           0   \n",
       "1073        0         0  ...           0           0           0           0   \n",
       "1074        0         0  ...           0           0           0           0   \n",
       "\n",
       "      Col_A_4091  Col_A_4092  Col_A_4093  Col_A_4094  Col_A_4095  Col_A_4096  \n",
       "0              0           0           0           0           0           0  \n",
       "1              0           0           0           0           0           0  \n",
       "2              0           0           0           0           0           0  \n",
       "3              0           0           0           0           0           0  \n",
       "4              0           0           0           0           0           0  \n",
       "...          ...         ...         ...         ...         ...         ...  \n",
       "1070           0           0           0           0           0           0  \n",
       "1071           0           0           0           0           0           0  \n",
       "1072           0           0           0           0           0           0  \n",
       "1073           0           0           0           0           0           0  \n",
       "1074           0           0           0           0           0           0  \n",
       "\n",
       "[1075 rows x 4096 columns]"
      ]
     },
     "execution_count": 35,
     "metadata": {},
     "output_type": "execute_result"
    }
   ],
   "source": [
    "# Put them in a dataframe\n",
    "Enan_concatenated_df = pd.DataFrame(concatenated_fpts,columns=['Col_A_{}'.format(i + 1) for i in range(concatenated_fpts.shape[1])])\n",
    "Enan_concatenated_df"
   ]
  },
  {
   "cell_type": "code",
   "execution_count": 36,
   "metadata": {},
   "outputs": [
    {
     "data": {
      "text/plain": [
       "(1075, 4096)"
      ]
     },
     "execution_count": 36,
     "metadata": {},
     "output_type": "execute_result"
    }
   ],
   "source": [
    "Enan_concatenated_df.shape"
   ]
  },
  {
   "cell_type": "code",
   "execution_count": 37,
   "metadata": {},
   "outputs": [
    {
     "name": "stdout",
     "output_type": "stream",
     "text": [
      "{'fit_time': array([1.63599801, 1.61799502, 1.65402317, 1.66600251, 1.60000777,\n",
      "       1.61099768, 1.60399461, 1.62799811, 1.61599326, 1.71806026]), 'score_time': array([0.02799964, 0.02899861, 0.03399897, 0.02899551, 0.031991  ,\n",
      "       0.02899957, 0.02899933, 0.03099608, 0.03000021, 0.03100157]), 'test_r2': array([0.90742351, 0.91545193, 0.91467467, 0.90406854, 0.89915668,\n",
      "       0.90329878, 0.89087937, 0.89553598, 0.89663639, 0.91173861]), 'test_neg_mean_absolute_error': array([-0.14138233, -0.13877994, -0.14195212, -0.14786279, -0.15226276,\n",
      "       -0.13747151, -0.14818746, -0.14827712, -0.15444151, -0.14758605])}\n",
      "Total time required: 19.67 seconds\n"
     ]
    }
   ],
   "source": [
    "# Random forest model for enantioselective reaction\n",
    "model_rf_enan = RandomForestRegressor(random_state=42)\n",
    "\n",
    "# start time\n",
    "start = time.time()\n",
    "\n",
    "# from Sklearn -shuffle and split data \n",
    "cv = ShuffleSplit(n_splits=10, test_size = 0.441, random_state=42)\n",
    "\n",
    "scoring = ['r2','neg_mean_absolute_error']\n",
    "scores_enan = cross_validate(model_rf_enan, Enan_concatenated_df,  Enantioselective.Output, scoring=scoring, cv=cv)\n",
    "\n",
    "\n",
    "print(scores_enan)\n",
    "# wait for 3 seconds\n",
    "\n",
    "time.sleep(3)\n",
    "# get the end time\n",
    "end = time.time()\n",
    "\n",
    "# get the execution time\n",
    "total_time = end - start\n",
    "print('Total time required:', round(total_time, 2), 'seconds') # takes about 19 seconds"
   ]
  },
  {
   "cell_type": "code",
   "execution_count": 38,
   "metadata": {},
   "outputs": [
    {
     "name": "stdout",
     "output_type": "stream",
     "text": [
      "R^2 : 0.904\n",
      "MAE : 0.146\n"
     ]
    }
   ],
   "source": [
    "# Mean values of tenfold cross-validation values of R^2 and MAE\n",
    "\n",
    "print(\"R^2 :\", round(np.mean(scores_enan['test_r2']), 3))\n",
    "print(\"MAE :\", round(np.mean(-scores_enan['test_neg_mean_absolute_error']), 3))"
   ]
  },
  {
   "cell_type": "markdown",
   "metadata": {},
   "source": [
    " [Sandfort et al ](https://www.sciencedirect.com/science/article/pii/S2451929420300851) \n",
    "<div>\n",
    "   <img src = \"Enantioselective_graph.JPG\",align =\"left\", width = \"400\"/>\n",
    " </div>\n"
   ]
  },
  {
   "cell_type": "code",
   "execution_count": 39,
   "metadata": {},
   "outputs": [],
   "source": [
    "# Train-test split\n",
    "X_train_enan, X_test_enan, y_train_enan, y_test_enan = train_test_split(Enan_concatenated_df, Enantioselective.Output, \n",
    "                                                test_size = 0.441, shuffle=True,random_state=42)"
   ]
  },
  {
   "cell_type": "code",
   "execution_count": 41,
   "metadata": {},
   "outputs": [],
   "source": [
    "# Model training and prediction\n",
    "# All the features are used\n",
    "model_enan = RandomForestRegressor(random_state=42)\n",
    "model_enan.fit(X_train_enan,y_train_enan)\n",
    "predicted_yield_enan = model_enan.predict(X_test_enan)"
   ]
  },
  {
   "cell_type": "code",
   "execution_count": 42,
   "metadata": {},
   "outputs": [
    {
     "name": "stdout",
     "output_type": "stream",
     "text": [
      "MAE: 0.141\n",
      "R2:  0.91\n"
     ]
    }
   ],
   "source": [
    "# Calculate root-mean-squared error (RMSE) & coefficient of determination\n",
    "# Model performance using MAE\n",
    "MAE_enan = mean_absolute_error(y_test_enan, predicted_yield_enan)\n",
    "print('MAE:', round(MAE_enan,3))\n",
    "R2_enan = r2_score(y_test_enan, predicted_yield_enan)\n",
    "print('R2: ', round(R2_enan,2))"
   ]
  },
  {
   "cell_type": "code",
   "execution_count": 43,
   "metadata": {},
   "outputs": [
    {
     "data": {
      "text/plain": [
       "<matplotlib.legend.Legend at 0x1941a4efcd0>"
      ]
     },
     "execution_count": 43,
     "metadata": {},
     "output_type": "execute_result"
    },
    {
     "data": {
      "image/png": "[encoded data removed]",
      "text/plain": [
       "<Figure size 360x360 with 1 Axes>"
      ]
     },
     "metadata": {
      "needs_background": "light"
     },
     "output_type": "display_data"
    }
   ],
   "source": [
    "# Plot predicted and observed yields\n",
    "plt.figure(figsize=(5,5))\n",
    "sns.regplot(x=predicted_yield_enan, y=y_test_enan,line_kws={\"lw\":2,'ls':'--','color':'black',\"alpha\":0.7})\n",
    "plt.xlabel('Predicted (kcal/mol)', color='blue')\n",
    "plt.ylabel('Observed (kcal/mol)', color ='blue')\n",
    "plt.title(\"Random Forest for Enantioselectivity\", color='red')\n",
    "plt.grid(alpha=0.2)\n",
    "R2_enan = mpatches.Patch(label=\"R2={:04.2f}\".format(R2_enan))\n",
    "MAE_enan = mpatches.Patch(label=\"MAE={:4.3f}\".format(MAE_enan))\n",
    "plt.legend(handles=[R2_enan, MAE_enan])"
   ]
  },
  {
   "cell_type": "markdown",
   "metadata": {},
   "source": [
    "<div style=\"text-align:left;color:blue;font-size:25px;border-radius: 10px;padding: 20px 20px;\"><strong>Practice Problems</strong></div>"
   ]
  },
  {
   "cell_type": "markdown",
   "metadata": {},
   "source": [
    "1. Use any of the other molecular fingerprints that we calculated in the previous [video](https://www.youtube.com/watch?v=-oHqQBUyrQ0), and calculate the molecular fingerprints of each of the three datasets that we used in this video.\n",
    "2. Use a Random Forest model and apply a 10-fold cross-validation with 70% of the data for the training and 30% for testing. \n",
    "3. Compare your results with the results of Avalon fingerprints  "
   ]
  },
  {
   "cell_type": "markdown",
   "metadata": {},
   "source": [
    "<div style=\"text-align:left;color:green;font-size:25px;border-radius: 10px;padding: 20px 20px;\"><strong>Summary:</strong></div>\n",
    "Using Avalon fingerprints as an example, we have developed predictive models for three different types of chemistry problems, HOMO-LUMO energy gap, yield and enantioselective reactions. Hopefully, in the next video, I will show you how to combine results obtained from machine learning and molecular docking to identify potentially active compounds. Stay tuned!"
   ]
  }
 ],
 "metadata": {
  "kernelspec": {
   "display_name": "Python 3",
   "language": "python",
   "name": "python3"
  },
  "language_info": {
   "codemirror_mode": {
    "name": "ipython",
    "version": 3
   },
   "file_extension": ".py",
   "mimetype": "text/x-python",
   "name": "python",
   "nbconvert_exporter": "python",
   "pygments_lexer": "ipython3",
   "version": "3.8.5"
  }
 },
 "nbformat": 4,
 "nbformat_minor": 4
}
