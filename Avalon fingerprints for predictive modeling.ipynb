{
  "cells": [
    {
      "cell_type": "markdown",
      "metadata": {
        "id": "view-in-github",
        "colab_type": "text"
      },
      "source": [
        "<a href=\"https://colab.research.google.com/github/gashawmg/Avalon-fingerprints-for-machine-learning/blob/main/Avalon%20fingerprints%20for%20predictive%20modeling.ipynb\" target=\"_parent\"><img src=\"https://colab.research.google.com/assets/colab-badge.svg\" alt=\"Open In Colab\"/></a>"
      ]
    },
    {
      "cell_type": "markdown",
      "metadata": {
        "id": "CuUqg7xSL67u"
      },
      "source": [
        "<div style=\"background-color:lightgreen; border-style: dotted;border-color: yellow;text-align:center;color:blue;font-size:20px;border-radius: 50px;padding: 20px 20px;\"><strong> Gashaw M. Goshu, Ph.D. in Chemistry</strong></div>"
      ]
    },
    {
      "cell_type": "code",
      "source": [
        "!!pip install rdkit-pypi==2022.3.1.1"
      ],
      "metadata": {
        "id": "n8f3bQheYtm9",
        "outputId": "28d79777-f4eb-4f21-d593-5379532ba80a",
        "colab": {
          "base_uri": "https://localhost:8080/"
        }
      },
      "execution_count": 2,
      "outputs": [
        {
          "output_type": "execute_result",
          "data": {
            "text/plain": [
              "['Looking in indexes: https://pypi.org/simple, https://us-python.pkg.dev/colab-wheels/public/simple/',\n",
              " 'Requirement already satisfied: rdkit-pypi==2022.3.1.1 in /usr/local/lib/python3.8/dist-packages (2022.3.1.1)',\n",
              " 'Requirement already satisfied: Pillow in /usr/local/lib/python3.8/dist-packages (from rdkit-pypi==2022.3.1.1) (7.1.2)',\n",
              " 'Requirement already satisfied: numpy in /usr/local/lib/python3.8/dist-packages (from rdkit-pypi==2022.3.1.1) (1.21.6)']"
            ]
          },
          "metadata": {},
          "execution_count": 2
        }
      ]
    },
    {
      "cell_type": "markdown",
      "metadata": {
        "id": "8fVDacKSL67w"
      },
      "source": [
        "#### In the previous [molecular fingerprints video](https://www.youtube.com/watch?v=-oHqQBUyrQ0), we saw how to generate molecular fingerprints and use them for structure search."
      ]
    },
    {
      "cell_type": "markdown",
      "metadata": {
        "id": "JladC8PDL67w"
      },
      "source": [
        "#### In this notebook, I will use Avalon fingerprints to develop predictive models for molecular property (energy gap) and reactions outcome (yield and enantioselectivity).\n",
        "* HOMO-LUMO energy gap of organic compouds\n",
        "* Yield Prediction of C–N cross coupling reactions\n",
        "* Catalytic enantioselectivity of thiol-imine reactions"
      ]
    },
    {
      "cell_type": "markdown",
      "metadata": {
        "id": "wGF7QAS0L67x"
      },
      "source": [
        "<div>\n",
        "    <img src = \"Fingerprints_predictive.JPG\", width=\"600\">\n",
        "</div>"
      ]
    },
    {
      "cell_type": "code",
      "execution_count": 3,
      "metadata": {
        "id": "Oc2KeTuKL67x"
      },
      "outputs": [],
      "source": [
        "import pandas as pd\n",
        "import numpy as np\n",
        "import seaborn as sns\n",
        "import matplotlib.pyplot as plt\n",
        "import matplotlib.patches as mpatches\n",
        "#-------------------------------------------------------\n",
        "from rdkit.Chem import AllChem\n",
        "from rdkit import Chem\n",
        "from rdkit.DataStructs.cDataStructs import ExplicitBitVect\n",
        "from rdkit.Avalon import pyAvalonTools\n",
        "from rdkit.Chem import PandasTools\n",
        "from rdkit.Chem import rdMolDescriptors\n",
        "from tqdm import tqdm\n",
        "#--------------------------------------------------------\n",
        "from sklearn.metrics import r2_score, mean_absolute_error, mean_squared_error\n",
        "from sklearn.ensemble import RandomForestRegressor\n",
        "import time\n",
        "from sklearn.model_selection import ShuffleSplit, cross_validate,train_test_split\n",
        "#--------------------------------------------------------\n",
        "from lightgbm import LGBMRegressor"
      ]
    },
    {
      "cell_type": "markdown",
      "metadata": {
        "id": "5y1avcftL67y"
      },
      "source": [
        "### Dataset obtained [Sandfort et al.](https://zivgitlab.uni-muenster.de/m_kueh11/fp-dm-tool)."
      ]
    },
    {
      "cell_type": "markdown",
      "metadata": {
        "id": "4KxOBxTSL67y"
      },
      "source": [
        "\n",
        "<div style= \" border-style:dotted;text-align:left;color:blue;font-size:25px;border-radius: 10px;padding: 20px 20px;\">\n",
        "1. HOMO-LUMO energy gap of molecules. \n",
        "\n",
        "</div>\n"
      ]
    },
    {
      "cell_type": "code",
      "execution_count": 4,
      "metadata": {
        "id": "eB9ASbNFL67y",
        "outputId": "dc43cfa0-b28d-44de-86e2-733241035867",
        "colab": {
          "base_uri": "https://localhost:8080/",
          "height": 206
        }
      },
      "outputs": [
        {
          "output_type": "execute_result",
          "data": {
            "text/plain": [
              "                                         SMILES   Energygap\n",
              "0                           Cc1ccc(cc1)C(F)(F)F  197.749421\n",
              "1                                   OC(=O)CCCCl  247.493942\n",
              "2  CC(C)(Oc1ccc(CCNC(=O)c2ccc(Cl)cc2)cc1)C(=O)O  164.712327\n",
              "3                             Nc1ccc(Cl)c(Cl)c1  169.027707\n",
              "4                         C[C@@H](CCO)CCC=C(C)C  209.569808"
            ],
            "text/html": [
              "\n",
              "  <div id=\"df-19e4ab33-22d0-4147-8a18-89a70bf5246c\">\n",
              "    <div class=\"colab-df-container\">\n",
              "      <div>\n",
              "<style scoped>\n",
              "    .dataframe tbody tr th:only-of-type {\n",
              "        vertical-align: middle;\n",
              "    }\n",
              "\n",
              "    .dataframe tbody tr th {\n",
              "        vertical-align: top;\n",
              "    }\n",
              "\n",
              "    .dataframe thead th {\n",
              "        text-align: right;\n",
              "    }\n",
              "</style>\n",
              "<table border=\"1\" class=\"dataframe\">\n",
              "  <thead>\n",
              "    <tr style=\"text-align: right;\">\n",
              "      <th></th>\n",
              "      <th>SMILES</th>\n",
              "      <th>Energygap</th>\n",
              "    </tr>\n",
              "  </thead>\n",
              "  <tbody>\n",
              "    <tr>\n",
              "      <th>0</th>\n",
              "      <td>Cc1ccc(cc1)C(F)(F)F</td>\n",
              "      <td>197.749421</td>\n",
              "    </tr>\n",
              "    <tr>\n",
              "      <th>1</th>\n",
              "      <td>OC(=O)CCCCl</td>\n",
              "      <td>247.493942</td>\n",
              "    </tr>\n",
              "    <tr>\n",
              "      <th>2</th>\n",
              "      <td>CC(C)(Oc1ccc(CCNC(=O)c2ccc(Cl)cc2)cc1)C(=O)O</td>\n",
              "      <td>164.712327</td>\n",
              "    </tr>\n",
              "    <tr>\n",
              "      <th>3</th>\n",
              "      <td>Nc1ccc(Cl)c(Cl)c1</td>\n",
              "      <td>169.027707</td>\n",
              "    </tr>\n",
              "    <tr>\n",
              "      <th>4</th>\n",
              "      <td>C[C@@H](CCO)CCC=C(C)C</td>\n",
              "      <td>209.569808</td>\n",
              "    </tr>\n",
              "  </tbody>\n",
              "</table>\n",
              "</div>\n",
              "      <button class=\"colab-df-convert\" onclick=\"convertToInteractive('df-19e4ab33-22d0-4147-8a18-89a70bf5246c')\"\n",
              "              title=\"Convert this dataframe to an interactive table.\"\n",
              "              style=\"display:none;\">\n",
              "        \n",
              "  <svg xmlns=\"http://www.w3.org/2000/svg\" height=\"24px\"viewBox=\"0 0 24 24\"\n",
              "       width=\"24px\">\n",
              "    <path d=\"M0 0h24v24H0V0z\" fill=\"none\"/>\n",
              "    <path d=\"M18.56 5.44l.94 2.06.94-2.06 2.06-.94-2.06-.94-.94-2.06-.94 2.06-2.06.94zm-11 1L8.5 8.5l.94-2.06 2.06-.94-2.06-.94L8.5 2.5l-.94 2.06-2.06.94zm10 10l.94 2.06.94-2.06 2.06-.94-2.06-.94-.94-2.06-.94 2.06-2.06.94z\"/><path d=\"M17.41 7.96l-1.37-1.37c-.4-.4-.92-.59-1.43-.59-.52 0-1.04.2-1.43.59L10.3 9.45l-7.72 7.72c-.78.78-.78 2.05 0 2.83L4 21.41c.39.39.9.59 1.41.59.51 0 1.02-.2 1.41-.59l7.78-7.78 2.81-2.81c.8-.78.8-2.07 0-2.86zM5.41 20L4 18.59l7.72-7.72 1.47 1.35L5.41 20z\"/>\n",
              "  </svg>\n",
              "      </button>\n",
              "      \n",
              "  <style>\n",
              "    .colab-df-container {\n",
              "      display:flex;\n",
              "      flex-wrap:wrap;\n",
              "      gap: 12px;\n",
              "    }\n",
              "\n",
              "    .colab-df-convert {\n",
              "      background-color: #E8F0FE;\n",
              "      border: none;\n",
              "      border-radius: 50%;\n",
              "      cursor: pointer;\n",
              "      display: none;\n",
              "      fill: #1967D2;\n",
              "      height: 32px;\n",
              "      padding: 0 0 0 0;\n",
              "      width: 32px;\n",
              "    }\n",
              "\n",
              "    .colab-df-convert:hover {\n",
              "      background-color: #E2EBFA;\n",
              "      box-shadow: 0px 1px 2px rgba(60, 64, 67, 0.3), 0px 1px 3px 1px rgba(60, 64, 67, 0.15);\n",
              "      fill: #174EA6;\n",
              "    }\n",
              "\n",
              "    [theme=dark] .colab-df-convert {\n",
              "      background-color: #3B4455;\n",
              "      fill: #D2E3FC;\n",
              "    }\n",
              "\n",
              "    [theme=dark] .colab-df-convert:hover {\n",
              "      background-color: #434B5C;\n",
              "      box-shadow: 0px 1px 3px 1px rgba(0, 0, 0, 0.15);\n",
              "      filter: drop-shadow(0px 1px 2px rgba(0, 0, 0, 0.3));\n",
              "      fill: #FFFFFF;\n",
              "    }\n",
              "  </style>\n",
              "\n",
              "      <script>\n",
              "        const buttonEl =\n",
              "          document.querySelector('#df-19e4ab33-22d0-4147-8a18-89a70bf5246c button.colab-df-convert');\n",
              "        buttonEl.style.display =\n",
              "          google.colab.kernel.accessAllowed ? 'block' : 'none';\n",
              "\n",
              "        async function convertToInteractive(key) {\n",
              "          const element = document.querySelector('#df-19e4ab33-22d0-4147-8a18-89a70bf5246c');\n",
              "          const dataTable =\n",
              "            await google.colab.kernel.invokeFunction('convertToInteractive',\n",
              "                                                     [key], {});\n",
              "          if (!dataTable) return;\n",
              "\n",
              "          const docLinkHtml = 'Like what you see? Visit the ' +\n",
              "            '<a target=\"_blank\" href=https://colab.research.google.com/notebooks/data_table.ipynb>data table notebook</a>'\n",
              "            + ' to learn more about interactive tables.';\n",
              "          element.innerHTML = '';\n",
              "          dataTable['output_type'] = 'display_data';\n",
              "          await google.colab.output.renderOutput(dataTable, element);\n",
              "          const docLink = document.createElement('div');\n",
              "          docLink.innerHTML = docLinkHtml;\n",
              "          element.appendChild(docLink);\n",
              "        }\n",
              "      </script>\n",
              "    </div>\n",
              "  </div>\n",
              "  "
            ]
          },
          "metadata": {},
          "execution_count": 4
        }
      ],
      "source": [
        "# Reference for the datasets: https://zivgitlab.uni-muenster.de/m_kueh11/fp-dm-tool\n",
        "# but, I converted excel files to csv files \n",
        "\n",
        "dataset = pd.read_csv(\"https://raw.githubusercontent.com/gashawmg/Avalon-fingerprints-for-machine-learning/main/Orbital_Energies_input_data.csv\")\n",
        "dataset.head()"
      ]
    },
    {
      "cell_type": "code",
      "execution_count": 5,
      "metadata": {
        "id": "S_3Um7OcL67z",
        "outputId": "07425aa6-0957-4871-b2ba-883cc4f48c47",
        "colab": {
          "base_uri": "https://localhost:8080/"
        }
      },
      "outputs": [
        {
          "output_type": "execute_result",
          "data": {
            "text/plain": [
              "(2904, 2)"
            ]
          },
          "metadata": {},
          "execution_count": 5
        }
      ],
      "source": [
        "dataset.shape"
      ]
    },
    {
      "cell_type": "code",
      "execution_count": 6,
      "metadata": {
        "id": "_pph-oFlL67z"
      },
      "outputs": [],
      "source": [
        "# Include 2D structure of molecules\n",
        "PandasTools.AddMoleculeColumnToFrame(dataset,'SMILES','Stucture',includeFingerprints=True)"
      ]
    },
    {
      "cell_type": "code",
      "execution_count": 7,
      "metadata": {
        "id": "7jbCj2SaL670",
        "outputId": "0f6c1383-9c10-426d-82d5-e9cb582935fb",
        "colab": {
          "base_uri": "https://localhost:8080/",
          "height": 1000
        }
      },
      "outputs": [
        {
          "output_type": "execute_result",
          "data": {
            "text/plain": [
              "                                         SMILES   Energygap  \\\n",
              "0                           Cc1ccc(cc1)C(F)(F)F  197.749421   \n",
              "1                                   OC(=O)CCCCl  247.493942   \n",
              "2  CC(C)(Oc1ccc(CCNC(=O)c2ccc(Cl)cc2)cc1)C(=O)O  164.712327   \n",
              "3                             Nc1ccc(Cl)c(Cl)c1  169.027707   \n",
              "4                         C[C@@H](CCO)CCC=C(C)C  209.569808   \n",
              "\n",
              "                                            Stucture  \n",
              "0  <img data-content=\"rdkit/molecule\" src=\"data:i...  \n",
              "1  <img data-content=\"rdkit/molecule\" src=\"data:i...  \n",
              "2  <img data-content=\"rdkit/molecule\" src=\"data:i...  \n",
              "3  <img data-content=\"rdkit/molecule\" src=\"data:i...  \n",
              "4  <img data-content=\"rdkit/molecule\" src=\"data:i...  "
            ],
            "text/html": [
              "\n",
              "  <div id=\"df-5549ba3a-8e7b-49ac-acd6-a5c507873148\">\n",
              "    <div class=\"colab-df-container\">\n",
              "      <div>\n",
              "<style scoped>\n",
              "    .dataframe tbody tr th:only-of-type {\n",
              "        vertical-align: middle;\n",
              "    }\n",
              "\n",
              "    .dataframe tbody tr th {\n",
              "        vertical-align: top;\n",
              "    }\n",
              "\n",
              "    .dataframe thead th {\n",
              "        text-align: right;\n",
              "    }\n",
              "</style>\n",
              "<table border=\"1\" class=\"dataframe\">\n",
              "  <thead>\n",
              "    <tr style=\"text-align: right;\">\n",
              "      <th></th>\n",
              "      <th>SMILES</th>\n",
              "      <th>Energygap</th>\n",
              "      <th>Stucture</th>\n",
              "    </tr>\n",
              "  </thead>\n",
              "  <tbody>\n",
              "    <tr>\n",
              "      <th>0</th>\n",
              "      <td>Cc1ccc(cc1)C(F)(F)F</td>\n",
              "      <td>197.749421</td>\n",
              "      <td style=\"text-align: center;\"><img data-content=\"rdkit/molecule\" src=\"data:image/png;base64,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\" alt=\"Mol\"/></td>\n",
              "    </tr>\n",
              "    <tr>\n",
              "      <th>1</th>\n",
              "      <td>OC(=O)CCCCl</td>\n",
              "      <td>247.493942</td>\n",
              "      <td style=\"text-align: center;\"><img data-content=\"rdkit/molecule\" src=\"data:image/png;base64,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\" alt=\"Mol\"/></td>\n",
              "    </tr>\n",
              "    <tr>\n",
              "      <th>2</th>\n",
              "      <td>CC(C)(Oc1ccc(CCNC(=O)c2ccc(Cl)cc2)cc1)C(=O)O</td>\n",
              "      <td>164.712327</td>\n",
              "      <td style=\"text-align: center;\"><img data-content=\"rdkit/molecule\" src=\"data:image/png;base64,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\" alt=\"Mol\"/></td>\n",
              "    </tr>\n",
              "    <tr>\n",
              "      <th>3</th>\n",
              "      <td>Nc1ccc(Cl)c(Cl)c1</td>\n",
              "      <td>169.027707</td>\n",
              "      <td style=\"text-align: center;\"><img data-content=\"rdkit/molecule\" src=\"data:image/png;base64,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\" alt=\"Mol\"/></td>\n",
              "    </tr>\n",
              "    <tr>\n",
              "      <th>4</th>\n",
              "      <td>C[C@@H](CCO)CCC=C(C)C</td>\n",
              "      <td>209.569808</td>\n",
              "      <td style=\"text-align: center;\"><img data-content=\"rdkit/molecule\" src=\"data:image/png;base64,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\" alt=\"Mol\"/></td>\n",
              "    </tr>\n",
              "  </tbody>\n",
              "</table>\n",
              "</div>\n",
              "      <button class=\"colab-df-convert\" onclick=\"convertToInteractive('df-5549ba3a-8e7b-49ac-acd6-a5c507873148')\"\n",
              "              title=\"Convert this dataframe to an interactive table.\"\n",
              "              style=\"display:none;\">\n",
              "        \n",
              "  <svg xmlns=\"http://www.w3.org/2000/svg\" height=\"24px\"viewBox=\"0 0 24 24\"\n",
              "       width=\"24px\">\n",
              "    <path d=\"M0 0h24v24H0V0z\" fill=\"none\"/>\n",
              "    <path d=\"M18.56 5.44l.94 2.06.94-2.06 2.06-.94-2.06-.94-.94-2.06-.94 2.06-2.06.94zm-11 1L8.5 8.5l.94-2.06 2.06-.94-2.06-.94L8.5 2.5l-.94 2.06-2.06.94zm10 10l.94 2.06.94-2.06 2.06-.94-2.06-.94-.94-2.06-.94 2.06-2.06.94z\"/><path d=\"M17.41 7.96l-1.37-1.37c-.4-.4-.92-.59-1.43-.59-.52 0-1.04.2-1.43.59L10.3 9.45l-7.72 7.72c-.78.78-.78 2.05 0 2.83L4 21.41c.39.39.9.59 1.41.59.51 0 1.02-.2 1.41-.59l7.78-7.78 2.81-2.81c.8-.78.8-2.07 0-2.86zM5.41 20L4 18.59l7.72-7.72 1.47 1.35L5.41 20z\"/>\n",
              "  </svg>\n",
              "      </button>\n",
              "      \n",
              "  <style>\n",
              "    .colab-df-container {\n",
              "      display:flex;\n",
              "      flex-wrap:wrap;\n",
              "      gap: 12px;\n",
              "    }\n",
              "\n",
              "    .colab-df-convert {\n",
              "      background-color: #E8F0FE;\n",
              "      border: none;\n",
              "      border-radius: 50%;\n",
              "      cursor: pointer;\n",
              "      display: none;\n",
              "      fill: #1967D2;\n",
              "      height: 32px;\n",
              "      padding: 0 0 0 0;\n",
              "      width: 32px;\n",
              "    }\n",
              "\n",
              "    .colab-df-convert:hover {\n",
              "      background-color: #E2EBFA;\n",
              "      box-shadow: 0px 1px 2px rgba(60, 64, 67, 0.3), 0px 1px 3px 1px rgba(60, 64, 67, 0.15);\n",
              "      fill: #174EA6;\n",
              "    }\n",
              "\n",
              "    [theme=dark] .colab-df-convert {\n",
              "      background-color: #3B4455;\n",
              "      fill: #D2E3FC;\n",
              "    }\n",
              "\n",
              "    [theme=dark] .colab-df-convert:hover {\n",
              "      background-color: #434B5C;\n",
              "      box-shadow: 0px 1px 3px 1px rgba(0, 0, 0, 0.15);\n",
              "      filter: drop-shadow(0px 1px 2px rgba(0, 0, 0, 0.3));\n",
              "      fill: #FFFFFF;\n",
              "    }\n",
              "  </style>\n",
              "\n",
              "      <script>\n",
              "        const buttonEl =\n",
              "          document.querySelector('#df-5549ba3a-8e7b-49ac-acd6-a5c507873148 button.colab-df-convert');\n",
              "        buttonEl.style.display =\n",
              "          google.colab.kernel.accessAllowed ? 'block' : 'none';\n",
              "\n",
              "        async function convertToInteractive(key) {\n",
              "          const element = document.querySelector('#df-5549ba3a-8e7b-49ac-acd6-a5c507873148');\n",
              "          const dataTable =\n",
              "            await google.colab.kernel.invokeFunction('convertToInteractive',\n",
              "                                                     [key], {});\n",
              "          if (!dataTable) return;\n",
              "\n",
              "          const docLinkHtml = 'Like what you see? Visit the ' +\n",
              "            '<a target=\"_blank\" href=https://colab.research.google.com/notebooks/data_table.ipynb>data table notebook</a>'\n",
              "            + ' to learn more about interactive tables.';\n",
              "          element.innerHTML = '';\n",
              "          dataTable['output_type'] = 'display_data';\n",
              "          await google.colab.output.renderOutput(dataTable, element);\n",
              "          const docLink = document.createElement('div');\n",
              "          docLink.innerHTML = docLinkHtml;\n",
              "          element.appendChild(docLink);\n",
              "        }\n",
              "      </script>\n",
              "    </div>\n",
              "  </div>\n",
              "  "
            ]
          },
          "metadata": {},
          "execution_count": 7
        }
      ],
      "source": [
        "dataset.head()"
      ]
    },
    {
      "cell_type": "markdown",
      "metadata": {
        "id": "3113Ql8wL670"
      },
      "source": [
        "<div style= \" border-style:dotted;text-align:left;color:purple;font-size:20px;border-radius: 10px;padding: 20px 20px;\"> \n",
        "    \n",
        "* Function defination for generating Avalon molecular fingerprints using RDKit\n",
        "</div>"
      ]
    },
    {
      "cell_type": "code",
      "execution_count": 8,
      "metadata": {
        "id": "MbemgnLiL670"
      },
      "outputs": [],
      "source": [
        "def generate_AVfpts(data):\n",
        "    \n",
        "    # Store fingerprints using empty lists\n",
        "    \n",
        "    Avalon_fpts = []\n",
        "    \n",
        "    # Here no need to generate mol files\n",
        "    # We can directly use the structure column of the data frame\n",
        "    # mols = [Chem.MolFromSmiles(x) for x in data if x is not None]\n",
        "    for mol in tqdm(data):\n",
        "      \n",
        "               \n",
        "        #=============================\n",
        "        # calculate Avalon fingerprints\n",
        "        #=============================\n",
        "        avfpts = pyAvalonTools.GetAvalonFP(mol, nBits=4096)\n",
        "        Avalon_fpts.append(avfpts)\n",
        "        \n",
        "        \n",
        "    #=====append=========================\n",
        "    # return the lists as numpy array \n",
        "    #====================================\n",
        "    return np.array(Avalon_fpts)"
      ]
    },
    {
      "cell_type": "markdown",
      "metadata": {
        "id": "q7fHnN8SL670"
      },
      "source": [
        "<div style= \"border-style:dotted;text-align:left;color:darkblue;font-size:20px;border-radius: 10px;padding: 20px 20px;\"> \n",
        "    \n",
        "* Function call to generate Avalon molecular fingerprints of compounds that have HOMO-LUMO energy gap.\n",
        "</div>"
      ]
    },
    {
      "cell_type": "code",
      "execution_count": 9,
      "metadata": {
        "id": "xwBhnR83L671",
        "outputId": "da817f5e-bd4d-43d7-f2e1-f76fc18ac355",
        "colab": {
          "base_uri": "https://localhost:8080/"
        }
      },
      "outputs": [
        {
          "output_type": "stream",
          "name": "stderr",
          "text": [
            "100%|██████████| 2904/2904 [00:08<00:00, 347.20it/s]\n"
          ]
        }
      ],
      "source": [
        "# Function call\n",
        "Avalon_fpts = generate_AVfpts(dataset['Stucture'])"
      ]
    },
    {
      "cell_type": "markdown",
      "metadata": {
        "id": "TT9MxWvjL671"
      },
      "source": [
        "### Put the fingerprints in dataframe"
      ]
    },
    {
      "cell_type": "code",
      "execution_count": 10,
      "metadata": {
        "id": "zF6rfHzjL671"
      },
      "outputs": [],
      "source": [
        "# Put Avalon fingerprints into Dataframe\n",
        "Avalon_fingerprints = pd.DataFrame(Avalon_fpts, columns=['Col_A_{}'.format(i + 1) \n",
        "                                                        for i in range(Avalon_fpts.shape[1])])"
      ]
    },
    {
      "cell_type": "code",
      "execution_count": 11,
      "metadata": {
        "id": "dMFhpIpCL671",
        "outputId": "4779c2d7-73f9-458b-82a9-f74ace033853",
        "colab": {
          "base_uri": "https://localhost:8080/",
          "height": 300
        }
      },
      "outputs": [
        {
          "output_type": "execute_result",
          "data": {
            "text/plain": [
              "   Col_A_1  Col_A_2  Col_A_3  Col_A_4  Col_A_5  Col_A_6  Col_A_7  Col_A_8  \\\n",
              "0        0        0        0        0        0        0        0        0   \n",
              "1        0        0        0        0        0        0        0        0   \n",
              "2        0        0        0        0        0        0        0        0   \n",
              "3        0        0        0        0        0        0        0        0   \n",
              "4        0        0        0        0        0        0        0        0   \n",
              "\n",
              "   Col_A_9  Col_A_10  ...  Col_A_4087  Col_A_4088  Col_A_4089  Col_A_4090  \\\n",
              "0        0         0  ...           0           0           0           0   \n",
              "1        0         0  ...           0           0           0           0   \n",
              "2        0         0  ...           0           0           0           0   \n",
              "3        0         0  ...           0           0           0           0   \n",
              "4        0         0  ...           0           0           0           0   \n",
              "\n",
              "   Col_A_4091  Col_A_4092  Col_A_4093  Col_A_4094  Col_A_4095  Col_A_4096  \n",
              "0           0           0           0           0           0           0  \n",
              "1           0           0           0           0           0           0  \n",
              "2           0           0           0           0           0           0  \n",
              "3           0           0           0           0           0           0  \n",
              "4           0           0           0           0           0           0  \n",
              "\n",
              "[5 rows x 4096 columns]"
            ],
            "text/html": [
              "\n",
              "  <div id=\"df-76e4cf7b-2d5e-4708-8602-44e683c92fd0\">\n",
              "    <div class=\"colab-df-container\">\n",
              "      <div>\n",
              "<style scoped>\n",
              "    .dataframe tbody tr th:only-of-type {\n",
              "        vertical-align: middle;\n",
              "    }\n",
              "\n",
              "    .dataframe tbody tr th {\n",
              "        vertical-align: top;\n",
              "    }\n",
              "\n",
              "    .dataframe thead th {\n",
              "        text-align: right;\n",
              "    }\n",
              "</style>\n",
              "<table border=\"1\" class=\"dataframe\">\n",
              "  <thead>\n",
              "    <tr style=\"text-align: right;\">\n",
              "      <th></th>\n",
              "      <th>Col_A_1</th>\n",
              "      <th>Col_A_2</th>\n",
              "      <th>Col_A_3</th>\n",
              "      <th>Col_A_4</th>\n",
              "      <th>Col_A_5</th>\n",
              "      <th>Col_A_6</th>\n",
              "      <th>Col_A_7</th>\n",
              "      <th>Col_A_8</th>\n",
              "      <th>Col_A_9</th>\n",
              "      <th>Col_A_10</th>\n",
              "      <th>...</th>\n",
              "      <th>Col_A_4087</th>\n",
              "      <th>Col_A_4088</th>\n",
              "      <th>Col_A_4089</th>\n",
              "      <th>Col_A_4090</th>\n",
              "      <th>Col_A_4091</th>\n",
              "      <th>Col_A_4092</th>\n",
              "      <th>Col_A_4093</th>\n",
              "      <th>Col_A_4094</th>\n",
              "      <th>Col_A_4095</th>\n",
              "      <th>Col_A_4096</th>\n",
              "    </tr>\n",
              "  </thead>\n",
              "  <tbody>\n",
              "    <tr>\n",
              "      <th>0</th>\n",
              "      <td>0</td>\n",
              "      <td>0</td>\n",
              "      <td>0</td>\n",
              "      <td>0</td>\n",
              "      <td>0</td>\n",
              "      <td>0</td>\n",
              "      <td>0</td>\n",
              "      <td>0</td>\n",
              "      <td>0</td>\n",
              "      <td>0</td>\n",
              "      <td>...</td>\n",
              "      <td>0</td>\n",
              "      <td>0</td>\n",
              "      <td>0</td>\n",
              "      <td>0</td>\n",
              "      <td>0</td>\n",
              "      <td>0</td>\n",
              "      <td>0</td>\n",
              "      <td>0</td>\n",
              "      <td>0</td>\n",
              "      <td>0</td>\n",
              "    </tr>\n",
              "    <tr>\n",
              "      <th>1</th>\n",
              "      <td>0</td>\n",
              "      <td>0</td>\n",
              "      <td>0</td>\n",
              "      <td>0</td>\n",
              "      <td>0</td>\n",
              "      <td>0</td>\n",
              "      <td>0</td>\n",
              "      <td>0</td>\n",
              "      <td>0</td>\n",
              "      <td>0</td>\n",
              "      <td>...</td>\n",
              "      <td>0</td>\n",
              "      <td>0</td>\n",
              "      <td>0</td>\n",
              "      <td>0</td>\n",
              "      <td>0</td>\n",
              "      <td>0</td>\n",
              "      <td>0</td>\n",
              "      <td>0</td>\n",
              "      <td>0</td>\n",
              "      <td>0</td>\n",
              "    </tr>\n",
              "    <tr>\n",
              "      <th>2</th>\n",
              "      <td>0</td>\n",
              "      <td>0</td>\n",
              "      <td>0</td>\n",
              "      <td>0</td>\n",
              "      <td>0</td>\n",
              "      <td>0</td>\n",
              "      <td>0</td>\n",
              "      <td>0</td>\n",
              "      <td>0</td>\n",
              "      <td>0</td>\n",
              "      <td>...</td>\n",
              "      <td>0</td>\n",
              "      <td>0</td>\n",
              "      <td>0</td>\n",
              "      <td>0</td>\n",
              "      <td>0</td>\n",
              "      <td>0</td>\n",
              "      <td>0</td>\n",
              "      <td>0</td>\n",
              "      <td>0</td>\n",
              "      <td>0</td>\n",
              "    </tr>\n",
              "    <tr>\n",
              "      <th>3</th>\n",
              "      <td>0</td>\n",
              "      <td>0</td>\n",
              "      <td>0</td>\n",
              "      <td>0</td>\n",
              "      <td>0</td>\n",
              "      <td>0</td>\n",
              "      <td>0</td>\n",
              "      <td>0</td>\n",
              "      <td>0</td>\n",
              "      <td>0</td>\n",
              "      <td>...</td>\n",
              "      <td>0</td>\n",
              "      <td>0</td>\n",
              "      <td>0</td>\n",
              "      <td>0</td>\n",
              "      <td>0</td>\n",
              "      <td>0</td>\n",
              "      <td>0</td>\n",
              "      <td>0</td>\n",
              "      <td>0</td>\n",
              "      <td>0</td>\n",
              "    </tr>\n",
              "    <tr>\n",
              "      <th>4</th>\n",
              "      <td>0</td>\n",
              "      <td>0</td>\n",
              "      <td>0</td>\n",
              "      <td>0</td>\n",
              "      <td>0</td>\n",
              "      <td>0</td>\n",
              "      <td>0</td>\n",
              "      <td>0</td>\n",
              "      <td>0</td>\n",
              "      <td>0</td>\n",
              "      <td>...</td>\n",
              "      <td>0</td>\n",
              "      <td>0</td>\n",
              "      <td>0</td>\n",
              "      <td>0</td>\n",
              "      <td>0</td>\n",
              "      <td>0</td>\n",
              "      <td>0</td>\n",
              "      <td>0</td>\n",
              "      <td>0</td>\n",
              "      <td>0</td>\n",
              "    </tr>\n",
              "  </tbody>\n",
              "</table>\n",
              "<p>5 rows × 4096 columns</p>\n",
              "</div>\n",
              "      <button class=\"colab-df-convert\" onclick=\"convertToInteractive('df-76e4cf7b-2d5e-4708-8602-44e683c92fd0')\"\n",
              "              title=\"Convert this dataframe to an interactive table.\"\n",
              "              style=\"display:none;\">\n",
              "        \n",
              "  <svg xmlns=\"http://www.w3.org/2000/svg\" height=\"24px\"viewBox=\"0 0 24 24\"\n",
              "       width=\"24px\">\n",
              "    <path d=\"M0 0h24v24H0V0z\" fill=\"none\"/>\n",
              "    <path d=\"M18.56 5.44l.94 2.06.94-2.06 2.06-.94-2.06-.94-.94-2.06-.94 2.06-2.06.94zm-11 1L8.5 8.5l.94-2.06 2.06-.94-2.06-.94L8.5 2.5l-.94 2.06-2.06.94zm10 10l.94 2.06.94-2.06 2.06-.94-2.06-.94-.94-2.06-.94 2.06-2.06.94z\"/><path d=\"M17.41 7.96l-1.37-1.37c-.4-.4-.92-.59-1.43-.59-.52 0-1.04.2-1.43.59L10.3 9.45l-7.72 7.72c-.78.78-.78 2.05 0 2.83L4 21.41c.39.39.9.59 1.41.59.51 0 1.02-.2 1.41-.59l7.78-7.78 2.81-2.81c.8-.78.8-2.07 0-2.86zM5.41 20L4 18.59l7.72-7.72 1.47 1.35L5.41 20z\"/>\n",
              "  </svg>\n",
              "      </button>\n",
              "      \n",
              "  <style>\n",
              "    .colab-df-container {\n",
              "      display:flex;\n",
              "      flex-wrap:wrap;\n",
              "      gap: 12px;\n",
              "    }\n",
              "\n",
              "    .colab-df-convert {\n",
              "      background-color: #E8F0FE;\n",
              "      border: none;\n",
              "      border-radius: 50%;\n",
              "      cursor: pointer;\n",
              "      display: none;\n",
              "      fill: #1967D2;\n",
              "      height: 32px;\n",
              "      padding: 0 0 0 0;\n",
              "      width: 32px;\n",
              "    }\n",
              "\n",
              "    .colab-df-convert:hover {\n",
              "      background-color: #E2EBFA;\n",
              "      box-shadow: 0px 1px 2px rgba(60, 64, 67, 0.3), 0px 1px 3px 1px rgba(60, 64, 67, 0.15);\n",
              "      fill: #174EA6;\n",
              "    }\n",
              "\n",
              "    [theme=dark] .colab-df-convert {\n",
              "      background-color: #3B4455;\n",
              "      fill: #D2E3FC;\n",
              "    }\n",
              "\n",
              "    [theme=dark] .colab-df-convert:hover {\n",
              "      background-color: #434B5C;\n",
              "      box-shadow: 0px 1px 3px 1px rgba(0, 0, 0, 0.15);\n",
              "      filter: drop-shadow(0px 1px 2px rgba(0, 0, 0, 0.3));\n",
              "      fill: #FFFFFF;\n",
              "    }\n",
              "  </style>\n",
              "\n",
              "      <script>\n",
              "        const buttonEl =\n",
              "          document.querySelector('#df-76e4cf7b-2d5e-4708-8602-44e683c92fd0 button.colab-df-convert');\n",
              "        buttonEl.style.display =\n",
              "          google.colab.kernel.accessAllowed ? 'block' : 'none';\n",
              "\n",
              "        async function convertToInteractive(key) {\n",
              "          const element = document.querySelector('#df-76e4cf7b-2d5e-4708-8602-44e683c92fd0');\n",
              "          const dataTable =\n",
              "            await google.colab.kernel.invokeFunction('convertToInteractive',\n",
              "                                                     [key], {});\n",
              "          if (!dataTable) return;\n",
              "\n",
              "          const docLinkHtml = 'Like what you see? Visit the ' +\n",
              "            '<a target=\"_blank\" href=https://colab.research.google.com/notebooks/data_table.ipynb>data table notebook</a>'\n",
              "            + ' to learn more about interactive tables.';\n",
              "          element.innerHTML = '';\n",
              "          dataTable['output_type'] = 'display_data';\n",
              "          await google.colab.output.renderOutput(dataTable, element);\n",
              "          const docLink = document.createElement('div');\n",
              "          docLink.innerHTML = docLinkHtml;\n",
              "          element.appendChild(docLink);\n",
              "        }\n",
              "      </script>\n",
              "    </div>\n",
              "  </div>\n",
              "  "
            ]
          },
          "metadata": {},
          "execution_count": 11
        }
      ],
      "source": [
        "Avalon_fingerprints.head()"
      ]
    },
    {
      "cell_type": "code",
      "execution_count": 12,
      "metadata": {
        "id": "xIUI-JlxL671"
      },
      "outputs": [],
      "source": [
        "# Instantiate the models\n",
        "lgbm_av = LGBMRegressor(n_estimators=800, random_state=42)\n",
        "model_rf = RandomForestRegressor(random_state=42)"
      ]
    },
    {
      "cell_type": "markdown",
      "metadata": {
        "id": "MoxxGqlVL671"
      },
      "source": [
        "<div style= \"border-style:dotted;text-align:left;color:darkblue;font-size:20px;border-radius: 10px;padding: 20px 20px;\"> \n",
        "10 fold cross-validation using 4,096 bits of Avalon fingerprints\n",
        "</div>"
      ]
    },
    {
      "cell_type": "code",
      "execution_count": 13,
      "metadata": {
        "id": "0PZ9Su-wL671",
        "outputId": "fb79367e-0642-4492-a3a7-858b03df229a",
        "colab": {
          "base_uri": "https://localhost:8080/"
        }
      },
      "outputs": [
        {
          "output_type": "stream",
          "name": "stdout",
          "text": [
            "{'fit_time': array([9.20088911, 6.92305636, 7.07354712, 7.12005234, 7.31223011,\n",
            "       7.28236818, 7.31679368, 7.18455982, 7.28511524, 7.19351125]), 'score_time': array([0.11776829, 0.11717987, 0.12386894, 0.14323068, 0.12969685,\n",
            "       0.12443805, 0.13203168, 0.13980937, 0.13561058, 0.12776351]), 'test_r2': array([0.91044654, 0.90800796, 0.91153183, 0.92018218, 0.9045963 ,\n",
            "       0.89865031, 0.90671041, 0.90788038, 0.89827042, 0.91485459]), 'test_neg_mean_absolute_error': array([-5.79133628, -5.82072238, -5.86919926, -5.52286442, -6.21463951,\n",
            "       -6.16613145, -5.97132058, -6.12992087, -5.94971449, -5.76417806])}\n",
            "Total time required: 1.3 min\n"
          ]
        }
      ],
      "source": [
        "# start time\n",
        "start = time.time()\n",
        "\n",
        "# tenfold cross-validation\n",
        "cv = ShuffleSplit(n_splits=10, test_size=0.3, random_state=42)\n",
        "scoring = ['r2','neg_mean_absolute_error']\n",
        "\n",
        "scores_val = cross_validate(lgbm_av, Avalon_fingerprints,  dataset.Energygap, scoring=scoring, cv=cv)\n",
        "\n",
        "print(scores_val)\n",
        "\n",
        "time.sleep(3)\n",
        "# get the end time\n",
        "end = time.time()\n",
        "\n",
        "# get the execution time\n",
        "total_time = end - start\n",
        "print('Total time required:', round(total_time/60, 2), 'min')"
      ]
    },
    {
      "cell_type": "code",
      "execution_count": 14,
      "metadata": {
        "id": "gf2M_tpfL672",
        "outputId": "37d6cc81-7883-421d-87d9-cef794844ae5",
        "colab": {
          "base_uri": "https://localhost:8080/"
        }
      },
      "outputs": [
        {
          "output_type": "execute_result",
          "data": {
            "text/plain": [
              "array([0.91044654, 0.90800796, 0.91153183, 0.92018218, 0.9045963 ,\n",
              "       0.89865031, 0.90671041, 0.90788038, 0.89827042, 0.91485459])"
            ]
          },
          "metadata": {},
          "execution_count": 14
        }
      ],
      "source": [
        "# R^2 of coefficient of determination of tenfold cross validation\n",
        "scores_val['test_r2']"
      ]
    },
    {
      "cell_type": "code",
      "execution_count": 15,
      "metadata": {
        "id": "6JLqbbm6L672",
        "outputId": "9d5fee32-8595-460b-bdb3-700f22d9cafb",
        "colab": {
          "base_uri": "https://localhost:8080/"
        }
      },
      "outputs": [
        {
          "output_type": "execute_result",
          "data": {
            "text/plain": [
              "array([5.79133628, 5.82072238, 5.86919926, 5.52286442, 6.21463951,\n",
              "       6.16613145, 5.97132058, 6.12992087, 5.94971449, 5.76417806])"
            ]
          },
          "metadata": {},
          "execution_count": 15
        }
      ],
      "source": [
        "# Mean absolute error (MAE) of the tenfold cross validation values\n",
        "-scores_val['test_neg_mean_absolute_error']"
      ]
    },
    {
      "cell_type": "code",
      "execution_count": 16,
      "metadata": {
        "id": "H5jbRHe1L672",
        "outputId": "e183abed-6419-4870-e8a5-d0a465ab8400",
        "colab": {
          "base_uri": "https://localhost:8080/"
        }
      },
      "outputs": [
        {
          "output_type": "stream",
          "name": "stdout",
          "text": [
            "R^2 : 0.91\n",
            "MAE : 5.92\n"
          ]
        }
      ],
      "source": [
        "# Mean values of tenfold cross-validation values of R^2 and MAE \n",
        "# Using lightGBM\n",
        "\n",
        "print(\"R^2 :\", round(np.mean(scores_val['test_r2']), 2))\n",
        "print(\"MAE :\", round(np.mean(-scores_val['test_neg_mean_absolute_error']), 2))"
      ]
    },
    {
      "cell_type": "markdown",
      "metadata": {
        "id": "sT8jNoh9L672"
      },
      "source": [
        "Compared with published result: [Sandfort et al's](https://www.sciencedirect.com/science/article/pii/S2451929420300851) work.\n",
        "<div>\n",
        "    <img src=\"https://github.com/gashawmg/Avalon-fingerprints-for-machine-learning/blob/main/HUMO_LUMO.JPG?raw=1\", align = \"left\", width = \"500\">\n",
        "    </div"
      ]
    },
    {
      "cell_type": "markdown",
      "metadata": {
        "id": "ZwpNQ-tHL672"
      },
      "source": [
        "[ See supporting information of the paper ](https://zivgitlab.uni-muenster.de/m_kueh11/fp-dm-tool)\n",
        ".Note this information is found on page 5 in the supporting information \n",
        "\n",
        "<div>\n",
        "<img src= \"Feature Preprocessing.JPG\",align = \"left\", width = \"600\" />\n",
        " </div>"
      ]
    },
    {
      "cell_type": "markdown",
      "metadata": {
        "id": "KP1rMGY0L672"
      },
      "source": [
        "## 1.  Train-test data split  for Avalon fingerprints"
      ]
    },
    {
      "cell_type": "code",
      "execution_count": 17,
      "metadata": {
        "id": "h_Ry9S6dL672"
      },
      "outputs": [],
      "source": [
        "X_train_av, X_test_av, y_train_av, y_test_av = train_test_split(Avalon_fingerprints,\n",
        "                                                    dataset.Energygap,test_size=0.3,random_state=42)"
      ]
    },
    {
      "cell_type": "code",
      "execution_count": 18,
      "metadata": {
        "id": "T4iNScqzL672"
      },
      "outputs": [],
      "source": [
        "# Model training and test\n",
        "model_av = lgbm_av.fit(X_train_av,y_train_av)\n",
        "predict_av = model_av.predict(X_test_av)"
      ]
    },
    {
      "cell_type": "code",
      "execution_count": 19,
      "metadata": {
        "id": "2aC3KoNzL673",
        "outputId": "6f5ff69a-c49b-4de5-c89e-fecea6720331",
        "colab": {
          "base_uri": "https://localhost:8080/"
        }
      },
      "outputs": [
        {
          "output_type": "stream",
          "name": "stdout",
          "text": [
            "MAE: 5.79\n"
          ]
        }
      ],
      "source": [
        "# Model performance using MAE\n",
        "MAE_av = mean_absolute_error(y_test_av, predict_av)\n",
        "print('MAE:', round(MAE_av,2))"
      ]
    },
    {
      "cell_type": "code",
      "execution_count": 20,
      "metadata": {
        "id": "H7Xv9DffL673",
        "outputId": "bc4a0e76-01cb-4999-d33e-b07b794c19f3",
        "colab": {
          "base_uri": "https://localhost:8080/"
        }
      },
      "outputs": [
        {
          "output_type": "stream",
          "name": "stdout",
          "text": [
            "R^2: 0.91\n"
          ]
        }
      ],
      "source": [
        "# R^2 (coefficient of determination) regression score function: \n",
        "R2_av =r2_score(y_test_av, predict_av)\n",
        "print('R^2:', round(R2_av,2))"
      ]
    },
    {
      "cell_type": "code",
      "execution_count": 21,
      "metadata": {
        "id": "7GSaUJshL673",
        "outputId": "768ff29b-2a55-44fb-ef15-a13c3f06e78e",
        "colab": {
          "base_uri": "https://localhost:8080/",
          "height": 312
        }
      },
      "outputs": [
        {
          "output_type": "execute_result",
          "data": {
            "text/plain": [
              "<matplotlib.legend.Legend at 0x7f11cbd30af0>"
            ]
          },
          "metadata": {},
          "execution_count": 21
        },
        {
          "output_type": "display_data",
          "data": {
            "text/plain": [
              "<Figure size 432x288 with 1 Axes>"
            ],
            "image/png": "[encoded data removed]"
          },
          "metadata": {
            "needs_background": "light"
          }
        }
      ],
      "source": [
        "sns.regplot(x=predict_av, y=y_test_av,line_kws={\"lw\":2,'ls':'--','color':'black',\"alpha\":0.7})\n",
        "plt.xlabel('Predicted Energy gap', color='blue')\n",
        "plt.ylabel('Observed Energy gap', color ='blue')\n",
        "plt.title(\"Avalon fpts HOMO-LUMO Energy Gap Prediction\", color='red')\n",
        "plt.grid(alpha=0.2)\n",
        "R2_av = mpatches.Patch(label=\"R2={:04.2f}\".format(R2_av))\n",
        "MAE_av = mpatches.Patch(label=\"MAE={:04.2f}\".format(MAE_av))\n",
        "plt.legend(handles=[R2_av, MAE_av])"
      ]
    },
    {
      "cell_type": "markdown",
      "metadata": {
        "id": "SfSv6A-ZL673"
      },
      "source": [
        "<div style= \" border-style:dotted;text-align:left;color:blue;font-size:25px;border-radius: 10px;padding: 20px 20px;\">\n",
        "2. Yield Prediction:\n",
        "C–N cross coupling reactions\n",
        "</div>"
      ]
    },
    {
      "cell_type": "markdown",
      "metadata": {
        "id": "FkUiFxagL673"
      },
      "source": [
        "Reference:[Ahneman et al](https://scholar.google.com/scholar?hl=en&as_sdt=0%2C14&q=Predicting+reaction+performance+in+C%E2%80%93N+cross-coupling+using+machine+learning&btnG=).\n",
        "and [for supplemental information](https://www.science.org/doi/abs/10.1126/science.aar5169)\n",
        "\n",
        "<div>\n",
        "    <img src=\"https://github.com/gashawmg/Avalon-fingerprints-for-machine-learning/blob/main/buchwald.JPG?raw=1\" width=\"700\",align =\"left\"/>\n",
        "</div>"
      ]
    },
    {
      "cell_type": "markdown",
      "metadata": {
        "id": "k4T9Ne2wL673"
      },
      "source": [
        "* Used 1536 plate (3 plates => 3 x 1536 (32 x 48)  = 4608)\n",
        "* Removed control reactions and additive 7 \n",
        "* 3,960 reactions were used for machine learning.\n",
        "* Determined yield UPLC, di-tert-butylbiphenyl as internal standard (probably using response factor)\n",
        "### Computed Descriptors (120)\n",
        "* B3LYP/6-31G*\n",
        "### Calculated various descriptors: \n",
        "* electrostatic charge and NMR shift.\n",
        "* molecular volume, \n",
        "* surface area, ovality, molecular weight, HOMO,  \n",
        "* LUMO, electronegativity, hardness, dipole moment,\n",
        "* frequency and intensity."
      ]
    },
    {
      "cell_type": "markdown",
      "metadata": {
        "id": "h7o-kdheL673"
      },
      "source": [
        "### Generated 120 computed descriptors\n",
        "* Additive Descriptors (19)\n",
        "* Aryl Halide Descriptors ( 27)\n",
        "* Base Descriptors (10)\n",
        "* Ligand Descriptors (64)"
      ]
    },
    {
      "cell_type": "markdown",
      "metadata": {
        "id": "qpFw2-uKL674"
      },
      "source": [
        "<div>\n",
        "    <img src=\"https://github.com/gashawmg/Avalon-fingerprints-for-machine-learning/blob/main/Buchwald_RF.JPG?raw=1\" width=\"600\",align =\"left\"/>\n",
        "</div>\n"
      ]
    },
    {
      "cell_type": "markdown",
      "metadata": {
        "id": "H6yU-e4OL674"
      },
      "source": [
        "There was an excel file that I downloaded converted it to csv file from this reference. [Sandfort et al](https://zivgitlab.uni-muenster.de/m_kueh11/fp-dm-tool). "
      ]
    },
    {
      "cell_type": "code",
      "execution_count": 22,
      "metadata": {
        "id": "dafxGtFDL674",
        "outputId": "d82610dc-2477-42f7-d2fd-75cb4bd7a69c",
        "colab": {
          "base_uri": "https://localhost:8080/",
          "height": 713
        }
      },
      "outputs": [
        {
          "output_type": "execute_result",
          "data": {
            "text/plain": [
              "                                                 Ligand  \\\n",
              "0     CC(C)C(C=C(C(C)C)C=C1C(C)C)=C1C2=C(P([C@@]3(C[...   \n",
              "1     CC(C)C(C=C(C(C)C)C=C1C(C)C)=C1C2=C(P([C@@]3(C[...   \n",
              "2     CC(C)C(C=C(C(C)C)C=C1C(C)C)=C1C2=C(P(C3CCCCC3)...   \n",
              "3     CC(C)C(C=C(C(C)C)C=C1C(C)C)=C1C2=C(P(C(C)(C)C)...   \n",
              "4     CC(C)C(C=C(C(C)C)C=C1C(C)C)=C1C2=C(P([C@@]3(C[...   \n",
              "...                                                 ...   \n",
              "3950  CC(C)C(C=C(C(C)C)C=C1C(C)C)=C1C2=C(P(C3CCCCC3)...   \n",
              "3951  CC(C)C(C=C(C(C)C)C=C1C(C)C)=C1C2=C(P(C(C)(C)C)...   \n",
              "3952  CC(C)C(C=C(C(C)C)C=C1C(C)C)=C1C2=C(P(C(C)(C)C)...   \n",
              "3953  CC(C)C(C=C(C(C)C)C=C1C(C)C)=C1C2=C(P([C@@]3(C[...   \n",
              "3954  CC(C)C(C=C(C(C)C)C=C1C(C)C)=C1C2=C(P([C@@]3(C[...   \n",
              "\n",
              "                                    Additive  \\\n",
              "0                              CC1=CC(C)=NO1   \n",
              "1                           O=C(OC)C1=CC=NO1   \n",
              "2                           O=C(OC)C1=CC=NO1   \n",
              "3                          CCOC(C1=CON=C1)=O   \n",
              "4                              CC1=CC(C)=NO1   \n",
              "...                                      ...   \n",
              "3950                  C1(C2=CC=CC=C2)=CON=C1   \n",
              "3951                   CC1=CC(N2C=CC=C2)=NO1   \n",
              "3952                       CCOC(C1=CON=C1)=O   \n",
              "3953  C1(N(CC2=CC=CC=C2)CC3=CC=CC=C3)=CC=NO1   \n",
              "3954                  C1(C2=CC=CC=C2)=CC=NO1   \n",
              "\n",
              "                                           Base              Aryl halide  \\\n",
              "0     CN(C)P(N(C)C)(N(C)C)=NP(N(C)C)(N(C)C)=NCC            ClC1=NC=CC=C1   \n",
              "1     CN(C)P(N(C)C)(N(C)C)=NP(N(C)C)(N(C)C)=NCC            BrC1=NC=CC=C1   \n",
              "2     CN(C)P(N(C)C)(N(C)C)=NP(N(C)C)(N(C)C)=NCC         IC1=CC=C(CC)C=C1   \n",
              "3                              CN1CCCN2C1=NCCC2  ClC1=CC=C(C(F)(F)F)C=C1   \n",
              "4                              CN1CCCN2C1=NCCC2        ClC1=CC=C(OC)C=C1   \n",
              "...                                         ...                      ...   \n",
              "3950  CN(C)P(N(C)C)(N(C)C)=NP(N(C)C)(N(C)C)=NCC        BrC1=CC=C(OC)C=C1   \n",
              "3951                           CN1CCCN2C1=NCCC2        BrC1=CC=C(OC)C=C1   \n",
              "3952                  CC(C)(C)/N=C(N(C)C)/N(C)C  ClC1=CC=C(C(F)(F)F)C=C1   \n",
              "3953  CN(C)P(N(C)C)(N(C)C)=NP(N(C)C)(N(C)C)=NCC  ClC1=CC=C(C(F)(F)F)C=C1   \n",
              "3954                  CC(C)(C)/N=C(N(C)C)/N(C)C         IC1=CC=C(CC)C=C1   \n",
              "\n",
              "         Output  \n",
              "0     70.410458  \n",
              "1     11.064457  \n",
              "2     10.223550  \n",
              "3     20.083383  \n",
              "4      0.492663  \n",
              "...         ...  \n",
              "3950   4.344677  \n",
              "3951  47.156275  \n",
              "3952   0.701552  \n",
              "3953  15.561565  \n",
              "3954  73.739939  \n",
              "\n",
              "[3955 rows x 5 columns]"
            ],
            "text/html": [
              "\n",
              "  <div id=\"df-e9e00838-1e2f-4453-b15a-240052a90d92\">\n",
              "    <div class=\"colab-df-container\">\n",
              "      <div>\n",
              "<style scoped>\n",
              "    .dataframe tbody tr th:only-of-type {\n",
              "        vertical-align: middle;\n",
              "    }\n",
              "\n",
              "    .dataframe tbody tr th {\n",
              "        vertical-align: top;\n",
              "    }\n",
              "\n",
              "    .dataframe thead th {\n",
              "        text-align: right;\n",
              "    }\n",
              "</style>\n",
              "<table border=\"1\" class=\"dataframe\">\n",
              "  <thead>\n",
              "    <tr style=\"text-align: right;\">\n",
              "      <th></th>\n",
              "      <th>Ligand</th>\n",
              "      <th>Additive</th>\n",
              "      <th>Base</th>\n",
              "      <th>Aryl halide</th>\n",
              "      <th>Output</th>\n",
              "    </tr>\n",
              "  </thead>\n",
              "  <tbody>\n",
              "    <tr>\n",
              "      <th>0</th>\n",
              "      <td>CC(C)C(C=C(C(C)C)C=C1C(C)C)=C1C2=C(P([C@@]3(C[...</td>\n",
              "      <td>CC1=CC(C)=NO1</td>\n",
              "      <td>CN(C)P(N(C)C)(N(C)C)=NP(N(C)C)(N(C)C)=NCC</td>\n",
              "      <td>ClC1=NC=CC=C1</td>\n",
              "      <td>70.410458</td>\n",
              "    </tr>\n",
              "    <tr>\n",
              "      <th>1</th>\n",
              "      <td>CC(C)C(C=C(C(C)C)C=C1C(C)C)=C1C2=C(P([C@@]3(C[...</td>\n",
              "      <td>O=C(OC)C1=CC=NO1</td>\n",
              "      <td>CN(C)P(N(C)C)(N(C)C)=NP(N(C)C)(N(C)C)=NCC</td>\n",
              "      <td>BrC1=NC=CC=C1</td>\n",
              "      <td>11.064457</td>\n",
              "    </tr>\n",
              "    <tr>\n",
              "      <th>2</th>\n",
              "      <td>CC(C)C(C=C(C(C)C)C=C1C(C)C)=C1C2=C(P(C3CCCCC3)...</td>\n",
              "      <td>O=C(OC)C1=CC=NO1</td>\n",
              "      <td>CN(C)P(N(C)C)(N(C)C)=NP(N(C)C)(N(C)C)=NCC</td>\n",
              "      <td>IC1=CC=C(CC)C=C1</td>\n",
              "      <td>10.223550</td>\n",
              "    </tr>\n",
              "    <tr>\n",
              "      <th>3</th>\n",
              "      <td>CC(C)C(C=C(C(C)C)C=C1C(C)C)=C1C2=C(P(C(C)(C)C)...</td>\n",
              "      <td>CCOC(C1=CON=C1)=O</td>\n",
              "      <td>CN1CCCN2C1=NCCC2</td>\n",
              "      <td>ClC1=CC=C(C(F)(F)F)C=C1</td>\n",
              "      <td>20.083383</td>\n",
              "    </tr>\n",
              "    <tr>\n",
              "      <th>4</th>\n",
              "      <td>CC(C)C(C=C(C(C)C)C=C1C(C)C)=C1C2=C(P([C@@]3(C[...</td>\n",
              "      <td>CC1=CC(C)=NO1</td>\n",
              "      <td>CN1CCCN2C1=NCCC2</td>\n",
              "      <td>ClC1=CC=C(OC)C=C1</td>\n",
              "      <td>0.492663</td>\n",
              "    </tr>\n",
              "    <tr>\n",
              "      <th>...</th>\n",
              "      <td>...</td>\n",
              "      <td>...</td>\n",
              "      <td>...</td>\n",
              "      <td>...</td>\n",
              "      <td>...</td>\n",
              "    </tr>\n",
              "    <tr>\n",
              "      <th>3950</th>\n",
              "      <td>CC(C)C(C=C(C(C)C)C=C1C(C)C)=C1C2=C(P(C3CCCCC3)...</td>\n",
              "      <td>C1(C2=CC=CC=C2)=CON=C1</td>\n",
              "      <td>CN(C)P(N(C)C)(N(C)C)=NP(N(C)C)(N(C)C)=NCC</td>\n",
              "      <td>BrC1=CC=C(OC)C=C1</td>\n",
              "      <td>4.344677</td>\n",
              "    </tr>\n",
              "    <tr>\n",
              "      <th>3951</th>\n",
              "      <td>CC(C)C(C=C(C(C)C)C=C1C(C)C)=C1C2=C(P(C(C)(C)C)...</td>\n",
              "      <td>CC1=CC(N2C=CC=C2)=NO1</td>\n",
              "      <td>CN1CCCN2C1=NCCC2</td>\n",
              "      <td>BrC1=CC=C(OC)C=C1</td>\n",
              "      <td>47.156275</td>\n",
              "    </tr>\n",
              "    <tr>\n",
              "      <th>3952</th>\n",
              "      <td>CC(C)C(C=C(C(C)C)C=C1C(C)C)=C1C2=C(P(C(C)(C)C)...</td>\n",
              "      <td>CCOC(C1=CON=C1)=O</td>\n",
              "      <td>CC(C)(C)/N=C(N(C)C)/N(C)C</td>\n",
              "      <td>ClC1=CC=C(C(F)(F)F)C=C1</td>\n",
              "      <td>0.701552</td>\n",
              "    </tr>\n",
              "    <tr>\n",
              "      <th>3953</th>\n",
              "      <td>CC(C)C(C=C(C(C)C)C=C1C(C)C)=C1C2=C(P([C@@]3(C[...</td>\n",
              "      <td>C1(N(CC2=CC=CC=C2)CC3=CC=CC=C3)=CC=NO1</td>\n",
              "      <td>CN(C)P(N(C)C)(N(C)C)=NP(N(C)C)(N(C)C)=NCC</td>\n",
              "      <td>ClC1=CC=C(C(F)(F)F)C=C1</td>\n",
              "      <td>15.561565</td>\n",
              "    </tr>\n",
              "    <tr>\n",
              "      <th>3954</th>\n",
              "      <td>CC(C)C(C=C(C(C)C)C=C1C(C)C)=C1C2=C(P([C@@]3(C[...</td>\n",
              "      <td>C1(C2=CC=CC=C2)=CC=NO1</td>\n",
              "      <td>CC(C)(C)/N=C(N(C)C)/N(C)C</td>\n",
              "      <td>IC1=CC=C(CC)C=C1</td>\n",
              "      <td>73.739939</td>\n",
              "    </tr>\n",
              "  </tbody>\n",
              "</table>\n",
              "<p>3955 rows × 5 columns</p>\n",
              "</div>\n",
              "      <button class=\"colab-df-convert\" onclick=\"convertToInteractive('df-e9e00838-1e2f-4453-b15a-240052a90d92')\"\n",
              "              title=\"Convert this dataframe to an interactive table.\"\n",
              "              style=\"display:none;\">\n",
              "        \n",
              "  <svg xmlns=\"http://www.w3.org/2000/svg\" height=\"24px\"viewBox=\"0 0 24 24\"\n",
              "       width=\"24px\">\n",
              "    <path d=\"M0 0h24v24H0V0z\" fill=\"none\"/>\n",
              "    <path d=\"M18.56 5.44l.94 2.06.94-2.06 2.06-.94-2.06-.94-.94-2.06-.94 2.06-2.06.94zm-11 1L8.5 8.5l.94-2.06 2.06-.94-2.06-.94L8.5 2.5l-.94 2.06-2.06.94zm10 10l.94 2.06.94-2.06 2.06-.94-2.06-.94-.94-2.06-.94 2.06-2.06.94z\"/><path d=\"M17.41 7.96l-1.37-1.37c-.4-.4-.92-.59-1.43-.59-.52 0-1.04.2-1.43.59L10.3 9.45l-7.72 7.72c-.78.78-.78 2.05 0 2.83L4 21.41c.39.39.9.59 1.41.59.51 0 1.02-.2 1.41-.59l7.78-7.78 2.81-2.81c.8-.78.8-2.07 0-2.86zM5.41 20L4 18.59l7.72-7.72 1.47 1.35L5.41 20z\"/>\n",
              "  </svg>\n",
              "      </button>\n",
              "      \n",
              "  <style>\n",
              "    .colab-df-container {\n",
              "      display:flex;\n",
              "      flex-wrap:wrap;\n",
              "      gap: 12px;\n",
              "    }\n",
              "\n",
              "    .colab-df-convert {\n",
              "      background-color: #E8F0FE;\n",
              "      border: none;\n",
              "      border-radius: 50%;\n",
              "      cursor: pointer;\n",
              "      display: none;\n",
              "      fill: #1967D2;\n",
              "      height: 32px;\n",
              "      padding: 0 0 0 0;\n",
              "      width: 32px;\n",
              "    }\n",
              "\n",
              "    .colab-df-convert:hover {\n",
              "      background-color: #E2EBFA;\n",
              "      box-shadow: 0px 1px 2px rgba(60, 64, 67, 0.3), 0px 1px 3px 1px rgba(60, 64, 67, 0.15);\n",
              "      fill: #174EA6;\n",
              "    }\n",
              "\n",
              "    [theme=dark] .colab-df-convert {\n",
              "      background-color: #3B4455;\n",
              "      fill: #D2E3FC;\n",
              "    }\n",
              "\n",
              "    [theme=dark] .colab-df-convert:hover {\n",
              "      background-color: #434B5C;\n",
              "      box-shadow: 0px 1px 3px 1px rgba(0, 0, 0, 0.15);\n",
              "      filter: drop-shadow(0px 1px 2px rgba(0, 0, 0, 0.3));\n",
              "      fill: #FFFFFF;\n",
              "    }\n",
              "  </style>\n",
              "\n",
              "      <script>\n",
              "        const buttonEl =\n",
              "          document.querySelector('#df-e9e00838-1e2f-4453-b15a-240052a90d92 button.colab-df-convert');\n",
              "        buttonEl.style.display =\n",
              "          google.colab.kernel.accessAllowed ? 'block' : 'none';\n",
              "\n",
              "        async function convertToInteractive(key) {\n",
              "          const element = document.querySelector('#df-e9e00838-1e2f-4453-b15a-240052a90d92');\n",
              "          const dataTable =\n",
              "            await google.colab.kernel.invokeFunction('convertToInteractive',\n",
              "                                                     [key], {});\n",
              "          if (!dataTable) return;\n",
              "\n",
              "          const docLinkHtml = 'Like what you see? Visit the ' +\n",
              "            '<a target=\"_blank\" href=https://colab.research.google.com/notebooks/data_table.ipynb>data table notebook</a>'\n",
              "            + ' to learn more about interactive tables.';\n",
              "          element.innerHTML = '';\n",
              "          dataTable['output_type'] = 'display_data';\n",
              "          await google.colab.output.renderOutput(dataTable, element);\n",
              "          const docLink = document.createElement('div');\n",
              "          docLink.innerHTML = docLinkHtml;\n",
              "          element.appendChild(docLink);\n",
              "        }\n",
              "      </script>\n",
              "    </div>\n",
              "  </div>\n",
              "  "
            ]
          },
          "metadata": {},
          "execution_count": 22
        }
      ],
      "source": [
        "# Read data frame\n",
        "data = pd.read_csv('https://raw.githubusercontent.com/gashawmg/Avalon-fingerprints-for-machine-learning/main/Buchwald_yield_data.csv')\n",
        "data"
      ]
    },
    {
      "cell_type": "code",
      "execution_count": 23,
      "metadata": {
        "id": "8S3eiHRNL674"
      },
      "outputs": [],
      "source": [
        "def Calculate_Avfps(data,nBits):\n",
        "    \n",
        "    # Store fingerprints using empty lists\n",
        "    Avalon_fpts = []\n",
        "           \n",
        "    mols = [Chem.MolFromSmiles(x) for x in data if x is not None]\n",
        "    for mol in tqdm(mols):\n",
        "        \n",
        "               \n",
        "        #=============================\n",
        "        # calculate Avalon fingerprints\n",
        "        #=============================\n",
        "        avfpts = pyAvalonTools.GetAvalonFP(mol, nBits=nBits)\n",
        "        Avalon_fpts.append(avfpts)\n",
        "        \n",
        "       \n",
        "    #=================================\n",
        "    # return the lists as numpy array \n",
        "    #=================================\n",
        "    return np.array(Avalon_fpts)"
      ]
    },
    {
      "cell_type": "markdown",
      "metadata": {
        "id": "GJaH6dMrL674"
      },
      "source": [
        "## Calculate fingerprints for reactants"
      ]
    },
    {
      "cell_type": "code",
      "execution_count": 24,
      "metadata": {
        "id": "WH7YHNiZL674",
        "outputId": "f0db9e8e-1081-42db-b2de-f0eff0204289",
        "colab": {
          "base_uri": "https://localhost:8080/"
        }
      },
      "outputs": [
        {
          "output_type": "stream",
          "name": "stderr",
          "text": [
            "100%|██████████| 3955/3955 [00:16<00:00, 246.36it/s]\n",
            "100%|██████████| 3955/3955 [00:01<00:00, 2084.62it/s]\n",
            "100%|██████████| 3955/3955 [00:02<00:00, 1403.05it/s]\n",
            "100%|██████████| 3955/3955 [00:01<00:00, 3013.57it/s]\n"
          ]
        }
      ],
      "source": [
        "ligand_fpts =  Calculate_Avfps(data['Ligand'], 2048) # ligands are relatively bigger than the other reagents\n",
        "additive_fpts =  Calculate_Avfps(data['Additive'], 1024)\n",
        "base_fpts =  Calculate_Avfps(data['Base'], 1024)\n",
        "Aryl_fpts =  Calculate_Avfps(data['Aryl halide'], 1024)"
      ]
    },
    {
      "cell_type": "markdown",
      "metadata": {
        "id": "4bjgGZH0L674"
      },
      "source": [
        "## Concatenate fingerprints of starting materials\n",
        "Similar to [Sandfort et al's](https://www.sciencedirect.com/science/article/pii/S2451929420300851) work."
      ]
    },
    {
      "cell_type": "code",
      "execution_count": 25,
      "metadata": {
        "id": "n_UiU6G9L674",
        "outputId": "ac9ed50e-47ff-4ce8-e302-169295b3fec6",
        "colab": {
          "base_uri": "https://localhost:8080/"
        }
      },
      "outputs": [
        {
          "output_type": "execute_result",
          "data": {
            "text/plain": [
              "(3955, 5120)"
            ]
          },
          "metadata": {},
          "execution_count": 25
        }
      ],
      "source": [
        "# concatenate the fingerprints of the four variables \n",
        "# note that the order of concatenation should not matter\n",
        "\n",
        "concatenated = np.concatenate([ligand_fpts, additive_fpts, base_fpts, Aryl_fpts], axis=1)\n",
        "concatenated.shape"
      ]
    },
    {
      "cell_type": "code",
      "execution_count": 26,
      "metadata": {
        "id": "qayVYn9iL674",
        "outputId": "a3cde091-3986-4612-9c79-1cfdf290c341",
        "colab": {
          "base_uri": "https://localhost:8080/",
          "height": 300
        }
      },
      "outputs": [
        {
          "output_type": "execute_result",
          "data": {
            "text/plain": [
              "   Col_A_1  Col_A_2  Col_A_3  Col_A_4  Col_A_5  Col_A_6  Col_A_7  Col_A_8  \\\n",
              "0        0        0        0        0        0        0        0        0   \n",
              "1        0        0        0        0        0        0        0        0   \n",
              "2        0        0        0        0        0        0        0        0   \n",
              "3        0        0        0        0        0        0        0        0   \n",
              "4        0        0        0        0        0        0        0        0   \n",
              "\n",
              "   Col_A_9  Col_A_10  ...  Col_A_5111  Col_A_5112  Col_A_5113  Col_A_5114  \\\n",
              "0        0         0  ...           0           0           0           0   \n",
              "1        0         0  ...           0           0           0           1   \n",
              "2        0         0  ...           0           0           0           0   \n",
              "3        0         0  ...           0           0           0           0   \n",
              "4        0         0  ...           0           0           0           0   \n",
              "\n",
              "   Col_A_5115  Col_A_5116  Col_A_5117  Col_A_5118  Col_A_5119  Col_A_5120  \n",
              "0           0           0           0           0           0           0  \n",
              "1           0           0           0           0           0           0  \n",
              "2           0           0           1           0           0           0  \n",
              "3           0           0           1           0           0           0  \n",
              "4           0           0           0           0           0           0  \n",
              "\n",
              "[5 rows x 5120 columns]"
            ],
            "text/html": [
              "\n",
              "  <div id=\"df-7ab2b1af-e461-4d4b-b388-d3add55dddbe\">\n",
              "    <div class=\"colab-df-container\">\n",
              "      <div>\n",
              "<style scoped>\n",
              "    .dataframe tbody tr th:only-of-type {\n",
              "        vertical-align: middle;\n",
              "    }\n",
              "\n",
              "    .dataframe tbody tr th {\n",
              "        vertical-align: top;\n",
              "    }\n",
              "\n",
              "    .dataframe thead th {\n",
              "        text-align: right;\n",
              "    }\n",
              "</style>\n",
              "<table border=\"1\" class=\"dataframe\">\n",
              "  <thead>\n",
              "    <tr style=\"text-align: right;\">\n",
              "      <th></th>\n",
              "      <th>Col_A_1</th>\n",
              "      <th>Col_A_2</th>\n",
              "      <th>Col_A_3</th>\n",
              "      <th>Col_A_4</th>\n",
              "      <th>Col_A_5</th>\n",
              "      <th>Col_A_6</th>\n",
              "      <th>Col_A_7</th>\n",
              "      <th>Col_A_8</th>\n",
              "      <th>Col_A_9</th>\n",
              "      <th>Col_A_10</th>\n",
              "      <th>...</th>\n",
              "      <th>Col_A_5111</th>\n",
              "      <th>Col_A_5112</th>\n",
              "      <th>Col_A_5113</th>\n",
              "      <th>Col_A_5114</th>\n",
              "      <th>Col_A_5115</th>\n",
              "      <th>Col_A_5116</th>\n",
              "      <th>Col_A_5117</th>\n",
              "      <th>Col_A_5118</th>\n",
              "      <th>Col_A_5119</th>\n",
              "      <th>Col_A_5120</th>\n",
              "    </tr>\n",
              "  </thead>\n",
              "  <tbody>\n",
              "    <tr>\n",
              "      <th>0</th>\n",
              "      <td>0</td>\n",
              "      <td>0</td>\n",
              "      <td>0</td>\n",
              "      <td>0</td>\n",
              "      <td>0</td>\n",
              "      <td>0</td>\n",
              "      <td>0</td>\n",
              "      <td>0</td>\n",
              "      <td>0</td>\n",
              "      <td>0</td>\n",
              "      <td>...</td>\n",
              "      <td>0</td>\n",
              "      <td>0</td>\n",
              "      <td>0</td>\n",
              "      <td>0</td>\n",
              "      <td>0</td>\n",
              "      <td>0</td>\n",
              "      <td>0</td>\n",
              "      <td>0</td>\n",
              "      <td>0</td>\n",
              "      <td>0</td>\n",
              "    </tr>\n",
              "    <tr>\n",
              "      <th>1</th>\n",
              "      <td>0</td>\n",
              "      <td>0</td>\n",
              "      <td>0</td>\n",
              "      <td>0</td>\n",
              "      <td>0</td>\n",
              "      <td>0</td>\n",
              "      <td>0</td>\n",
              "      <td>0</td>\n",
              "      <td>0</td>\n",
              "      <td>0</td>\n",
              "      <td>...</td>\n",
              "      <td>0</td>\n",
              "      <td>0</td>\n",
              "      <td>0</td>\n",
              "      <td>1</td>\n",
              "      <td>0</td>\n",
              "      <td>0</td>\n",
              "      <td>0</td>\n",
              "      <td>0</td>\n",
              "      <td>0</td>\n",
              "      <td>0</td>\n",
              "    </tr>\n",
              "    <tr>\n",
              "      <th>2</th>\n",
              "      <td>0</td>\n",
              "      <td>0</td>\n",
              "      <td>0</td>\n",
              "      <td>0</td>\n",
              "      <td>0</td>\n",
              "      <td>0</td>\n",
              "      <td>0</td>\n",
              "      <td>0</td>\n",
              "      <td>0</td>\n",
              "      <td>0</td>\n",
              "      <td>...</td>\n",
              "      <td>0</td>\n",
              "      <td>0</td>\n",
              "      <td>0</td>\n",
              "      <td>0</td>\n",
              "      <td>0</td>\n",
              "      <td>0</td>\n",
              "      <td>1</td>\n",
              "      <td>0</td>\n",
              "      <td>0</td>\n",
              "      <td>0</td>\n",
              "    </tr>\n",
              "    <tr>\n",
              "      <th>3</th>\n",
              "      <td>0</td>\n",
              "      <td>0</td>\n",
              "      <td>0</td>\n",
              "      <td>0</td>\n",
              "      <td>0</td>\n",
              "      <td>0</td>\n",
              "      <td>0</td>\n",
              "      <td>0</td>\n",
              "      <td>0</td>\n",
              "      <td>0</td>\n",
              "      <td>...</td>\n",
              "      <td>0</td>\n",
              "      <td>0</td>\n",
              "      <td>0</td>\n",
              "      <td>0</td>\n",
              "      <td>0</td>\n",
              "      <td>0</td>\n",
              "      <td>1</td>\n",
              "      <td>0</td>\n",
              "      <td>0</td>\n",
              "      <td>0</td>\n",
              "    </tr>\n",
              "    <tr>\n",
              "      <th>4</th>\n",
              "      <td>0</td>\n",
              "      <td>0</td>\n",
              "      <td>0</td>\n",
              "      <td>0</td>\n",
              "      <td>0</td>\n",
              "      <td>0</td>\n",
              "      <td>0</td>\n",
              "      <td>0</td>\n",
              "      <td>0</td>\n",
              "      <td>0</td>\n",
              "      <td>...</td>\n",
              "      <td>0</td>\n",
              "      <td>0</td>\n",
              "      <td>0</td>\n",
              "      <td>0</td>\n",
              "      <td>0</td>\n",
              "      <td>0</td>\n",
              "      <td>0</td>\n",
              "      <td>0</td>\n",
              "      <td>0</td>\n",
              "      <td>0</td>\n",
              "    </tr>\n",
              "  </tbody>\n",
              "</table>\n",
              "<p>5 rows × 5120 columns</p>\n",
              "</div>\n",
              "      <button class=\"colab-df-convert\" onclick=\"convertToInteractive('df-7ab2b1af-e461-4d4b-b388-d3add55dddbe')\"\n",
              "              title=\"Convert this dataframe to an interactive table.\"\n",
              "              style=\"display:none;\">\n",
              "        \n",
              "  <svg xmlns=\"http://www.w3.org/2000/svg\" height=\"24px\"viewBox=\"0 0 24 24\"\n",
              "       width=\"24px\">\n",
              "    <path d=\"M0 0h24v24H0V0z\" fill=\"none\"/>\n",
              "    <path d=\"M18.56 5.44l.94 2.06.94-2.06 2.06-.94-2.06-.94-.94-2.06-.94 2.06-2.06.94zm-11 1L8.5 8.5l.94-2.06 2.06-.94-2.06-.94L8.5 2.5l-.94 2.06-2.06.94zm10 10l.94 2.06.94-2.06 2.06-.94-2.06-.94-.94-2.06-.94 2.06-2.06.94z\"/><path d=\"M17.41 7.96l-1.37-1.37c-.4-.4-.92-.59-1.43-.59-.52 0-1.04.2-1.43.59L10.3 9.45l-7.72 7.72c-.78.78-.78 2.05 0 2.83L4 21.41c.39.39.9.59 1.41.59.51 0 1.02-.2 1.41-.59l7.78-7.78 2.81-2.81c.8-.78.8-2.07 0-2.86zM5.41 20L4 18.59l7.72-7.72 1.47 1.35L5.41 20z\"/>\n",
              "  </svg>\n",
              "      </button>\n",
              "      \n",
              "  <style>\n",
              "    .colab-df-container {\n",
              "      display:flex;\n",
              "      flex-wrap:wrap;\n",
              "      gap: 12px;\n",
              "    }\n",
              "\n",
              "    .colab-df-convert {\n",
              "      background-color: #E8F0FE;\n",
              "      border: none;\n",
              "      border-radius: 50%;\n",
              "      cursor: pointer;\n",
              "      display: none;\n",
              "      fill: #1967D2;\n",
              "      height: 32px;\n",
              "      padding: 0 0 0 0;\n",
              "      width: 32px;\n",
              "    }\n",
              "\n",
              "    .colab-df-convert:hover {\n",
              "      background-color: #E2EBFA;\n",
              "      box-shadow: 0px 1px 2px rgba(60, 64, 67, 0.3), 0px 1px 3px 1px rgba(60, 64, 67, 0.15);\n",
              "      fill: #174EA6;\n",
              "    }\n",
              "\n",
              "    [theme=dark] .colab-df-convert {\n",
              "      background-color: #3B4455;\n",
              "      fill: #D2E3FC;\n",
              "    }\n",
              "\n",
              "    [theme=dark] .colab-df-convert:hover {\n",
              "      background-color: #434B5C;\n",
              "      box-shadow: 0px 1px 3px 1px rgba(0, 0, 0, 0.15);\n",
              "      filter: drop-shadow(0px 1px 2px rgba(0, 0, 0, 0.3));\n",
              "      fill: #FFFFFF;\n",
              "    }\n",
              "  </style>\n",
              "\n",
              "      <script>\n",
              "        const buttonEl =\n",
              "          document.querySelector('#df-7ab2b1af-e461-4d4b-b388-d3add55dddbe button.colab-df-convert');\n",
              "        buttonEl.style.display =\n",
              "          google.colab.kernel.accessAllowed ? 'block' : 'none';\n",
              "\n",
              "        async function convertToInteractive(key) {\n",
              "          const element = document.querySelector('#df-7ab2b1af-e461-4d4b-b388-d3add55dddbe');\n",
              "          const dataTable =\n",
              "            await google.colab.kernel.invokeFunction('convertToInteractive',\n",
              "                                                     [key], {});\n",
              "          if (!dataTable) return;\n",
              "\n",
              "          const docLinkHtml = 'Like what you see? Visit the ' +\n",
              "            '<a target=\"_blank\" href=https://colab.research.google.com/notebooks/data_table.ipynb>data table notebook</a>'\n",
              "            + ' to learn more about interactive tables.';\n",
              "          element.innerHTML = '';\n",
              "          dataTable['output_type'] = 'display_data';\n",
              "          await google.colab.output.renderOutput(dataTable, element);\n",
              "          const docLink = document.createElement('div');\n",
              "          docLink.innerHTML = docLinkHtml;\n",
              "          element.appendChild(docLink);\n",
              "        }\n",
              "      </script>\n",
              "    </div>\n",
              "  </div>\n",
              "  "
            ]
          },
          "metadata": {},
          "execution_count": 26
        }
      ],
      "source": [
        "# Put them in a data frame\n",
        "concatenated_df = pd.DataFrame(concatenated,columns=['Col_A_{}'.format(i + 1) for i in range(concatenated.shape[1])])\n",
        "concatenated_df.head()"
      ]
    },
    {
      "cell_type": "code",
      "execution_count": 27,
      "metadata": {
        "id": "a10kv3QML675",
        "outputId": "c295e339-633a-4c86-af01-303327ce5c53",
        "colab": {
          "base_uri": "https://localhost:8080/"
        }
      },
      "outputs": [
        {
          "output_type": "stream",
          "name": "stdout",
          "text": [
            "{'fit_time': array([7.34802485, 7.28525233, 6.9133532 , 6.87244987, 6.99931097,\n",
            "       7.02204323, 6.93616486, 6.94022226, 7.29910541, 7.07093191]), 'score_time': array([0.17077827, 0.17988086, 0.18902564, 0.18546867, 0.16983533,\n",
            "       0.17254138, 0.17580819, 0.17327118, 0.17867184, 0.16970658]), 'test_r2': array([0.9539233 , 0.94593933, 0.94569323, 0.95567864, 0.9544228 ,\n",
            "       0.95253277, 0.94532573, 0.95206717, 0.94722408, 0.94938093]), 'test_neg_root_mean_squared_error': array([-5.9129151 , -6.33379851, -6.39298916, -5.82638655, -5.79140752,\n",
            "       -5.83864496, -6.17738341, -5.9729341 , -6.19285072, -6.13078845])}\n",
            "Total time required: 1.26 min\n"
          ]
        }
      ],
      "source": [
        "# start time\n",
        "start = time.time()\n",
        "\n",
        "# from Sklearn -shuffle and split data \n",
        "cv = ShuffleSplit(n_splits=10, test_size=0.3, random_state=42)\n",
        "\n",
        "scoring = ['r2','neg_root_mean_squared_error'] \n",
        "\n",
        "scores_CN = cross_validate(lgbm_av, concatenated_df,  data.Output, scoring=scoring, cv=cv)\n",
        "\n",
        "\n",
        "print(scores_CN)\n",
        "# wait for 3 seconds\n",
        "\n",
        "time.sleep(3)\n",
        "# get the end time\n",
        "end = time.time()\n",
        "\n",
        "# get the execution time\n",
        "total_time = end - start\n",
        "print('Total time required:', round(total_time/60, 2), 'min') # takes about 0.27 min"
      ]
    },
    {
      "cell_type": "markdown",
      "metadata": {
        "id": "sHwoChdWL675"
      },
      "source": [
        "### Notes: Avalon fingerprints used,  for each reagent 1024 bits used except the ligands. The ligands are relatively bigger, and 2048 bits were used."
      ]
    },
    {
      "cell_type": "code",
      "execution_count": 28,
      "metadata": {
        "id": "fIyI01VXL675",
        "outputId": "03b906d7-ef5d-42b0-da78-eeaf3668ab51",
        "colab": {
          "base_uri": "https://localhost:8080/"
        }
      },
      "outputs": [
        {
          "output_type": "execute_result",
          "data": {
            "text/plain": [
              "array([0.9539233 , 0.94593933, 0.94569323, 0.95567864, 0.9544228 ,\n",
              "       0.95253277, 0.94532573, 0.95206717, 0.94722408, 0.94938093])"
            ]
          },
          "metadata": {},
          "execution_count": 28
        }
      ],
      "source": [
        "scores_CN['test_r2']"
      ]
    },
    {
      "cell_type": "code",
      "execution_count": 29,
      "metadata": {
        "id": "mqN5pSvKL675",
        "outputId": "849678da-8d31-4020-99ad-b3704ddc0731",
        "colab": {
          "base_uri": "https://localhost:8080/"
        }
      },
      "outputs": [
        {
          "output_type": "stream",
          "name": "stdout",
          "text": [
            "R^2 : 0.95\n",
            "RMSE : 6.06\n"
          ]
        }
      ],
      "source": [
        "# Mean values of tenfold cross-validation values of R^2 and RMSE\n",
        "\n",
        "print(\"R^2 :\", round(np.mean(scores_CN['test_r2']), 2))\n",
        "print(\"RMSE :\", round(np.mean(-scores_CN['test_neg_root_mean_squared_error']), 2))"
      ]
    },
    {
      "cell_type": "markdown",
      "metadata": {
        "id": "zYlPbSWEL675"
      },
      "source": [
        "[ Ahneman et al.](https://doylecpanel.cpaneldev.princeton.edu/wp-content/uploads/2020/07/43-Predicting-Reaction-Performance-in-C-N-Cross-Coupling-Using-Machine-Learning.pdf) <br>\n",
        "[Sandfort et al.](https://www.sciencedirect.com/science/article/pii/S2451929420300851)\n",
        "\n",
        "<table>  \n",
        "    <tr>\n",
        "     <td><img src = \"Buchwald_performance.JPG\", align = \"left\", width = \"400\"/></td>\n",
        "     <td><img src=\"https://github.com/gashawmg/Avalon-fingerprints-for-machine-learning/blob/main/Buchwald_RF.JPG?raw=1\" width=\"600\",align =\"left\"/>\n",
        "     </td>\n",
        "    </tr>\n",
        "</table>\n"
      ]
    },
    {
      "cell_type": "markdown",
      "metadata": {
        "id": "RQyrVI53L675"
      },
      "source": [
        "[ See supporting information of the paper](https://zivgitlab.uni-muenster.de/m_kueh11/fp-dm-tool)\n",
        "\n",
        "\n",
        "<div>\n",
        "<img src= \"Feature Preprocessing.JPG\",align = \"left\", width = \"600\" />\n",
        " </div>"
      ]
    },
    {
      "cell_type": "code",
      "execution_count": 30,
      "metadata": {
        "id": "1GAjamm2L675"
      },
      "outputs": [],
      "source": [
        "# Train-test split\n",
        "X_train, X_test, y_train, y_test = train_test_split(concatenated_df, data.Output, \n",
        "                                                test_size = 0.3, shuffle=True,random_state=42)"
      ]
    },
    {
      "cell_type": "code",
      "execution_count": 31,
      "metadata": {
        "id": "i8nrEloQL675"
      },
      "outputs": [],
      "source": [
        "# Model training and prediction\n",
        "# All the features are used\n",
        "model_all_feature = LGBMRegressor(n_estimators=800,random_state=42)\n",
        "model_all_feature.fit(X_train,y_train)\n",
        "predicted_yield_all_feature = model_all_feature.predict(X_test)"
      ]
    },
    {
      "cell_type": "code",
      "execution_count": 32,
      "metadata": {
        "id": "QZ_8sRnAL675",
        "outputId": "527c4895-b7af-40d8-eb77-1c9c593f48d6",
        "colab": {
          "base_uri": "https://localhost:8080/"
        }
      },
      "outputs": [
        {
          "output_type": "stream",
          "name": "stdout",
          "text": [
            "RMSE:  5.91\n",
            "R2:  0.95\n"
          ]
        }
      ],
      "source": [
        "# Calculate root-mean-squared error (RMSE) & coefficient of determination\n",
        "RMSE_all =np.sqrt(mean_squared_error(y_test, predicted_yield_all_feature))\n",
        "R2_all = r2_score(y_test, predicted_yield_all_feature)\n",
        "print('RMSE: ',round(RMSE_all,2))\n",
        "print('R2: ', round(R2_all,2))"
      ]
    },
    {
      "cell_type": "code",
      "execution_count": 33,
      "metadata": {
        "id": "BcqMxPwtL675",
        "outputId": "1536fe60-99c0-4a80-8b69-2b09cb23ac86",
        "colab": {
          "base_uri": "https://localhost:8080/",
          "height": 367
        }
      },
      "outputs": [
        {
          "output_type": "execute_result",
          "data": {
            "text/plain": [
              "<matplotlib.legend.Legend at 0x7f11cbdab4c0>"
            ]
          },
          "metadata": {},
          "execution_count": 33
        },
        {
          "output_type": "display_data",
          "data": {
            "text/plain": [
              "<Figure size 360x360 with 1 Axes>"
            ],
            "image/png": "[encoded data removed]"
          },
          "metadata": {
            "needs_background": "light"
          }
        }
      ],
      "source": [
        "# Plot predicted and observed yields\n",
        "plt.figure(figsize=(5,5))\n",
        "sns.regplot(x=predicted_yield_all_feature, y=y_test,line_kws={\"lw\":2,'ls':'--','color':'black',\"alpha\":0.7})\n",
        "plt.xlabel('Predicted Yield', color='blue')\n",
        "plt.ylabel('Observed Yield', color ='blue')\n",
        "plt.xlim(0,100)\n",
        "plt.ylim(0,100)\n",
        "plt.title(\"Yield prediction for C-N cross-coupling\", color='red')\n",
        "plt.grid(alpha=0.2)\n",
        "R2_all = mpatches.Patch(label=\"R2={:04.2f}\".format(R2_all))\n",
        "RMSE_all = mpatches.Patch(label=\"RMSE={:4.2f}\".format(RMSE_all))\n",
        "plt.legend(handles=[R2_all, RMSE_all])"
      ]
    },
    {
      "cell_type": "markdown",
      "metadata": {
        "id": "ItaVeUfDL676"
      },
      "source": [
        "<div style= \" border-style:dotted;text-align:left;color:blue;font-size:25px;border-radius: 10px;padding: 20px 20px;\">\n",
        "3. Prediction of Enantioselectivity\n",
        "</div>"
      ]
    },
    {
      "cell_type": "markdown",
      "metadata": {
        "id": "u9_fbA19L676"
      },
      "source": [
        "\n",
        "<div>\n",
        "    <img src = \"Enantioselective.JPG\", width = \"500\">\n",
        "  </div>\n",
        "    \n",
        "  Reference 1: [Zahrt et al ](https://www.ncbi.nlm.nih.gov/pmc/articles/PMC6417887/)  \n",
        "  Reference 2: [Sandfort et al ](https://www.sciencedirect.com/science/article/pii/S2451929420300851) "
      ]
    },
    {
      "cell_type": "code",
      "execution_count": 34,
      "metadata": {
        "id": "kcLq_EXwL676",
        "outputId": "2db63ffe-6409-41b8-f3c8-9e0bc8b71c57",
        "colab": {
          "base_uri": "https://localhost:8080/",
          "height": 206
        }
      },
      "outputs": [
        {
          "output_type": "execute_result",
          "data": {
            "text/plain": [
              "                                            Catalyst  \\\n",
              "0  O=P1(O)OC2=C(C3=CC=CC=C3)C=C4C(C=CC=C4)=C2C5=C...   \n",
              "1  O=P1(O)OC2=C(C3=CC=CC=C3)C=C4C(C=CC=C4)=C2C5=C...   \n",
              "2  O=P1(O)OC2=C(C3=CC=CC=C3)C=C4C(C=CC=C4)=C2C5=C...   \n",
              "3  O=P1(O)OC2=C(C3=CC=CC=C3)C=C4C(C=CC=C4)=C2C5=C...   \n",
              "4  O=P1(O)OC2=C(C3=CC=CC=C3)C=C4C(C=CC=C4)=C2C5=C...   \n",
              "\n",
              "                                        Imine             Thiol    Output  \n",
              "0            O=C(C1=CC=CC=C1)/N=C/C2=CC=CC=C2      SC1=CC=CC=C1  1.179891  \n",
              "1            O=C(C1=CC=CC=C1)/N=C/C2=CC=CC=C2               CCS  0.501759  \n",
              "2            O=C(C1=CC=CC=C1)/N=C/C2=CC=CC=C2         SC1CCCCC1  0.650584  \n",
              "3            O=C(C1=CC=CC=C1)/N=C/C2=CC=CC=C2  SC1=CC=C(OC)C=C1  1.238109  \n",
              "4  O=C(C1=CC=CC=C1)/N=C/C2=CC=C(C(F)(F)F)C=C2      SC1=CC=CC=C1  1.179891  "
            ],
            "text/html": [
              "\n",
              "  <div id=\"df-a7d06017-10ec-4814-a490-04820967a0b0\">\n",
              "    <div class=\"colab-df-container\">\n",
              "      <div>\n",
              "<style scoped>\n",
              "    .dataframe tbody tr th:only-of-type {\n",
              "        vertical-align: middle;\n",
              "    }\n",
              "\n",
              "    .dataframe tbody tr th {\n",
              "        vertical-align: top;\n",
              "    }\n",
              "\n",
              "    .dataframe thead th {\n",
              "        text-align: right;\n",
              "    }\n",
              "</style>\n",
              "<table border=\"1\" class=\"dataframe\">\n",
              "  <thead>\n",
              "    <tr style=\"text-align: right;\">\n",
              "      <th></th>\n",
              "      <th>Catalyst</th>\n",
              "      <th>Imine</th>\n",
              "      <th>Thiol</th>\n",
              "      <th>Output</th>\n",
              "    </tr>\n",
              "  </thead>\n",
              "  <tbody>\n",
              "    <tr>\n",
              "      <th>0</th>\n",
              "      <td>O=P1(O)OC2=C(C3=CC=CC=C3)C=C4C(C=CC=C4)=C2C5=C...</td>\n",
              "      <td>O=C(C1=CC=CC=C1)/N=C/C2=CC=CC=C2</td>\n",
              "      <td>SC1=CC=CC=C1</td>\n",
              "      <td>1.179891</td>\n",
              "    </tr>\n",
              "    <tr>\n",
              "      <th>1</th>\n",
              "      <td>O=P1(O)OC2=C(C3=CC=CC=C3)C=C4C(C=CC=C4)=C2C5=C...</td>\n",
              "      <td>O=C(C1=CC=CC=C1)/N=C/C2=CC=CC=C2</td>\n",
              "      <td>CCS</td>\n",
              "      <td>0.501759</td>\n",
              "    </tr>\n",
              "    <tr>\n",
              "      <th>2</th>\n",
              "      <td>O=P1(O)OC2=C(C3=CC=CC=C3)C=C4C(C=CC=C4)=C2C5=C...</td>\n",
              "      <td>O=C(C1=CC=CC=C1)/N=C/C2=CC=CC=C2</td>\n",
              "      <td>SC1CCCCC1</td>\n",
              "      <td>0.650584</td>\n",
              "    </tr>\n",
              "    <tr>\n",
              "      <th>3</th>\n",
              "      <td>O=P1(O)OC2=C(C3=CC=CC=C3)C=C4C(C=CC=C4)=C2C5=C...</td>\n",
              "      <td>O=C(C1=CC=CC=C1)/N=C/C2=CC=CC=C2</td>\n",
              "      <td>SC1=CC=C(OC)C=C1</td>\n",
              "      <td>1.238109</td>\n",
              "    </tr>\n",
              "    <tr>\n",
              "      <th>4</th>\n",
              "      <td>O=P1(O)OC2=C(C3=CC=CC=C3)C=C4C(C=CC=C4)=C2C5=C...</td>\n",
              "      <td>O=C(C1=CC=CC=C1)/N=C/C2=CC=C(C(F)(F)F)C=C2</td>\n",
              "      <td>SC1=CC=CC=C1</td>\n",
              "      <td>1.179891</td>\n",
              "    </tr>\n",
              "  </tbody>\n",
              "</table>\n",
              "</div>\n",
              "      <button class=\"colab-df-convert\" onclick=\"convertToInteractive('df-a7d06017-10ec-4814-a490-04820967a0b0')\"\n",
              "              title=\"Convert this dataframe to an interactive table.\"\n",
              "              style=\"display:none;\">\n",
              "        \n",
              "  <svg xmlns=\"http://www.w3.org/2000/svg\" height=\"24px\"viewBox=\"0 0 24 24\"\n",
              "       width=\"24px\">\n",
              "    <path d=\"M0 0h24v24H0V0z\" fill=\"none\"/>\n",
              "    <path d=\"M18.56 5.44l.94 2.06.94-2.06 2.06-.94-2.06-.94-.94-2.06-.94 2.06-2.06.94zm-11 1L8.5 8.5l.94-2.06 2.06-.94-2.06-.94L8.5 2.5l-.94 2.06-2.06.94zm10 10l.94 2.06.94-2.06 2.06-.94-2.06-.94-.94-2.06-.94 2.06-2.06.94z\"/><path d=\"M17.41 7.96l-1.37-1.37c-.4-.4-.92-.59-1.43-.59-.52 0-1.04.2-1.43.59L10.3 9.45l-7.72 7.72c-.78.78-.78 2.05 0 2.83L4 21.41c.39.39.9.59 1.41.59.51 0 1.02-.2 1.41-.59l7.78-7.78 2.81-2.81c.8-.78.8-2.07 0-2.86zM5.41 20L4 18.59l7.72-7.72 1.47 1.35L5.41 20z\"/>\n",
              "  </svg>\n",
              "      </button>\n",
              "      \n",
              "  <style>\n",
              "    .colab-df-container {\n",
              "      display:flex;\n",
              "      flex-wrap:wrap;\n",
              "      gap: 12px;\n",
              "    }\n",
              "\n",
              "    .colab-df-convert {\n",
              "      background-color: #E8F0FE;\n",
              "      border: none;\n",
              "      border-radius: 50%;\n",
              "      cursor: pointer;\n",
              "      display: none;\n",
              "      fill: #1967D2;\n",
              "      height: 32px;\n",
              "      padding: 0 0 0 0;\n",
              "      width: 32px;\n",
              "    }\n",
              "\n",
              "    .colab-df-convert:hover {\n",
              "      background-color: #E2EBFA;\n",
              "      box-shadow: 0px 1px 2px rgba(60, 64, 67, 0.3), 0px 1px 3px 1px rgba(60, 64, 67, 0.15);\n",
              "      fill: #174EA6;\n",
              "    }\n",
              "\n",
              "    [theme=dark] .colab-df-convert {\n",
              "      background-color: #3B4455;\n",
              "      fill: #D2E3FC;\n",
              "    }\n",
              "\n",
              "    [theme=dark] .colab-df-convert:hover {\n",
              "      background-color: #434B5C;\n",
              "      box-shadow: 0px 1px 3px 1px rgba(0, 0, 0, 0.15);\n",
              "      filter: drop-shadow(0px 1px 2px rgba(0, 0, 0, 0.3));\n",
              "      fill: #FFFFFF;\n",
              "    }\n",
              "  </style>\n",
              "\n",
              "      <script>\n",
              "        const buttonEl =\n",
              "          document.querySelector('#df-a7d06017-10ec-4814-a490-04820967a0b0 button.colab-df-convert');\n",
              "        buttonEl.style.display =\n",
              "          google.colab.kernel.accessAllowed ? 'block' : 'none';\n",
              "\n",
              "        async function convertToInteractive(key) {\n",
              "          const element = document.querySelector('#df-a7d06017-10ec-4814-a490-04820967a0b0');\n",
              "          const dataTable =\n",
              "            await google.colab.kernel.invokeFunction('convertToInteractive',\n",
              "                                                     [key], {});\n",
              "          if (!dataTable) return;\n",
              "\n",
              "          const docLinkHtml = 'Like what you see? Visit the ' +\n",
              "            '<a target=\"_blank\" href=https://colab.research.google.com/notebooks/data_table.ipynb>data table notebook</a>'\n",
              "            + ' to learn more about interactive tables.';\n",
              "          element.innerHTML = '';\n",
              "          dataTable['output_type'] = 'display_data';\n",
              "          await google.colab.output.renderOutput(dataTable, element);\n",
              "          const docLink = document.createElement('div');\n",
              "          docLink.innerHTML = docLinkHtml;\n",
              "          element.appendChild(docLink);\n",
              "        }\n",
              "      </script>\n",
              "    </div>\n",
              "  </div>\n",
              "  "
            ]
          },
          "metadata": {},
          "execution_count": 34
        }
      ],
      "source": [
        "Enantioselective = pd.read_csv('https://raw.githubusercontent.com/gashawmg/Avalon-fingerprints-for-machine-learning/main/Denmark_input_data.csv')\n",
        "Enantioselective.head()"
      ]
    },
    {
      "cell_type": "code",
      "execution_count": 35,
      "metadata": {
        "id": "fR1HDseKL676",
        "outputId": "395a0734-807c-4ae1-eebe-5ae57ecb142d",
        "colab": {
          "base_uri": "https://localhost:8080/"
        }
      },
      "outputs": [
        {
          "output_type": "stream",
          "name": "stderr",
          "text": [
            "100%|██████████| 1075/1075 [00:04<00:00, 236.36it/s]\n",
            "100%|██████████| 1075/1075 [00:00<00:00, 1579.56it/s]\n",
            "100%|██████████| 1075/1075 [00:00<00:00, 3739.98it/s]\n"
          ]
        }
      ],
      "source": [
        "# Calculate fingerprints for reactants\n",
        "catalyst_fpts =  Calculate_Avfps(Enantioselective['Catalyst'], 2048)\n",
        "imine_fpts =  Calculate_Avfps(Enantioselective['Imine'], 1024)\n",
        "thiol_fpts =  Calculate_Avfps(Enantioselective['Thiol'], 1024)"
      ]
    },
    {
      "cell_type": "code",
      "execution_count": 36,
      "metadata": {
        "id": "QM0X6NGdL676",
        "outputId": "badcfae2-6ec4-4fd6-aa32-49ecadf827e4",
        "colab": {
          "base_uri": "https://localhost:8080/"
        }
      },
      "outputs": [
        {
          "output_type": "execute_result",
          "data": {
            "text/plain": [
              "(1075, 4096)"
            ]
          },
          "metadata": {},
          "execution_count": 36
        }
      ],
      "source": [
        "# Concatenate fingerprints of starting materials\n",
        "concatenated_fpts = np.concatenate([catalyst_fpts,imine_fpts,thiol_fpts],axis=1)\n",
        "concatenated_fpts.shape"
      ]
    },
    {
      "cell_type": "code",
      "execution_count": 37,
      "metadata": {
        "id": "m0y8Frm0L676",
        "outputId": "8d1d5b3c-7d53-45d0-9f77-7d9985a1b511",
        "colab": {
          "base_uri": "https://localhost:8080/",
          "height": 488
        }
      },
      "outputs": [
        {
          "output_type": "execute_result",
          "data": {
            "text/plain": [
              "      Col_A_1  Col_A_2  Col_A_3  Col_A_4  Col_A_5  Col_A_6  Col_A_7  Col_A_8  \\\n",
              "0           0        0        0        0        0        0        0        0   \n",
              "1           0        0        0        0        0        0        0        0   \n",
              "2           0        0        0        0        0        0        0        0   \n",
              "3           0        0        0        0        0        0        0        0   \n",
              "4           0        0        0        0        0        0        0        0   \n",
              "...       ...      ...      ...      ...      ...      ...      ...      ...   \n",
              "1070        0        0        0        0        0        0        0        0   \n",
              "1071        0        0        0        0        0        0        0        0   \n",
              "1072        0        0        0        0        0        0        0        0   \n",
              "1073        0        0        0        0        0        0        0        0   \n",
              "1074        0        0        0        0        0        0        0        0   \n",
              "\n",
              "      Col_A_9  Col_A_10  ...  Col_A_4087  Col_A_4088  Col_A_4089  Col_A_4090  \\\n",
              "0           0         0  ...           0           0           0           0   \n",
              "1           0         0  ...           0           0           0           0   \n",
              "2           0         0  ...           0           0           0           0   \n",
              "3           0         0  ...           0           0           0           0   \n",
              "4           0         0  ...           0           0           0           0   \n",
              "...       ...       ...  ...         ...         ...         ...         ...   \n",
              "1070        0         0  ...           0           0           0           0   \n",
              "1071        0         0  ...           0           0           0           0   \n",
              "1072        0         0  ...           0           0           0           0   \n",
              "1073        0         0  ...           0           0           0           0   \n",
              "1074        0         0  ...           0           0           0           0   \n",
              "\n",
              "      Col_A_4091  Col_A_4092  Col_A_4093  Col_A_4094  Col_A_4095  Col_A_4096  \n",
              "0              0           0           0           0           0           0  \n",
              "1              0           0           0           0           0           0  \n",
              "2              0           0           0           0           0           0  \n",
              "3              0           0           0           0           0           0  \n",
              "4              0           0           0           0           0           0  \n",
              "...          ...         ...         ...         ...         ...         ...  \n",
              "1070           0           0           0           0           0           0  \n",
              "1071           0           0           0           0           0           0  \n",
              "1072           0           0           0           0           0           0  \n",
              "1073           0           0           0           0           0           0  \n",
              "1074           0           0           0           0           0           0  \n",
              "\n",
              "[1075 rows x 4096 columns]"
            ],
            "text/html": [
              "\n",
              "  <div id=\"df-3c4037cb-dd30-4a7e-b080-15b62fc94dbe\">\n",
              "    <div class=\"colab-df-container\">\n",
              "      <div>\n",
              "<style scoped>\n",
              "    .dataframe tbody tr th:only-of-type {\n",
              "        vertical-align: middle;\n",
              "    }\n",
              "\n",
              "    .dataframe tbody tr th {\n",
              "        vertical-align: top;\n",
              "    }\n",
              "\n",
              "    .dataframe thead th {\n",
              "        text-align: right;\n",
              "    }\n",
              "</style>\n",
              "<table border=\"1\" class=\"dataframe\">\n",
              "  <thead>\n",
              "    <tr style=\"text-align: right;\">\n",
              "      <th></th>\n",
              "      <th>Col_A_1</th>\n",
              "      <th>Col_A_2</th>\n",
              "      <th>Col_A_3</th>\n",
              "      <th>Col_A_4</th>\n",
              "      <th>Col_A_5</th>\n",
              "      <th>Col_A_6</th>\n",
              "      <th>Col_A_7</th>\n",
              "      <th>Col_A_8</th>\n",
              "      <th>Col_A_9</th>\n",
              "      <th>Col_A_10</th>\n",
              "      <th>...</th>\n",
              "      <th>Col_A_4087</th>\n",
              "      <th>Col_A_4088</th>\n",
              "      <th>Col_A_4089</th>\n",
              "      <th>Col_A_4090</th>\n",
              "      <th>Col_A_4091</th>\n",
              "      <th>Col_A_4092</th>\n",
              "      <th>Col_A_4093</th>\n",
              "      <th>Col_A_4094</th>\n",
              "      <th>Col_A_4095</th>\n",
              "      <th>Col_A_4096</th>\n",
              "    </tr>\n",
              "  </thead>\n",
              "  <tbody>\n",
              "    <tr>\n",
              "      <th>0</th>\n",
              "      <td>0</td>\n",
              "      <td>0</td>\n",
              "      <td>0</td>\n",
              "      <td>0</td>\n",
              "      <td>0</td>\n",
              "      <td>0</td>\n",
              "      <td>0</td>\n",
              "      <td>0</td>\n",
              "      <td>0</td>\n",
              "      <td>0</td>\n",
              "      <td>...</td>\n",
              "      <td>0</td>\n",
              "      <td>0</td>\n",
              "      <td>0</td>\n",
              "      <td>0</td>\n",
              "      <td>0</td>\n",
              "      <td>0</td>\n",
              "      <td>0</td>\n",
              "      <td>0</td>\n",
              "      <td>0</td>\n",
              "      <td>0</td>\n",
              "    </tr>\n",
              "    <tr>\n",
              "      <th>1</th>\n",
              "      <td>0</td>\n",
              "      <td>0</td>\n",
              "      <td>0</td>\n",
              "      <td>0</td>\n",
              "      <td>0</td>\n",
              "      <td>0</td>\n",
              "      <td>0</td>\n",
              "      <td>0</td>\n",
              "      <td>0</td>\n",
              "      <td>0</td>\n",
              "      <td>...</td>\n",
              "      <td>0</td>\n",
              "      <td>0</td>\n",
              "      <td>0</td>\n",
              "      <td>0</td>\n",
              "      <td>0</td>\n",
              "      <td>0</td>\n",
              "      <td>0</td>\n",
              "      <td>0</td>\n",
              "      <td>0</td>\n",
              "      <td>0</td>\n",
              "    </tr>\n",
              "    <tr>\n",
              "      <th>2</th>\n",
              "      <td>0</td>\n",
              "      <td>0</td>\n",
              "      <td>0</td>\n",
              "      <td>0</td>\n",
              "      <td>0</td>\n",
              "      <td>0</td>\n",
              "      <td>0</td>\n",
              "      <td>0</td>\n",
              "      <td>0</td>\n",
              "      <td>0</td>\n",
              "      <td>...</td>\n",
              "      <td>0</td>\n",
              "      <td>0</td>\n",
              "      <td>0</td>\n",
              "      <td>0</td>\n",
              "      <td>0</td>\n",
              "      <td>0</td>\n",
              "      <td>0</td>\n",
              "      <td>0</td>\n",
              "      <td>0</td>\n",
              "      <td>0</td>\n",
              "    </tr>\n",
              "    <tr>\n",
              "      <th>3</th>\n",
              "      <td>0</td>\n",
              "      <td>0</td>\n",
              "      <td>0</td>\n",
              "      <td>0</td>\n",
              "      <td>0</td>\n",
              "      <td>0</td>\n",
              "      <td>0</td>\n",
              "      <td>0</td>\n",
              "      <td>0</td>\n",
              "      <td>0</td>\n",
              "      <td>...</td>\n",
              "      <td>0</td>\n",
              "      <td>0</td>\n",
              "      <td>0</td>\n",
              "      <td>0</td>\n",
              "      <td>0</td>\n",
              "      <td>0</td>\n",
              "      <td>0</td>\n",
              "      <td>0</td>\n",
              "      <td>0</td>\n",
              "      <td>0</td>\n",
              "    </tr>\n",
              "    <tr>\n",
              "      <th>4</th>\n",
              "      <td>0</td>\n",
              "      <td>0</td>\n",
              "      <td>0</td>\n",
              "      <td>0</td>\n",
              "      <td>0</td>\n",
              "      <td>0</td>\n",
              "      <td>0</td>\n",
              "      <td>0</td>\n",
              "      <td>0</td>\n",
              "      <td>0</td>\n",
              "      <td>...</td>\n",
              "      <td>0</td>\n",
              "      <td>0</td>\n",
              "      <td>0</td>\n",
              "      <td>0</td>\n",
              "      <td>0</td>\n",
              "      <td>0</td>\n",
              "      <td>0</td>\n",
              "      <td>0</td>\n",
              "      <td>0</td>\n",
              "      <td>0</td>\n",
              "    </tr>\n",
              "    <tr>\n",
              "      <th>...</th>\n",
              "      <td>...</td>\n",
              "      <td>...</td>\n",
              "      <td>...</td>\n",
              "      <td>...</td>\n",
              "      <td>...</td>\n",
              "      <td>...</td>\n",
              "      <td>...</td>\n",
              "      <td>...</td>\n",
              "      <td>...</td>\n",
              "      <td>...</td>\n",
              "      <td>...</td>\n",
              "      <td>...</td>\n",
              "      <td>...</td>\n",
              "      <td>...</td>\n",
              "      <td>...</td>\n",
              "      <td>...</td>\n",
              "      <td>...</td>\n",
              "      <td>...</td>\n",
              "      <td>...</td>\n",
              "      <td>...</td>\n",
              "      <td>...</td>\n",
              "    </tr>\n",
              "    <tr>\n",
              "      <th>1070</th>\n",
              "      <td>0</td>\n",
              "      <td>0</td>\n",
              "      <td>0</td>\n",
              "      <td>0</td>\n",
              "      <td>0</td>\n",
              "      <td>0</td>\n",
              "      <td>0</td>\n",
              "      <td>0</td>\n",
              "      <td>0</td>\n",
              "      <td>0</td>\n",
              "      <td>...</td>\n",
              "      <td>0</td>\n",
              "      <td>0</td>\n",
              "      <td>0</td>\n",
              "      <td>0</td>\n",
              "      <td>0</td>\n",
              "      <td>0</td>\n",
              "      <td>0</td>\n",
              "      <td>0</td>\n",
              "      <td>0</td>\n",
              "      <td>0</td>\n",
              "    </tr>\n",
              "    <tr>\n",
              "      <th>1071</th>\n",
              "      <td>0</td>\n",
              "      <td>0</td>\n",
              "      <td>0</td>\n",
              "      <td>0</td>\n",
              "      <td>0</td>\n",
              "      <td>0</td>\n",
              "      <td>0</td>\n",
              "      <td>0</td>\n",
              "      <td>0</td>\n",
              "      <td>0</td>\n",
              "      <td>...</td>\n",
              "      <td>0</td>\n",
              "      <td>0</td>\n",
              "      <td>0</td>\n",
              "      <td>0</td>\n",
              "      <td>0</td>\n",
              "      <td>0</td>\n",
              "      <td>0</td>\n",
              "      <td>0</td>\n",
              "      <td>0</td>\n",
              "      <td>0</td>\n",
              "    </tr>\n",
              "    <tr>\n",
              "      <th>1072</th>\n",
              "      <td>0</td>\n",
              "      <td>0</td>\n",
              "      <td>0</td>\n",
              "      <td>0</td>\n",
              "      <td>0</td>\n",
              "      <td>0</td>\n",
              "      <td>0</td>\n",
              "      <td>0</td>\n",
              "      <td>0</td>\n",
              "      <td>0</td>\n",
              "      <td>...</td>\n",
              "      <td>0</td>\n",
              "      <td>0</td>\n",
              "      <td>0</td>\n",
              "      <td>0</td>\n",
              "      <td>0</td>\n",
              "      <td>0</td>\n",
              "      <td>0</td>\n",
              "      <td>0</td>\n",
              "      <td>0</td>\n",
              "      <td>0</td>\n",
              "    </tr>\n",
              "    <tr>\n",
              "      <th>1073</th>\n",
              "      <td>0</td>\n",
              "      <td>0</td>\n",
              "      <td>0</td>\n",
              "      <td>0</td>\n",
              "      <td>0</td>\n",
              "      <td>0</td>\n",
              "      <td>0</td>\n",
              "      <td>0</td>\n",
              "      <td>0</td>\n",
              "      <td>0</td>\n",
              "      <td>...</td>\n",
              "      <td>0</td>\n",
              "      <td>0</td>\n",
              "      <td>0</td>\n",
              "      <td>0</td>\n",
              "      <td>0</td>\n",
              "      <td>0</td>\n",
              "      <td>0</td>\n",
              "      <td>0</td>\n",
              "      <td>0</td>\n",
              "      <td>0</td>\n",
              "    </tr>\n",
              "    <tr>\n",
              "      <th>1074</th>\n",
              "      <td>0</td>\n",
              "      <td>0</td>\n",
              "      <td>0</td>\n",
              "      <td>0</td>\n",
              "      <td>0</td>\n",
              "      <td>0</td>\n",
              "      <td>0</td>\n",
              "      <td>0</td>\n",
              "      <td>0</td>\n",
              "      <td>0</td>\n",
              "      <td>...</td>\n",
              "      <td>0</td>\n",
              "      <td>0</td>\n",
              "      <td>0</td>\n",
              "      <td>0</td>\n",
              "      <td>0</td>\n",
              "      <td>0</td>\n",
              "      <td>0</td>\n",
              "      <td>0</td>\n",
              "      <td>0</td>\n",
              "      <td>0</td>\n",
              "    </tr>\n",
              "  </tbody>\n",
              "</table>\n",
              "<p>1075 rows × 4096 columns</p>\n",
              "</div>\n",
              "      <button class=\"colab-df-convert\" onclick=\"convertToInteractive('df-3c4037cb-dd30-4a7e-b080-15b62fc94dbe')\"\n",
              "              title=\"Convert this dataframe to an interactive table.\"\n",
              "              style=\"display:none;\">\n",
              "        \n",
              "  <svg xmlns=\"http://www.w3.org/2000/svg\" height=\"24px\"viewBox=\"0 0 24 24\"\n",
              "       width=\"24px\">\n",
              "    <path d=\"M0 0h24v24H0V0z\" fill=\"none\"/>\n",
              "    <path d=\"M18.56 5.44l.94 2.06.94-2.06 2.06-.94-2.06-.94-.94-2.06-.94 2.06-2.06.94zm-11 1L8.5 8.5l.94-2.06 2.06-.94-2.06-.94L8.5 2.5l-.94 2.06-2.06.94zm10 10l.94 2.06.94-2.06 2.06-.94-2.06-.94-.94-2.06-.94 2.06-2.06.94z\"/><path d=\"M17.41 7.96l-1.37-1.37c-.4-.4-.92-.59-1.43-.59-.52 0-1.04.2-1.43.59L10.3 9.45l-7.72 7.72c-.78.78-.78 2.05 0 2.83L4 21.41c.39.39.9.59 1.41.59.51 0 1.02-.2 1.41-.59l7.78-7.78 2.81-2.81c.8-.78.8-2.07 0-2.86zM5.41 20L4 18.59l7.72-7.72 1.47 1.35L5.41 20z\"/>\n",
              "  </svg>\n",
              "      </button>\n",
              "      \n",
              "  <style>\n",
              "    .colab-df-container {\n",
              "      display:flex;\n",
              "      flex-wrap:wrap;\n",
              "      gap: 12px;\n",
              "    }\n",
              "\n",
              "    .colab-df-convert {\n",
              "      background-color: #E8F0FE;\n",
              "      border: none;\n",
              "      border-radius: 50%;\n",
              "      cursor: pointer;\n",
              "      display: none;\n",
              "      fill: #1967D2;\n",
              "      height: 32px;\n",
              "      padding: 0 0 0 0;\n",
              "      width: 32px;\n",
              "    }\n",
              "\n",
              "    .colab-df-convert:hover {\n",
              "      background-color: #E2EBFA;\n",
              "      box-shadow: 0px 1px 2px rgba(60, 64, 67, 0.3), 0px 1px 3px 1px rgba(60, 64, 67, 0.15);\n",
              "      fill: #174EA6;\n",
              "    }\n",
              "\n",
              "    [theme=dark] .colab-df-convert {\n",
              "      background-color: #3B4455;\n",
              "      fill: #D2E3FC;\n",
              "    }\n",
              "\n",
              "    [theme=dark] .colab-df-convert:hover {\n",
              "      background-color: #434B5C;\n",
              "      box-shadow: 0px 1px 3px 1px rgba(0, 0, 0, 0.15);\n",
              "      filter: drop-shadow(0px 1px 2px rgba(0, 0, 0, 0.3));\n",
              "      fill: #FFFFFF;\n",
              "    }\n",
              "  </style>\n",
              "\n",
              "      <script>\n",
              "        const buttonEl =\n",
              "          document.querySelector('#df-3c4037cb-dd30-4a7e-b080-15b62fc94dbe button.colab-df-convert');\n",
              "        buttonEl.style.display =\n",
              "          google.colab.kernel.accessAllowed ? 'block' : 'none';\n",
              "\n",
              "        async function convertToInteractive(key) {\n",
              "          const element = document.querySelector('#df-3c4037cb-dd30-4a7e-b080-15b62fc94dbe');\n",
              "          const dataTable =\n",
              "            await google.colab.kernel.invokeFunction('convertToInteractive',\n",
              "                                                     [key], {});\n",
              "          if (!dataTable) return;\n",
              "\n",
              "          const docLinkHtml = 'Like what you see? Visit the ' +\n",
              "            '<a target=\"_blank\" href=https://colab.research.google.com/notebooks/data_table.ipynb>data table notebook</a>'\n",
              "            + ' to learn more about interactive tables.';\n",
              "          element.innerHTML = '';\n",
              "          dataTable['output_type'] = 'display_data';\n",
              "          await google.colab.output.renderOutput(dataTable, element);\n",
              "          const docLink = document.createElement('div');\n",
              "          docLink.innerHTML = docLinkHtml;\n",
              "          element.appendChild(docLink);\n",
              "        }\n",
              "      </script>\n",
              "    </div>\n",
              "  </div>\n",
              "  "
            ]
          },
          "metadata": {},
          "execution_count": 37
        }
      ],
      "source": [
        "# Put them in a dataframe\n",
        "Enan_concatenated_df = pd.DataFrame(concatenated_fpts,columns=['Col_A_{}'.format(i + 1) for i in range(concatenated_fpts.shape[1])])\n",
        "Enan_concatenated_df"
      ]
    },
    {
      "cell_type": "code",
      "execution_count": 38,
      "metadata": {
        "id": "8rBzHf7lL676",
        "outputId": "81d941ec-d405-44af-89d0-ef9153ebd628",
        "colab": {
          "base_uri": "https://localhost:8080/"
        }
      },
      "outputs": [
        {
          "output_type": "execute_result",
          "data": {
            "text/plain": [
              "(1075, 4096)"
            ]
          },
          "metadata": {},
          "execution_count": 38
        }
      ],
      "source": [
        "Enan_concatenated_df.shape"
      ]
    },
    {
      "cell_type": "code",
      "execution_count": 39,
      "metadata": {
        "id": "PVYvf3OsL676",
        "outputId": "581a7fa3-5e12-48ea-a4c3-57a991d5ea66",
        "colab": {
          "base_uri": "https://localhost:8080/"
        }
      },
      "outputs": [
        {
          "output_type": "stream",
          "name": "stdout",
          "text": [
            "{'fit_time': array([4.77544117, 4.70985723, 4.57765269, 4.53587508, 4.63581324,\n",
            "       4.53056622, 4.48078871, 4.51655078, 4.92185736, 6.80211425]), 'score_time': array([0.05463314, 0.06620574, 0.05784583, 0.0532887 , 0.05948424,\n",
            "       0.05601931, 0.05593157, 0.05920053, 0.09303141, 0.05861664]), 'test_r2': array([0.90705316, 0.91493223, 0.91442174, 0.90377117, 0.89953987,\n",
            "       0.90361321, 0.89020908, 0.89501053, 0.89632396, 0.91219771]), 'test_neg_mean_absolute_error': array([-0.14157402, -0.13957821, -0.14215863, -0.14813604, -0.15217813,\n",
            "       -0.13714181, -0.14863539, -0.1487419 , -0.15457277, -0.14704008])}\n",
            "Total time required: 52.12 seconds\n"
          ]
        }
      ],
      "source": [
        "# Random forest model for enantioselective reaction\n",
        "model_rf_enan = RandomForestRegressor(random_state=42)\n",
        "\n",
        "# start time\n",
        "start = time.time()\n",
        "\n",
        "# from Sklearn -shuffle and split data \n",
        "cv = ShuffleSplit(n_splits=10, test_size = 0.441, random_state=42)\n",
        "\n",
        "scoring = ['r2','neg_mean_absolute_error']\n",
        "scores_enan = cross_validate(model_rf_enan, Enan_concatenated_df,  Enantioselective.Output, scoring=scoring, cv=cv)\n",
        "\n",
        "\n",
        "print(scores_enan)\n",
        "# wait for 3 seconds\n",
        "\n",
        "time.sleep(3)\n",
        "# get the end time\n",
        "end = time.time()\n",
        "\n",
        "# get the execution time\n",
        "total_time = end - start\n",
        "print('Total time required:', round(total_time, 2), 'seconds') # takes about 19 seconds"
      ]
    },
    {
      "cell_type": "code",
      "execution_count": 40,
      "metadata": {
        "id": "5KKLiuObL676",
        "outputId": "ee82f808-4053-4292-c889-5241c0349b80",
        "colab": {
          "base_uri": "https://localhost:8080/"
        }
      },
      "outputs": [
        {
          "output_type": "stream",
          "name": "stdout",
          "text": [
            "R^2 : 0.904\n",
            "MAE : 0.146\n"
          ]
        }
      ],
      "source": [
        "# Mean values of tenfold cross-validation values of R^2 and MAE\n",
        "\n",
        "print(\"R^2 :\", round(np.mean(scores_enan['test_r2']), 3))\n",
        "print(\"MAE :\", round(np.mean(-scores_enan['test_neg_mean_absolute_error']), 3))"
      ]
    },
    {
      "cell_type": "markdown",
      "metadata": {
        "id": "JS6-COknL677"
      },
      "source": [
        " [Sandfort et al ](https://www.sciencedirect.com/science/article/pii/S2451929420300851) \n",
        "<div>\n",
        "   <img src = \"Enantioselective_graph.JPG\",align =\"left\", width = \"400\"/>\n",
        " </div>\n"
      ]
    },
    {
      "cell_type": "code",
      "execution_count": 41,
      "metadata": {
        "id": "IvsFu4pkL677"
      },
      "outputs": [],
      "source": [
        "# Train-test split\n",
        "X_train_enan, X_test_enan, y_train_enan, y_test_enan = train_test_split(Enan_concatenated_df, Enantioselective.Output, \n",
        "                                                test_size = 0.441, shuffle=True,random_state=42)"
      ]
    },
    {
      "cell_type": "code",
      "execution_count": 42,
      "metadata": {
        "id": "5TZ-VmTkL677"
      },
      "outputs": [],
      "source": [
        "# Model training and prediction\n",
        "# All the features are used\n",
        "model_enan = RandomForestRegressor(random_state=42)\n",
        "model_enan.fit(X_train_enan,y_train_enan)\n",
        "predicted_yield_enan = model_enan.predict(X_test_enan)"
      ]
    },
    {
      "cell_type": "code",
      "execution_count": 43,
      "metadata": {
        "id": "qKzV7oCtL677",
        "outputId": "56b7fce7-51d1-49bc-e7a3-e9581e9527ad",
        "colab": {
          "base_uri": "https://localhost:8080/"
        }
      },
      "outputs": [
        {
          "output_type": "stream",
          "name": "stdout",
          "text": [
            "MAE: 0.142\n",
            "R2:  0.91\n"
          ]
        }
      ],
      "source": [
        "# Calculate root-mean-squared error (RMSE) & coefficient of determination\n",
        "# Model performance using MAE\n",
        "MAE_enan = mean_absolute_error(y_test_enan, predicted_yield_enan)\n",
        "print('MAE:', round(MAE_enan,3))\n",
        "R2_enan = r2_score(y_test_enan, predicted_yield_enan)\n",
        "print('R2: ', round(R2_enan,2))"
      ]
    },
    {
      "cell_type": "code",
      "execution_count": 44,
      "metadata": {
        "id": "3PaALIfjL677",
        "outputId": "7508a525-fd71-466f-ce3f-05401ca01e5d",
        "colab": {
          "base_uri": "https://localhost:8080/",
          "height": 367
        }
      },
      "outputs": [
        {
          "output_type": "execute_result",
          "data": {
            "text/plain": [
              "<matplotlib.legend.Legend at 0x7f11cadd7df0>"
            ]
          },
          "metadata": {},
          "execution_count": 44
        },
        {
          "output_type": "display_data",
          "data": {
            "text/plain": [
              "<Figure size 360x360 with 1 Axes>"
            ],
            "image/png": "[encoded data removed]"
          },
          "metadata": {
            "needs_background": "light"
          }
        }
      ],
      "source": [
        "# Plot predicted and observed yields\n",
        "plt.figure(figsize=(5,5))\n",
        "sns.regplot(x=predicted_yield_enan, y=y_test_enan,line_kws={\"lw\":2,'ls':'--','color':'black',\"alpha\":0.7})\n",
        "plt.xlabel('Predicted (kcal/mol)', color='blue')\n",
        "plt.ylabel('Observed (kcal/mol)', color ='blue')\n",
        "plt.title(\"Random Forest for Enantioselectivity\", color='red')\n",
        "plt.grid(alpha=0.2)\n",
        "R2_enan = mpatches.Patch(label=\"R2={:04.2f}\".format(R2_enan))\n",
        "MAE_enan = mpatches.Patch(label=\"MAE={:4.3f}\".format(MAE_enan))\n",
        "plt.legend(handles=[R2_enan, MAE_enan])"
      ]
    },
    {
      "cell_type": "markdown",
      "metadata": {
        "id": "lOyOl3bcL677"
      },
      "source": [
        "<div style=\"text-align:left;color:blue;font-size:25px;border-radius: 10px;padding: 20px 20px;\"><strong>Practice Problems</strong></div>"
      ]
    },
    {
      "cell_type": "markdown",
      "metadata": {
        "id": "aqTORemCL677"
      },
      "source": [
        "1. Use any of the other molecular fingerprints that we calculated in the previous [video](https://www.youtube.com/watch?v=-oHqQBUyrQ0), and calculate the molecular fingerprints of each of the three datasets that we used in this video.\n",
        "2. Use a Random Forest model and apply a 10-fold cross-validation with 70% of the data for the training and 30% for testing. \n",
        "3. Compare your results with the results of Avalon fingerprints  "
      ]
    },
    {
      "cell_type": "markdown",
      "metadata": {
        "id": "Zid2OLELL677"
      },
      "source": [
        "<div style=\"text-align:left;color:green;font-size:25px;border-radius: 10px;padding: 20px 20px;\"><strong>Summary:</strong></div>\n",
        "Using Avalon fingerprints as an example, we have developed predictive models for three different types of chemistry problems, HOMO-LUMO energy gap, yield and enantioselective reactions. Hopefully, in the next video, I will show you how to combine results obtained from machine learning and molecular docking to identify potentially active compounds. Stay tuned!"
      ]
    }
  ],
  "metadata": {
    "kernelspec": {
      "display_name": "Python 3",
      "language": "python",
      "name": "python3"
    },
    "language_info": {
      "codemirror_mode": {
        "name": "ipython",
        "version": 3
      },
      "file_extension": ".py",
      "mimetype": "text/x-python",
      "name": "python",
      "nbconvert_exporter": "python",
      "pygments_lexer": "ipython3",
      "version": "3.8.5"
    },
    "colab": {
      "provenance": [],
      "include_colab_link": true
    }
  },
  "nbformat": 4,
  "nbformat_minor": 0
}